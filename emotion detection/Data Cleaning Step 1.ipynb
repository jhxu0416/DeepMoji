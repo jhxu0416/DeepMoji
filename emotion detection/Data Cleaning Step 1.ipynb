{
 "cells": [
  {
   "cell_type": "code",
   "execution_count": 1,
   "metadata": {},
   "outputs": [],
   "source": [
    "from platform import python_version\n",
    "import pandas as pd\n",
    "import re\n",
    "from langdetect import detect "
   ]
  },
  {
   "cell_type": "markdown",
   "metadata": {},
   "source": [
    "# Clean data\n",
    "Filter non English text and remove duplicates."
   ]
  },
  {
   "cell_type": "code",
   "execution_count": 3,
   "metadata": {},
   "outputs": [],
   "source": [
    "def english_only(text_list):\n",
    "    en_text = []\n",
    "    counter = 0\n",
    "    for text in text_list:\n",
    "        lang = \"\"\n",
    "        try:\n",
    "            lang = detect(text)\n",
    "        except Exception:\n",
    "            pass\n",
    "        if lang == \"en\":\n",
    "            en_text.append(text)\n",
    "        counter += 1\n",
    "        if counter % 5000 == 0:\n",
    "            print(\"{}/{} done\").format(counter, len(text_list))\n",
    "    return en_text\n"
   ]
  },
  {
   "cell_type": "markdown",
   "metadata": {},
   "source": [
    "## Positive \n",
    "Text with emoji FACE WITH TEARS OF JOY: 😂"
   ]
  },
  {
   "cell_type": "code",
   "execution_count": 11,
   "metadata": {},
   "outputs": [
    {
     "name": "stdout",
     "output_type": "stream",
     "text": [
      "5000/87029 done\n",
      "10000/87029 done\n",
      "15000/87029 done\n",
      "20000/87029 done\n",
      "25000/87029 done\n",
      "30000/87029 done\n",
      "35000/87029 done\n",
      "40000/87029 done\n",
      "45000/87029 done\n",
      "50000/87029 done\n",
      "55000/87029 done\n",
      "60000/87029 done\n",
      "65000/87029 done\n",
      "70000/87029 done\n",
      "75000/87029 done\n",
      "80000/87029 done\n",
      "85000/87029 done\n",
      "31597 happiness text detected\n"
     ]
    }
   ],
   "source": [
    "df = pd.read_csv(\"data/raw/positive.csv\", encoding= \"utf-8\")\n",
    "positive_text = english_only(list(df[\"text\"]))"
   ]
  },
  {
   "cell_type": "code",
   "execution_count": 30,
   "metadata": {},
   "outputs": [
    {
     "name": "stdout",
     "output_type": "stream",
     "text": [
      "31549 positive text detected\n"
     ]
    },
    {
     "data": {
      "text/html": [
       "<div>\n",
       "<style scoped>\n",
       "    .dataframe tbody tr th:only-of-type {\n",
       "        vertical-align: middle;\n",
       "    }\n",
       "\n",
       "    .dataframe tbody tr th {\n",
       "        vertical-align: top;\n",
       "    }\n",
       "\n",
       "    .dataframe thead th {\n",
       "        text-align: right;\n",
       "    }\n",
       "</style>\n",
       "<table border=\"1\" class=\"dataframe\">\n",
       "  <thead>\n",
       "    <tr style=\"text-align: right;\">\n",
       "      <th></th>\n",
       "      <th>label</th>\n",
       "      <th>text</th>\n",
       "    </tr>\n",
       "  </thead>\n",
       "  <tbody>\n",
       "    <tr>\n",
       "      <th>0</th>\n",
       "      <td>0</td>\n",
       "      <td>can we just stop and admire the beautiful view...</td>\n",
       "    </tr>\n",
       "    <tr>\n",
       "      <th>1</th>\n",
       "      <td>0</td>\n",
       "      <td>@whydontwemusic Daniels face expression is lik...</td>\n",
       "    </tr>\n",
       "    <tr>\n",
       "      <th>2</th>\n",
       "      <td>0</td>\n",
       "      <td>my \"Not-$0-Fav\" contestants in\\n#BB11\\n\\n1 #Hi...</td>\n",
       "    </tr>\n",
       "    <tr>\n",
       "      <th>3</th>\n",
       "      <td>0</td>\n",
       "      <td>@Sammyracing 😂</td>\n",
       "    </tr>\n",
       "    <tr>\n",
       "      <th>4</th>\n",
       "      <td>0</td>\n",
       "      <td>Scots must be better now 😂 https://t.co/EjDLl...</td>\n",
       "    </tr>\n",
       "  </tbody>\n",
       "</table>\n",
       "</div>"
      ],
      "text/plain": [
       "   label                                               text\n",
       "0      0  can we just stop and admire the beautiful view...\n",
       "1      0  @whydontwemusic Daniels face expression is lik...\n",
       "2      0  my \"Not-$0-Fav\" contestants in\\n#BB11\\n\\n1 #Hi...\n",
       "3      0                                    @Sammyracing 😂\n",
       "4      0  Scots must be better now 😂 https://t.co/EjDLl..."
      ]
     },
     "execution_count": 30,
     "metadata": {},
     "output_type": "execute_result"
    }
   ],
   "source": [
    "print(\"{} positive text detected\".format(len(set(positive_text))))\n",
    "df_clean = pd.DataFrame.from_dict({\n",
    "    \"text\": list(set(positive_text)),\n",
    "    \"label\": 0\n",
    "})\n",
    "df_clean.head()"
   ]
  },
  {
   "cell_type": "code",
   "execution_count": 28,
   "metadata": {},
   "outputs": [],
   "source": [
    "df_clean.to_csv(\"data/clean/positive.csv\", \n",
    "                index = False, encoding='utf-8-sig')"
   ]
  },
  {
   "cell_type": "markdown",
   "metadata": {},
   "source": [
    "## Slightly positive \n",
    "Text with emoji SMILING FACE WITH SMILING EYES: 😊"
   ]
  },
  {
   "cell_type": "code",
   "execution_count": 35,
   "metadata": {},
   "outputs": [
    {
     "name": "stdout",
     "output_type": "stream",
     "text": [
      "5000/87062 done\n",
      "10000/87062 done\n",
      "15000/87062 done\n",
      "20000/87062 done\n",
      "25000/87062 done\n",
      "30000/87062 done\n",
      "35000/87062 done\n",
      "40000/87062 done\n",
      "45000/87062 done\n",
      "50000/87062 done\n",
      "55000/87062 done\n",
      "60000/87062 done\n",
      "65000/87062 done\n",
      "70000/87062 done\n",
      "75000/87062 done\n",
      "80000/87062 done\n",
      "85000/87062 done\n"
     ]
    }
   ],
   "source": [
    "df = pd.read_csv(\"data/raw/slightly_positive.csv\", encoding= \"utf-8\")\n",
    "slightly_positive_text = english_only(list(df[\"text\"]))"
   ]
  },
  {
   "cell_type": "code",
   "execution_count": 36,
   "metadata": {},
   "outputs": [
    {
     "name": "stdout",
     "output_type": "stream",
     "text": [
      "34806 positive text detected\n"
     ]
    },
    {
     "data": {
      "text/html": [
       "<div>\n",
       "<style scoped>\n",
       "    .dataframe tbody tr th:only-of-type {\n",
       "        vertical-align: middle;\n",
       "    }\n",
       "\n",
       "    .dataframe tbody tr th {\n",
       "        vertical-align: top;\n",
       "    }\n",
       "\n",
       "    .dataframe thead th {\n",
       "        text-align: right;\n",
       "    }\n",
       "</style>\n",
       "<table border=\"1\" class=\"dataframe\">\n",
       "  <thead>\n",
       "    <tr style=\"text-align: right;\">\n",
       "      <th></th>\n",
       "      <th>label</th>\n",
       "      <th>text</th>\n",
       "    </tr>\n",
       "  </thead>\n",
       "  <tbody>\n",
       "    <tr>\n",
       "      <th>0</th>\n",
       "      <td>1</td>\n",
       "      <td>@PenPure1 @FidTradZ101 @Kacy1000 We did have c...</td>\n",
       "    </tr>\n",
       "    <tr>\n",
       "      <th>1</th>\n",
       "      <td>1</td>\n",
       "      <td>When I’m high I️ see how fucked up my life is,...</td>\n",
       "    </tr>\n",
       "    <tr>\n",
       "      <th>2</th>\n",
       "      <td>1</td>\n",
       "      <td>Cold As Fire. 😊 https://t.co/dzOFBYaQrq</td>\n",
       "    </tr>\n",
       "    <tr>\n",
       "      <th>3</th>\n",
       "      <td>1</td>\n",
       "      <td>Moving to W Aramis, love hotel in Kabukicho, f...</td>\n",
       "    </tr>\n",
       "    <tr>\n",
       "      <th>4</th>\n",
       "      <td>1</td>\n",
       "      <td>Circa1986... 😊 #throwback #flashback #oldphot...</td>\n",
       "    </tr>\n",
       "  </tbody>\n",
       "</table>\n",
       "</div>"
      ],
      "text/plain": [
       "   label                                               text\n",
       "0      1  @PenPure1 @FidTradZ101 @Kacy1000 We did have c...\n",
       "1      1  When I’m high I️ see how fucked up my life is,...\n",
       "2      1           Cold As Fire. 😊 https://t.co/dzOFBYaQrq\n",
       "3      1  Moving to W Aramis, love hotel in Kabukicho, f...\n",
       "4      1  Circa1986... 😊 #throwback #flashback #oldphot..."
      ]
     },
     "execution_count": 36,
     "metadata": {},
     "output_type": "execute_result"
    }
   ],
   "source": [
    "print(\"{} positive text detected\".format(len(set(slightly_positive_text))))\n",
    "df_clean = pd.DataFrame.from_dict({\n",
    "    \"text\": list(set(slightly_positive_text)),\n",
    "    \"label\": 1\n",
    "})\n",
    "df_clean.head()"
   ]
  },
  {
   "cell_type": "code",
   "execution_count": 37,
   "metadata": {},
   "outputs": [],
   "source": [
    "df_clean.to_csv(\"data/clean/slightly_positive.csv\", \n",
    "                index = False, encoding='utf-8-sig')"
   ]
  },
  {
   "cell_type": "markdown",
   "metadata": {},
   "source": [
    "## Slightly negative \n",
    "Text with emoji UNAMUSED FACE: 😒"
   ]
  },
  {
   "cell_type": "code",
   "execution_count": 17,
   "metadata": {},
   "outputs": [
    {
     "name": "stdout",
     "output_type": "stream",
     "text": [
      "5000/174084 done\n",
      "10000/174084 done\n",
      "15000/174084 done\n",
      "20000/174084 done\n",
      "25000/174084 done\n",
      "30000/174084 done\n",
      "35000/174084 done\n",
      "40000/174084 done\n",
      "45000/174084 done\n",
      "50000/174084 done\n",
      "55000/174084 done\n",
      "60000/174084 done\n",
      "65000/174084 done\n",
      "70000/174084 done\n",
      "75000/174084 done\n",
      "80000/174084 done\n",
      "85000/174084 done\n",
      "90000/174084 done\n",
      "95000/174084 done\n",
      "100000/174084 done\n",
      "105000/174084 done\n",
      "110000/174084 done\n",
      "115000/174084 done\n",
      "120000/174084 done\n",
      "125000/174084 done\n",
      "130000/174084 done\n",
      "135000/174084 done\n",
      "140000/174084 done\n",
      "145000/174084 done\n",
      "150000/174084 done\n",
      "155000/174084 done\n",
      "160000/174084 done\n",
      "165000/174084 done\n",
      "170000/174084 done\n",
      "56222 happiness text detected\n"
     ]
    }
   ],
   "source": [
    "df = pd.read_csv(\"data/raw/slightly_negative.csv\", encoding= \"utf-8\")\n",
    "slightly_negative_text = english_only(list(df[\"text\"]))"
   ]
  },
  {
   "cell_type": "code",
   "execution_count": 39,
   "metadata": {},
   "outputs": [
    {
     "name": "stdout",
     "output_type": "stream",
     "text": [
      "28486 slightly negative text detected\n"
     ]
    },
    {
     "data": {
      "text/html": [
       "<div>\n",
       "<style scoped>\n",
       "    .dataframe tbody tr th:only-of-type {\n",
       "        vertical-align: middle;\n",
       "    }\n",
       "\n",
       "    .dataframe tbody tr th {\n",
       "        vertical-align: top;\n",
       "    }\n",
       "\n",
       "    .dataframe thead th {\n",
       "        text-align: right;\n",
       "    }\n",
       "</style>\n",
       "<table border=\"1\" class=\"dataframe\">\n",
       "  <thead>\n",
       "    <tr style=\"text-align: right;\">\n",
       "      <th></th>\n",
       "      <th>label</th>\n",
       "      <th>text</th>\n",
       "    </tr>\n",
       "  </thead>\n",
       "  <tbody>\n",
       "    <tr>\n",
       "      <th>0</th>\n",
       "      <td>2</td>\n",
       "      <td>Want some crawfish &amp;amp; a spicy pickle like r...</td>\n",
       "    </tr>\n",
       "    <tr>\n",
       "      <th>1</th>\n",
       "      <td>2</td>\n",
       "      <td>Sad thing I don’t get my car till Monday 😒</td>\n",
       "    </tr>\n",
       "    <tr>\n",
       "      <th>2</th>\n",
       "      <td>2</td>\n",
       "      <td>@BreitbartNews NAACP is getting embarrassing 😒</td>\n",
       "    </tr>\n",
       "    <tr>\n",
       "      <th>3</th>\n",
       "      <td>2</td>\n",
       "      <td>Can the Shakes Mashaba brigade please sit down...</td>\n",
       "    </tr>\n",
       "    <tr>\n",
       "      <th>4</th>\n",
       "      <td>2</td>\n",
       "      <td>I have a love &amp;amp; hate relationship with gro...</td>\n",
       "    </tr>\n",
       "  </tbody>\n",
       "</table>\n",
       "</div>"
      ],
      "text/plain": [
       "   label                                               text\n",
       "0      2  Want some crawfish &amp; a spicy pickle like r...\n",
       "1      2        Sad thing I don’t get my car till Monday 😒\n",
       "2      2    @BreitbartNews NAACP is getting embarrassing 😒\n",
       "3      2  Can the Shakes Mashaba brigade please sit down...\n",
       "4      2  I have a love &amp; hate relationship with gro..."
      ]
     },
     "execution_count": 39,
     "metadata": {},
     "output_type": "execute_result"
    }
   ],
   "source": [
    "print(\"{} slightly negative text detected\".format(\n",
    "    len(set(slightly_negative_text))))\n",
    "df_clean = pd.DataFrame.from_dict({\n",
    "    \"text\": list(set(slightly_negative_text)),\n",
    "    \"label\": 2\n",
    "})\n",
    "df_clean.head()"
   ]
  },
  {
   "cell_type": "code",
   "execution_count": 40,
   "metadata": {},
   "outputs": [],
   "source": [
    "df_clean.to_csv(\"data/clean/slightly_negative.csv\", \n",
    "                index = False, encoding='utf-8-sig')"
   ]
  },
  {
   "cell_type": "markdown",
   "metadata": {},
   "source": [
    "## Negative \n",
    "Text with emoji LOUDLY CRYING FACE: 😭"
   ]
  },
  {
   "cell_type": "code",
   "execution_count": 41,
   "metadata": {},
   "outputs": [
    {
     "name": "stdout",
     "output_type": "stream",
     "text": [
      "5000/87019 done\n",
      "10000/87019 done\n",
      "15000/87019 done\n",
      "20000/87019 done\n",
      "25000/87019 done\n",
      "30000/87019 done\n",
      "35000/87019 done\n",
      "40000/87019 done\n",
      "45000/87019 done\n",
      "50000/87019 done\n",
      "55000/87019 done\n",
      "60000/87019 done\n",
      "65000/87019 done\n",
      "70000/87019 done\n",
      "75000/87019 done\n",
      "80000/87019 done\n",
      "85000/87019 done\n"
     ]
    }
   ],
   "source": [
    "df = pd.read_csv(\"data/raw/negative.csv\", encoding= \"utf-8\")\n",
    "negative_text = english_only(list(df[\"text\"]))"
   ]
  },
  {
   "cell_type": "code",
   "execution_count": 42,
   "metadata": {},
   "outputs": [
    {
     "name": "stdout",
     "output_type": "stream",
     "text": [
      "37283 negative text detected\n"
     ]
    }
   ],
   "source": [
    "print(\"{} negative text detected\".format(len(set(negative_text))))\n",
    "df_clean = pd.DataFrame.from_dict({\n",
    "    \"text\": list(set(negative_text)),\n",
    "    \"label\": 3\n",
    "})\n",
    "df_clean.head()"
   ]
  },
  {
   "cell_type": "code",
   "execution_count": 45,
   "metadata": {},
   "outputs": [],
   "source": [
    "df_clean.to_csv(\"data/clean/negative.csv\", \n",
    "                index = False, encoding='utf-8-sig')"
   ]
  }
 ],
 "metadata": {
  "kernelspec": {
   "display_name": "Python (DeepMoji)",
   "language": "python",
   "name": "deepmoji"
  },
  "language_info": {
   "codemirror_mode": {
    "name": "ipython",
    "version": 2
   },
   "file_extension": ".py",
   "mimetype": "text/x-python",
   "name": "python",
   "nbconvert_exporter": "python",
   "pygments_lexer": "ipython2",
   "version": "2.7.16"
  }
 },
 "nbformat": 4,
 "nbformat_minor": 2
}
