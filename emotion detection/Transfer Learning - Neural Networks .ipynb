{
 "cells": [
  {
   "cell_type": "code",
   "execution_count": 1,
   "metadata": {},
   "outputs": [],
   "source": [
    "import numpy as np\n",
    "np.random.seed(888)"
   ]
  },
  {
   "cell_type": "code",
   "execution_count": 2,
   "metadata": {},
   "outputs": [
    {
     "name": "stderr",
     "output_type": "stream",
     "text": [
      "Using TensorFlow backend.\n"
     ]
    }
   ],
   "source": [
    "import matplotlib.pyplot as plt\n",
    "from IPython.display import SVG\n",
    "from keras.models import Sequential\n",
    "from keras.layers import Dense, Activation, Dropout\n",
    "from keras.utils import model_to_dot\n",
    "from keras.callbacks.callbacks import EarlyStopping"
   ]
  },
  {
   "cell_type": "markdown",
   "metadata": {},
   "source": [
    "## Read train, valid, test data set"
   ]
  },
  {
   "cell_type": "code",
   "execution_count": 3,
   "metadata": {},
   "outputs": [],
   "source": [
    "train_data = np.load(\"data/train_data.npy\")\n",
    "train_label = np.load(\"data/train_label.npy\")\n",
    "\n",
    "valid_data = np.load(\"data/valid_data.npy\")\n",
    "valid_label = np.load(\"data/valid_label.npy\")\n",
    "\n",
    "test_data = np.load(\"data/test_data.npy\")\n",
    "test_label = np.load(\"data/test_label.npy\")"
   ]
  },
  {
   "cell_type": "code",
   "execution_count": 4,
   "metadata": {},
   "outputs": [],
   "source": [
    "monitor = EarlyStopping(monitor='val_loss', min_delta=1e-3, patience=5, verbose=1, mode='auto')\n"
   ]
  },
  {
   "cell_type": "markdown",
   "metadata": {},
   "source": [
    "## Neural Network 1"
   ]
  },
  {
   "cell_type": "code",
   "execution_count": 5,
   "metadata": {},
   "outputs": [],
   "source": [
    "model_1 = Sequential()\n",
    "model_1.add(Dense(4, input_shape=(2304,)))\n",
    "model_1.add(Activation('softmax'))\n",
    "model_1.compile(optimizer='adam',\n",
    "                loss='categorical_crossentropy',\n",
    "                metrics=['accuracy'])"
   ]
  },
  {
   "cell_type": "code",
   "execution_count": 6,
   "metadata": {},
   "outputs": [
    {
     "data": {
      "image/svg+xml": [
       "<svg height=\"255pt\" viewBox=\"0.00 0.00 175.24 191.00\" width=\"234pt\" xmlns=\"http://www.w3.org/2000/svg\" xmlns:xlink=\"http://www.w3.org/1999/xlink\">\n",
       "<g class=\"graph\" id=\"graph0\" transform=\"scale(0.75 0.75) rotate(0) translate(4 187)\">\n",
       "<title>G</title>\n",
       "<polygon fill=\"white\" points=\"-4,4 -4,-187 171.24,-187 171.24,4 -4,4\" stroke=\"transparent\"/>\n",
       "<!-- 5132380592 -->\n",
       "<g class=\"node\" id=\"node1\">\n",
       "<title>5132380592</title>\n",
       "<polygon fill=\"none\" points=\"0,-146.5 0,-182.5 167.24,-182.5 167.24,-146.5 0,-146.5\" stroke=\"black\"/>\n",
       "<text font-family=\"Times,serif\" font-size=\"14.00\" text-anchor=\"middle\" x=\"83.62\" y=\"-160.3\">dense_1_input: InputLayer</text>\n",
       "</g>\n",
       "<!-- 5132379248 -->\n",
       "<g class=\"node\" id=\"node2\">\n",
       "<title>5132379248</title>\n",
       "<polygon fill=\"none\" points=\"31.49,-73.5 31.49,-109.5 135.75,-109.5 135.75,-73.5 31.49,-73.5\" stroke=\"black\"/>\n",
       "<text font-family=\"Times,serif\" font-size=\"14.00\" text-anchor=\"middle\" x=\"83.62\" y=\"-87.3\">dense_1: Dense</text>\n",
       "</g>\n",
       "<!-- 5132380592&#45;&gt;5132379248 -->\n",
       "<g class=\"edge\" id=\"edge1\">\n",
       "<title>5132380592-&gt;5132379248</title>\n",
       "<path d=\"M83.62,-146.31C83.62,-138.29 83.62,-128.55 83.62,-119.57\" fill=\"none\" stroke=\"black\"/>\n",
       "<polygon fill=\"black\" points=\"87.12,-119.53 83.62,-109.53 80.12,-119.53 87.12,-119.53\" stroke=\"black\"/>\n",
       "</g>\n",
       "<!-- 4465923072 -->\n",
       "<g class=\"node\" id=\"node3\">\n",
       "<title>4465923072</title>\n",
       "<polygon fill=\"none\" points=\"8.16,-0.5 8.16,-36.5 159.08,-36.5 159.08,-0.5 8.16,-0.5\" stroke=\"black\"/>\n",
       "<text font-family=\"Times,serif\" font-size=\"14.00\" text-anchor=\"middle\" x=\"83.62\" y=\"-14.3\">activation_1: Activation</text>\n",
       "</g>\n",
       "<!-- 5132379248&#45;&gt;4465923072 -->\n",
       "<g class=\"edge\" id=\"edge2\">\n",
       "<title>5132379248-&gt;4465923072</title>\n",
       "<path d=\"M83.62,-73.31C83.62,-65.29 83.62,-55.55 83.62,-46.57\" fill=\"none\" stroke=\"black\"/>\n",
       "<polygon fill=\"black\" points=\"87.12,-46.53 83.62,-36.53 80.12,-46.53 87.12,-46.53\" stroke=\"black\"/>\n",
       "</g>\n",
       "</g>\n",
       "</svg>"
      ],
      "text/plain": [
       "<IPython.core.display.SVG object>"
      ]
     },
     "execution_count": 6,
     "metadata": {},
     "output_type": "execute_result"
    }
   ],
   "source": [
    "SVG(model_to_dot(model_1).create(prog='dot', format='svg'))"
   ]
  },
  {
   "cell_type": "code",
   "execution_count": 7,
   "metadata": {},
   "outputs": [
    {
     "name": "stdout",
     "output_type": "stream",
     "text": [
      "Train on 105697 samples, validate on 13213 samples\n",
      "Epoch 1/50\n",
      "105697/105697 [==============================] - 3s 26us/step - loss: 1.2021 - accuracy: 0.5007 - val_loss: 1.0877 - val_accuracy: 0.5514\n",
      "Epoch 2/50\n",
      "105697/105697 [==============================] - 1s 10us/step - loss: 1.0514 - accuracy: 0.5562 - val_loss: 1.0185 - val_accuracy: 0.5657\n",
      "Epoch 3/50\n",
      "105697/105697 [==============================] - 1s 11us/step - loss: 1.0085 - accuracy: 0.5657 - val_loss: 0.9930 - val_accuracy: 0.5703\n",
      "Epoch 4/50\n",
      "105697/105697 [==============================] - 1s 7us/step - loss: 0.9896 - accuracy: 0.5706 - val_loss: 0.9799 - val_accuracy: 0.5735\n",
      "Epoch 5/50\n",
      "105697/105697 [==============================] - 1s 8us/step - loss: 0.9792 - accuracy: 0.5748 - val_loss: 0.9726 - val_accuracy: 0.5782\n",
      "Epoch 6/50\n",
      "105697/105697 [==============================] - 1s 8us/step - loss: 0.9723 - accuracy: 0.5783 - val_loss: 0.9677 - val_accuracy: 0.5795\n",
      "Epoch 7/50\n",
      "105697/105697 [==============================] - 1s 8us/step - loss: 0.9676 - accuracy: 0.5805 - val_loss: 0.9645 - val_accuracy: 0.5815\n",
      "Epoch 8/50\n",
      "105697/105697 [==============================] - 1s 8us/step - loss: 0.9640 - accuracy: 0.5828 - val_loss: 0.9618 - val_accuracy: 0.5829\n",
      "Epoch 9/50\n",
      "105697/105697 [==============================] - 1s 9us/step - loss: 0.9611 - accuracy: 0.5838 - val_loss: 0.9599 - val_accuracy: 0.5847\n",
      "Epoch 10/50\n",
      "105697/105697 [==============================] - 1s 9us/step - loss: 0.9588 - accuracy: 0.5850 - val_loss: 0.9584 - val_accuracy: 0.5870\n",
      "Epoch 11/50\n",
      "105697/105697 [==============================] - 1s 8us/step - loss: 0.9567 - accuracy: 0.5859 - val_loss: 0.9574 - val_accuracy: 0.5858\n",
      "Epoch 12/50\n",
      "105697/105697 [==============================] - 1s 8us/step - loss: 0.9550 - accuracy: 0.5869 - val_loss: 0.9563 - val_accuracy: 0.5875\n",
      "Epoch 13/50\n",
      "105697/105697 [==============================] - 1s 9us/step - loss: 0.9534 - accuracy: 0.5875 - val_loss: 0.9555 - val_accuracy: 0.5869\n",
      "Epoch 14/50\n",
      "105697/105697 [==============================] - 1s 9us/step - loss: 0.9522 - accuracy: 0.5884 - val_loss: 0.9547 - val_accuracy: 0.5880\n",
      "Epoch 15/50\n",
      "105697/105697 [==============================] - 1s 8us/step - loss: 0.9510 - accuracy: 0.5887 - val_loss: 0.9540 - val_accuracy: 0.5868\n",
      "Epoch 16/50\n",
      "105697/105697 [==============================] - 1s 8us/step - loss: 0.9498 - accuracy: 0.5893 - val_loss: 0.9536 - val_accuracy: 0.5875\n",
      "Epoch 17/50\n",
      "105697/105697 [==============================] - 1s 8us/step - loss: 0.9488 - accuracy: 0.5892 - val_loss: 0.9531 - val_accuracy: 0.5867\n",
      "Epoch 18/50\n",
      "105697/105697 [==============================] - 1s 8us/step - loss: 0.9478 - accuracy: 0.5903 - val_loss: 0.9528 - val_accuracy: 0.5870\n",
      "Epoch 19/50\n",
      "105697/105697 [==============================] - 1s 8us/step - loss: 0.9470 - accuracy: 0.5905 - val_loss: 0.9524 - val_accuracy: 0.5875\n",
      "Epoch 20/50\n",
      "105697/105697 [==============================] - 1s 9us/step - loss: 0.9462 - accuracy: 0.5918 - val_loss: 0.9524 - val_accuracy: 0.5878\n",
      "Epoch 21/50\n",
      "105697/105697 [==============================] - 1s 11us/step - loss: 0.9454 - accuracy: 0.5918 - val_loss: 0.9518 - val_accuracy: 0.5871\n",
      "Epoch 22/50\n",
      "105697/105697 [==============================] - 1s 8us/step - loss: 0.9446 - accuracy: 0.5920 - val_loss: 0.9516 - val_accuracy: 0.5875\n",
      "Epoch 23/50\n",
      "105697/105697 [==============================] - 1s 8us/step - loss: 0.9439 - accuracy: 0.5926 - val_loss: 0.9513 - val_accuracy: 0.5878\n",
      "Epoch 24/50\n",
      "105697/105697 [==============================] - 1s 8us/step - loss: 0.9433 - accuracy: 0.5928 - val_loss: 0.9511 - val_accuracy: 0.5868\n",
      "Epoch 25/50\n",
      "105697/105697 [==============================] - 1s 9us/step - loss: 0.9426 - accuracy: 0.5933 - val_loss: 0.9514 - val_accuracy: 0.5877\n",
      "Epoch 26/50\n",
      "105697/105697 [==============================] - 1s 9us/step - loss: 0.9421 - accuracy: 0.5938 - val_loss: 0.9515 - val_accuracy: 0.5863\n",
      "Epoch 27/50\n",
      "105697/105697 [==============================] - 1s 8us/step - loss: 0.9416 - accuracy: 0.5944 - val_loss: 0.9512 - val_accuracy: 0.5871\n",
      "Epoch 28/50\n",
      "105697/105697 [==============================] - 1s 8us/step - loss: 0.9409 - accuracy: 0.5945 - val_loss: 0.9508 - val_accuracy: 0.5862\n",
      "Epoch 00028: early stopping\n"
     ]
    }
   ],
   "source": [
    "history_1 = model_1.fit(x = train_data, y = train_label, \n",
    "                        validation_data = (valid_data, valid_label),\n",
    "                        callbacks = [monitor],\n",
    "                        epochs = 50, batch_size = 1000, \n",
    "                        shuffle = True)"
   ]
  },
  {
   "cell_type": "code",
   "execution_count": 8,
   "metadata": {},
   "outputs": [
    {
     "data": {
      "image/png": "[encoded data removed]",
      "text/plain": [
       "<Figure size 432x288 with 1 Axes>"
      ]
     },
     "metadata": {
      "needs_background": "light"
     },
     "output_type": "display_data"
    }
   ],
   "source": [
    "# Plot training & validation accuracy values\n",
    "plt.plot(history_1.history['accuracy'])\n",
    "plt.plot(history_1.history['val_accuracy'])\n",
    "plt.title('Model accuracy')\n",
    "plt.ylabel('Accuracy')\n",
    "plt.xlabel('Epoch')\n",
    "plt.legend(['Train', 'Test'], loc='upper left')\n",
    "plt.show()"
   ]
  },
  {
   "cell_type": "code",
   "execution_count": 9,
   "metadata": {},
   "outputs": [
    {
     "data": {
      "image/png": "[encoded data removed]",
      "text/plain": [
       "<Figure size 432x288 with 1 Axes>"
      ]
     },
     "metadata": {
      "needs_background": "light"
     },
     "output_type": "display_data"
    }
   ],
   "source": [
    "# Plot training & validation loss values\n",
    "plt.plot(history_1.history['loss'])\n",
    "plt.plot(history_1.history['val_loss'])\n",
    "plt.title('Model loss')\n",
    "plt.ylabel('Loss')\n",
    "plt.xlabel('Epoch')\n",
    "plt.legend(['Train', 'Test'], loc='upper left')\n",
    "plt.show()"
   ]
  },
  {
   "cell_type": "markdown",
   "metadata": {},
   "source": [
    "## Neural Network 2"
   ]
  },
  {
   "cell_type": "code",
   "execution_count": 10,
   "metadata": {},
   "outputs": [],
   "source": [
    "model_2 = Sequential()\n",
    "model_2.add(Dense(128, input_shape=(2304,), activation='tanh'))\n",
    "model_2.add(Dense(4))\n",
    "model_2.add(Activation('softmax'))\n",
    "model_2.compile(optimizer='adam',\n",
    "              loss='categorical_crossentropy',\n",
    "              metrics=['accuracy'])"
   ]
  },
  {
   "cell_type": "code",
   "execution_count": 11,
   "metadata": {},
   "outputs": [
    {
     "data": {
      "image/svg+xml": [
       "<svg height=\"352pt\" viewBox=\"0.00 0.00 175.24 264.00\" width=\"234pt\" xmlns=\"http://www.w3.org/2000/svg\" xmlns:xlink=\"http://www.w3.org/1999/xlink\">\n",
       "<g class=\"graph\" id=\"graph0\" transform=\"scale(0.75 0.75) rotate(0) translate(4 260)\">\n",
       "<title>G</title>\n",
       "<polygon fill=\"white\" points=\"-4,4 -4,-260 171.24,-260 171.24,4 -4,4\" stroke=\"transparent\"/>\n",
       "<!-- 6380940592 -->\n",
       "<g class=\"node\" id=\"node1\">\n",
       "<title>6380940592</title>\n",
       "<polygon fill=\"none\" points=\"0,-219.5 0,-255.5 167.24,-255.5 167.24,-219.5 0,-219.5\" stroke=\"black\"/>\n",
       "<text font-family=\"Times,serif\" font-size=\"14.00\" text-anchor=\"middle\" x=\"83.62\" y=\"-233.3\">dense_2_input: InputLayer</text>\n",
       "</g>\n",
       "<!-- 5132287840 -->\n",
       "<g class=\"node\" id=\"node2\">\n",
       "<title>5132287840</title>\n",
       "<polygon fill=\"none\" points=\"31.49,-146.5 31.49,-182.5 135.75,-182.5 135.75,-146.5 31.49,-146.5\" stroke=\"black\"/>\n",
       "<text font-family=\"Times,serif\" font-size=\"14.00\" text-anchor=\"middle\" x=\"83.62\" y=\"-160.3\">dense_2: Dense</text>\n",
       "</g>\n",
       "<!-- 6380940592&#45;&gt;5132287840 -->\n",
       "<g class=\"edge\" id=\"edge1\">\n",
       "<title>6380940592-&gt;5132287840</title>\n",
       "<path d=\"M83.62,-219.31C83.62,-211.29 83.62,-201.55 83.62,-192.57\" fill=\"none\" stroke=\"black\"/>\n",
       "<polygon fill=\"black\" points=\"87.12,-192.53 83.62,-182.53 80.12,-192.53 87.12,-192.53\" stroke=\"black\"/>\n",
       "</g>\n",
       "<!-- 5132287224 -->\n",
       "<g class=\"node\" id=\"node3\">\n",
       "<title>5132287224</title>\n",
       "<polygon fill=\"none\" points=\"31.49,-73.5 31.49,-109.5 135.75,-109.5 135.75,-73.5 31.49,-73.5\" stroke=\"black\"/>\n",
       "<text font-family=\"Times,serif\" font-size=\"14.00\" text-anchor=\"middle\" x=\"83.62\" y=\"-87.3\">dense_3: Dense</text>\n",
       "</g>\n",
       "<!-- 5132287840&#45;&gt;5132287224 -->\n",
       "<g class=\"edge\" id=\"edge2\">\n",
       "<title>5132287840-&gt;5132287224</title>\n",
       "<path d=\"M83.62,-146.31C83.62,-138.29 83.62,-128.55 83.62,-119.57\" fill=\"none\" stroke=\"black\"/>\n",
       "<polygon fill=\"black\" points=\"87.12,-119.53 83.62,-109.53 80.12,-119.53 87.12,-119.53\" stroke=\"black\"/>\n",
       "</g>\n",
       "<!-- 6381020608 -->\n",
       "<g class=\"node\" id=\"node4\">\n",
       "<title>6381020608</title>\n",
       "<polygon fill=\"none\" points=\"8.16,-0.5 8.16,-36.5 159.08,-36.5 159.08,-0.5 8.16,-0.5\" stroke=\"black\"/>\n",
       "<text font-family=\"Times,serif\" font-size=\"14.00\" text-anchor=\"middle\" x=\"83.62\" y=\"-14.3\">activation_2: Activation</text>\n",
       "</g>\n",
       "<!-- 5132287224&#45;&gt;6381020608 -->\n",
       "<g class=\"edge\" id=\"edge3\">\n",
       "<title>5132287224-&gt;6381020608</title>\n",
       "<path d=\"M83.62,-73.31C83.62,-65.29 83.62,-55.55 83.62,-46.57\" fill=\"none\" stroke=\"black\"/>\n",
       "<polygon fill=\"black\" points=\"87.12,-46.53 83.62,-36.53 80.12,-46.53 87.12,-46.53\" stroke=\"black\"/>\n",
       "</g>\n",
       "</g>\n",
       "</svg>"
      ],
      "text/plain": [
       "<IPython.core.display.SVG object>"
      ]
     },
     "execution_count": 11,
     "metadata": {},
     "output_type": "execute_result"
    }
   ],
   "source": [
    "SVG(model_to_dot(model_2).create(prog='dot', format='svg'))"
   ]
  },
  {
   "cell_type": "code",
   "execution_count": 12,
   "metadata": {},
   "outputs": [
    {
     "name": "stdout",
     "output_type": "stream",
     "text": [
      "Train on 105697 samples, validate on 13213 samples\n",
      "Epoch 1/50\n",
      "105697/105697 [==============================] - 2s 23us/step - loss: 1.0179 - accuracy: 0.5556 - val_loss: 0.9602 - val_accuracy: 0.5847\n",
      "Epoch 2/50\n",
      "105697/105697 [==============================] - 2s 23us/step - loss: 0.9586 - accuracy: 0.5844 - val_loss: 0.9540 - val_accuracy: 0.5878\n",
      "Epoch 3/50\n",
      "105697/105697 [==============================] - 2s 21us/step - loss: 0.9499 - accuracy: 0.5887 - val_loss: 0.9535 - val_accuracy: 0.5852\n",
      "Epoch 4/50\n",
      "105697/105697 [==============================] - 2s 21us/step - loss: 0.9458 - accuracy: 0.5910 - val_loss: 0.9529 - val_accuracy: 0.5840\n",
      "Epoch 5/50\n",
      "105697/105697 [==============================] - 2s 21us/step - loss: 0.9417 - accuracy: 0.5937 - val_loss: 0.9517 - val_accuracy: 0.5868\n",
      "Epoch 6/50\n",
      "105697/105697 [==============================] - 2s 22us/step - loss: 0.9396 - accuracy: 0.5949 - val_loss: 0.9543 - val_accuracy: 0.5869\n",
      "Epoch 7/50\n",
      "105697/105697 [==============================] - 2s 21us/step - loss: 0.9366 - accuracy: 0.5960 - val_loss: 0.9537 - val_accuracy: 0.5850\n",
      "Epoch 8/50\n",
      "105697/105697 [==============================] - 2s 21us/step - loss: 0.9361 - accuracy: 0.5963 - val_loss: 0.9553 - val_accuracy: 0.5853\n",
      "Epoch 9/50\n",
      "105697/105697 [==============================] - 3s 24us/step - loss: 0.9356 - accuracy: 0.5960 - val_loss: 0.9587 - val_accuracy: 0.5835\n",
      "Epoch 10/50\n",
      "105697/105697 [==============================] - 2s 21us/step - loss: 0.9329 - accuracy: 0.5984 - val_loss: 0.9586 - val_accuracy: 0.5837\n",
      "Epoch 00010: early stopping\n"
     ]
    }
   ],
   "source": [
    "history_2 = model_2.fit(x = train_data, y = train_label, \n",
    "                        validation_data = (valid_data, valid_label),\n",
    "                        callbacks = [monitor],\n",
    "                        epochs = 50, batch_size = 1000, \n",
    "                        shuffle = True)"
   ]
  },
  {
   "cell_type": "code",
   "execution_count": 13,
   "metadata": {},
   "outputs": [
    {
     "data": {
      "image/png": "[encoded data removed]",
      "text/plain": [
       "<Figure size 432x288 with 1 Axes>"
      ]
     },
     "metadata": {
      "needs_background": "light"
     },
     "output_type": "display_data"
    }
   ],
   "source": [
    "# Plot training & validation accuracy values\n",
    "plt.plot(history_2.history['accuracy'])\n",
    "plt.plot(history_2.history['val_accuracy'])\n",
    "plt.title('Model accuracy')\n",
    "plt.ylabel('Accuracy')\n",
    "plt.xlabel('Epoch')\n",
    "plt.legend(['Train', 'Test'], loc='upper left')\n",
    "plt.show()"
   ]
  },
  {
   "cell_type": "code",
   "execution_count": 14,
   "metadata": {},
   "outputs": [
    {
     "data": {
      "image/png": "[encoded data removed]",
      "text/plain": [
       "<Figure size 432x288 with 1 Axes>"
      ]
     },
     "metadata": {
      "needs_background": "light"
     },
     "output_type": "display_data"
    }
   ],
   "source": [
    "# Plot training & validation loss values\n",
    "plt.plot(history_2.history['loss'])\n",
    "plt.plot(history_2.history['val_loss'])\n",
    "plt.title('Model loss')\n",
    "plt.ylabel('Loss')\n",
    "plt.xlabel('Epoch')\n",
    "plt.legend(['Train', 'Test'], loc='upper left')\n",
    "plt.show()"
   ]
  },
  {
   "cell_type": "markdown",
   "metadata": {},
   "source": [
    "## Neural Network 3"
   ]
  },
  {
   "cell_type": "code",
   "execution_count": 15,
   "metadata": {},
   "outputs": [],
   "source": [
    "model_3 = Sequential()\n",
    "model_3.add(Dense(128, input_shape=(2304,), activation='tanh'))\n",
    "model_3.add(Dropout(0.5))\n",
    "model_3.add(Dense(4))\n",
    "model_3.add(Activation('softmax'))\n",
    "model_3.compile(optimizer='adam',\n",
    "              loss='categorical_crossentropy',\n",
    "              metrics=['accuracy'])"
   ]
  },
  {
   "cell_type": "code",
   "execution_count": 16,
   "metadata": {},
   "outputs": [
    {
     "data": {
      "image/svg+xml": [
       "<svg height=\"449pt\" viewBox=\"0.00 0.00 175.24 337.00\" width=\"234pt\" xmlns=\"http://www.w3.org/2000/svg\" xmlns:xlink=\"http://www.w3.org/1999/xlink\">\n",
       "<g class=\"graph\" id=\"graph0\" transform=\"scale(0.75 0.75) rotate(0) translate(4 333)\">\n",
       "<title>G</title>\n",
       "<polygon fill=\"white\" points=\"-4,4 -4,-333 171.24,-333 171.24,4 -4,4\" stroke=\"transparent\"/>\n",
       "<!-- 6381533952 -->\n",
       "<g class=\"node\" id=\"node1\">\n",
       "<title>6381533952</title>\n",
       "<polygon fill=\"none\" points=\"0,-292.5 0,-328.5 167.24,-328.5 167.24,-292.5 0,-292.5\" stroke=\"black\"/>\n",
       "<text font-family=\"Times,serif\" font-size=\"14.00\" text-anchor=\"middle\" x=\"83.62\" y=\"-306.3\">dense_4_input: InputLayer</text>\n",
       "</g>\n",
       "<!-- 4566279056 -->\n",
       "<g class=\"node\" id=\"node2\">\n",
       "<title>4566279056</title>\n",
       "<polygon fill=\"none\" points=\"31.49,-219.5 31.49,-255.5 135.75,-255.5 135.75,-219.5 31.49,-219.5\" stroke=\"black\"/>\n",
       "<text font-family=\"Times,serif\" font-size=\"14.00\" text-anchor=\"middle\" x=\"83.62\" y=\"-233.3\">dense_4: Dense</text>\n",
       "</g>\n",
       "<!-- 6381533952&#45;&gt;4566279056 -->\n",
       "<g class=\"edge\" id=\"edge1\">\n",
       "<title>6381533952-&gt;4566279056</title>\n",
       "<path d=\"M83.62,-292.31C83.62,-284.29 83.62,-274.55 83.62,-265.57\" fill=\"none\" stroke=\"black\"/>\n",
       "<polygon fill=\"black\" points=\"87.12,-265.53 83.62,-255.53 80.12,-265.53 87.12,-265.53\" stroke=\"black\"/>\n",
       "</g>\n",
       "<!-- 4566412424 -->\n",
       "<g class=\"node\" id=\"node3\">\n",
       "<title>4566412424</title>\n",
       "<polygon fill=\"none\" points=\"19.82,-146.5 19.82,-182.5 147.42,-182.5 147.42,-146.5 19.82,-146.5\" stroke=\"black\"/>\n",
       "<text font-family=\"Times,serif\" font-size=\"14.00\" text-anchor=\"middle\" x=\"83.62\" y=\"-160.3\">dropout_1: Dropout</text>\n",
       "</g>\n",
       "<!-- 4566279056&#45;&gt;4566412424 -->\n",
       "<g class=\"edge\" id=\"edge2\">\n",
       "<title>4566279056-&gt;4566412424</title>\n",
       "<path d=\"M83.62,-219.31C83.62,-211.29 83.62,-201.55 83.62,-192.57\" fill=\"none\" stroke=\"black\"/>\n",
       "<polygon fill=\"black\" points=\"87.12,-192.53 83.62,-182.53 80.12,-192.53 87.12,-192.53\" stroke=\"black\"/>\n",
       "</g>\n",
       "<!-- 4567732176 -->\n",
       "<g class=\"node\" id=\"node4\">\n",
       "<title>4567732176</title>\n",
       "<polygon fill=\"none\" points=\"31.49,-73.5 31.49,-109.5 135.75,-109.5 135.75,-73.5 31.49,-73.5\" stroke=\"black\"/>\n",
       "<text font-family=\"Times,serif\" font-size=\"14.00\" text-anchor=\"middle\" x=\"83.62\" y=\"-87.3\">dense_5: Dense</text>\n",
       "</g>\n",
       "<!-- 4566412424&#45;&gt;4567732176 -->\n",
       "<g class=\"edge\" id=\"edge3\">\n",
       "<title>4566412424-&gt;4567732176</title>\n",
       "<path d=\"M83.62,-146.31C83.62,-138.29 83.62,-128.55 83.62,-119.57\" fill=\"none\" stroke=\"black\"/>\n",
       "<polygon fill=\"black\" points=\"87.12,-119.53 83.62,-109.53 80.12,-119.53 87.12,-119.53\" stroke=\"black\"/>\n",
       "</g>\n",
       "<!-- 4567729992 -->\n",
       "<g class=\"node\" id=\"node5\">\n",
       "<title>4567729992</title>\n",
       "<polygon fill=\"none\" points=\"8.16,-0.5 8.16,-36.5 159.08,-36.5 159.08,-0.5 8.16,-0.5\" stroke=\"black\"/>\n",
       "<text font-family=\"Times,serif\" font-size=\"14.00\" text-anchor=\"middle\" x=\"83.62\" y=\"-14.3\">activation_3: Activation</text>\n",
       "</g>\n",
       "<!-- 4567732176&#45;&gt;4567729992 -->\n",
       "<g class=\"edge\" id=\"edge4\">\n",
       "<title>4567732176-&gt;4567729992</title>\n",
       "<path d=\"M83.62,-73.31C83.62,-65.29 83.62,-55.55 83.62,-46.57\" fill=\"none\" stroke=\"black\"/>\n",
       "<polygon fill=\"black\" points=\"87.12,-46.53 83.62,-36.53 80.12,-46.53 87.12,-46.53\" stroke=\"black\"/>\n",
       "</g>\n",
       "</g>\n",
       "</svg>"
      ],
      "text/plain": [
       "<IPython.core.display.SVG object>"
      ]
     },
     "execution_count": 16,
     "metadata": {},
     "output_type": "execute_result"
    }
   ],
   "source": [
    "SVG(model_to_dot(model_3).create(prog='dot', format='svg'))"
   ]
  },
  {
   "cell_type": "code",
   "execution_count": 17,
   "metadata": {},
   "outputs": [
    {
     "name": "stdout",
     "output_type": "stream",
     "text": [
      "Train on 105697 samples, validate on 13213 samples\n",
      "Epoch 1/50\n",
      "105697/105697 [==============================] - 3s 28us/step - loss: 1.0260 - accuracy: 0.5545 - val_loss: 0.9615 - val_accuracy: 0.5822\n",
      "Epoch 2/50\n",
      "105697/105697 [==============================] - 2s 20us/step - loss: 0.9690 - accuracy: 0.5800 - val_loss: 0.9560 - val_accuracy: 0.5861\n",
      "Epoch 3/50\n",
      "105697/105697 [==============================] - 2s 20us/step - loss: 0.9605 - accuracy: 0.5842 - val_loss: 0.9536 - val_accuracy: 0.5859\n",
      "Epoch 4/50\n",
      "105697/105697 [==============================] - 2s 20us/step - loss: 0.9559 - accuracy: 0.5876 - val_loss: 0.9525 - val_accuracy: 0.5868\n",
      "Epoch 5/50\n",
      "105697/105697 [==============================] - 2s 20us/step - loss: 0.9529 - accuracy: 0.5901 - val_loss: 0.9516 - val_accuracy: 0.5861\n",
      "Epoch 6/50\n",
      "105697/105697 [==============================] - 2s 21us/step - loss: 0.9509 - accuracy: 0.5895 - val_loss: 0.9513 - val_accuracy: 0.5860\n",
      "Epoch 7/50\n",
      "105697/105697 [==============================] - 2s 20us/step - loss: 0.9483 - accuracy: 0.5907 - val_loss: 0.9522 - val_accuracy: 0.5875\n",
      "Epoch 8/50\n",
      "105697/105697 [==============================] - 2s 23us/step - loss: 0.9463 - accuracy: 0.5925 - val_loss: 0.9547 - val_accuracy: 0.5847\n",
      "Epoch 9/50\n",
      "105697/105697 [==============================] - 2s 21us/step - loss: 0.9446 - accuracy: 0.5929 - val_loss: 0.9533 - val_accuracy: 0.5831\n",
      "Epoch 10/50\n",
      "105697/105697 [==============================] - 2s 20us/step - loss: 0.9433 - accuracy: 0.5944 - val_loss: 0.9546 - val_accuracy: 0.5846\n",
      "Epoch 11/50\n",
      "105697/105697 [==============================] - 2s 20us/step - loss: 0.9431 - accuracy: 0.5944 - val_loss: 0.9555 - val_accuracy: 0.5850\n",
      "Epoch 00011: early stopping\n"
     ]
    }
   ],
   "source": [
    "history_3 = model_3.fit(x = train_data, y = train_label, \n",
    "                        validation_data = (valid_data, valid_label),\n",
    "                        callbacks = [monitor],\n",
    "                        epochs = 50, batch_size = 1000, \n",
    "                        shuffle = True)"
   ]
  },
  {
   "cell_type": "code",
   "execution_count": 18,
   "metadata": {},
   "outputs": [
    {
     "data": {
      "image/png": "[encoded data removed]",
      "text/plain": [
       "<Figure size 432x288 with 1 Axes>"
      ]
     },
     "metadata": {
      "needs_background": "light"
     },
     "output_type": "display_data"
    }
   ],
   "source": [
    "# Plot training & validation accuracy values\n",
    "plt.plot(history_3.history['accuracy'])\n",
    "plt.plot(history_3.history['val_accuracy'])\n",
    "plt.title('Model accuracy')\n",
    "plt.ylabel('Accuracy')\n",
    "plt.xlabel('Epoch')\n",
    "plt.legend(['Train', 'Test'], loc='upper left')\n",
    "plt.show()"
   ]
  },
  {
   "cell_type": "code",
   "execution_count": 19,
   "metadata": {},
   "outputs": [
    {
     "data": {
      "image/png": "[encoded data removed]",
      "text/plain": [
       "<Figure size 432x288 with 1 Axes>"
      ]
     },
     "metadata": {
      "needs_background": "light"
     },
     "output_type": "display_data"
    }
   ],
   "source": [
    "# Plot training & validation loss values\n",
    "plt.plot(history_3.history['loss'])\n",
    "plt.plot(history_3.history['val_loss'])\n",
    "plt.title('Model loss')\n",
    "plt.ylabel('Loss')\n",
    "plt.xlabel('Epoch')\n",
    "plt.legend(['Train', 'Test'], loc='upper left')\n",
    "plt.show()"
   ]
  },
  {
   "cell_type": "markdown",
   "metadata": {},
   "source": [
    "## Model selection\n",
    "\n",
    "Choose model 1 as the final model becasuse it has highest validation accuracy"
   ]
  },
  {
   "cell_type": "markdown",
   "metadata": {},
   "source": [
    "## Error Analysis"
   ]
  },
  {
   "cell_type": "code",
   "execution_count": 20,
   "metadata": {},
   "outputs": [],
   "source": [
    "# https://scikit-learn.org/stable/auto_examples/model_selection/plot_confusion_matrix.html\n",
    "from sklearn.metrics import confusion_matrix\n",
    "from sklearn.utils.multiclass import unique_labels\n",
    "\n",
    "def plot_confusion_matrix(y_true, y_pred, classes,\n",
    "                          normalize=False,\n",
    "                          title=None,\n",
    "                          cmap=plt.cm.Blues):\n",
    "    \"\"\"\n",
    "    This function prints and plots the confusion matrix.\n",
    "    Normalization can be applied by setting `normalize=True`.\n",
    "    \"\"\"\n",
    "    if not title:\n",
    "        if normalize:\n",
    "            title = 'Normalized confusion matrix'\n",
    "        else:\n",
    "            title = 'Confusion matrix, without normalization'\n",
    "\n",
    "    # Compute confusion matrix\n",
    "    cm = confusion_matrix(y_true, y_pred)\n",
    "    # Only use the labels that appear in the data\n",
    "    classes = classes[unique_labels(y_true, y_pred)]\n",
    "    if normalize:\n",
    "        cm = cm.astype('float') / cm.sum(axis=1)[:, np.newaxis]\n",
    "        print(\"Normalized confusion matrix\")\n",
    "    else:\n",
    "        print('Confusion matrix, without normalization')\n",
    "\n",
    "    print(cm)\n",
    "\n",
    "    fig, ax = plt.subplots()\n",
    "    im = ax.imshow(cm, interpolation='nearest', cmap=cmap)\n",
    "    ax.figure.colorbar(im, ax=ax)\n",
    "    # We want to show all ticks...\n",
    "    ax.set(xticks=np.arange(cm.shape[1]),\n",
    "           yticks=np.arange(cm.shape[0]),\n",
    "           # ... and label them with the respective list entries\n",
    "           xticklabels=classes, yticklabels=classes,\n",
    "           title=title,\n",
    "           ylabel='True label',\n",
    "           xlabel='Predicted label')\n",
    "\n",
    "    # Rotate the tick labels and set their alignment.\n",
    "    plt.setp(ax.get_xticklabels(), rotation=45, ha=\"right\",\n",
    "             rotation_mode=\"anchor\")\n",
    "\n",
    "    # Loop over data dimensions and create text annotations.\n",
    "    fmt = '.2f' if normalize else 'd'\n",
    "    thresh = cm.max() / 2.\n",
    "    for i in range(cm.shape[0]):\n",
    "        for j in range(cm.shape[1]):\n",
    "            ax.text(j, i, format(cm[i, j], fmt),\n",
    "                    ha=\"center\", va=\"center\",\n",
    "                    color=\"white\" if cm[i, j] > thresh else \"black\")\n",
    "    fig.tight_layout()\n",
    "    return ax\n"
   ]
  },
  {
   "cell_type": "code",
   "execution_count": 21,
   "metadata": {},
   "outputs": [],
   "source": [
    "pred = model_1.predict(valid_data)"
   ]
  },
  {
   "cell_type": "code",
   "execution_count": 22,
   "metadata": {},
   "outputs": [],
   "source": [
    "y_true = np.argmax(valid_label, axis = 1)\n",
    "y_pred = np.argmax(pred, axis = 1)"
   ]
  },
  {
   "cell_type": "code",
   "execution_count": 23,
   "metadata": {},
   "outputs": [
    {
     "name": "stdout",
     "output_type": "stream",
     "text": [
      "Confusion matrix, without normalization\n",
      "[[1541  512  491  611]\n",
      " [ 458 2532  184  307]\n",
      " [ 531  202 1553  563]\n",
      " [ 643  431  535 2119]]\n"
     ]
    },
    {
     "data": {
      "image/png": "[encoded data removed]",
      "text/plain": [
       "<Figure size 432x288 with 2 Axes>"
      ]
     },
     "metadata": {
      "needs_background": "light"
     },
     "output_type": "display_data"
    }
   ],
   "source": [
    "plot_confusion_matrix(y_true = y_true, \n",
    "                      y_pred = y_pred, \n",
    "                      classes=np.array([\"0\", \"1\", \"2\", \"3\"]),\n",
    "                      title='Confusion matrix')\n",
    "plt.show()"
   ]
  },
  {
   "cell_type": "code",
   "execution_count": null,
   "metadata": {},
   "outputs": [],
   "source": []
  },
  {
   "cell_type": "code",
   "execution_count": 45,
   "metadata": {},
   "outputs": [
    {
     "name": "stdout",
     "output_type": "stream",
     "text": [
      "12581/12581 [==============================] - 0s 19us/step\n"
     ]
    },
    {
     "data": {
      "text/plain": [
       "[1.128836075119824, 0.4690406024456024]"
      ]
     },
     "execution_count": 45,
     "metadata": {},
     "output_type": "execute_result"
    }
   ],
   "source": [
    "# This code allows you to see the mislabelled examples\n",
    "C = 5\n",
    "y_test_oh = np.eye(C)[Y_test.reshape(-1)]\n",
    "X_test_indices = sentences_to_indices(X_test, word_to_index, maxLen)\n",
    "pred = model.predict(X_test_indices)\n",
    "for i in range(len(X_test)):\n",
    "    x = X_test_indices\n",
    "    num = np.argmax(pred[i])\n",
    "    if(num != Y_test[i]):\n",
    "        print('Expected emoji:'+ label_to_emoji(Y_test[i]) + ' prediction: '+ X_test[i] + label_to_emoji(num).strip())"
   ]
  }
 ],
 "metadata": {
  "kernelspec": {
   "display_name": "Python (ML)",
   "language": "python",
   "name": "ml"
  },
  "language_info": {
   "codemirror_mode": {
    "name": "ipython",
    "version": 3
   },
   "file_extension": ".py",
   "mimetype": "text/x-python",
   "name": "python",
   "nbconvert_exporter": "python",
   "pygments_lexer": "ipython3",
   "version": "3.6.9"
  }
 },
 "nbformat": 4,
 "nbformat_minor": 2
}
