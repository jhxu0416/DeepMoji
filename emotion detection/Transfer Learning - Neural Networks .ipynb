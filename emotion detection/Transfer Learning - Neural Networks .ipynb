{
 "cells": [
  {
   "cell_type": "code",
   "execution_count": 1,
   "metadata": {},
   "outputs": [],
   "source": [
    "import numpy as np\n",
    "np.random.seed(888)"
   ]
  },
  {
   "cell_type": "code",
   "execution_count": 2,
   "metadata": {},
   "outputs": [
    {
     "name": "stderr",
     "output_type": "stream",
     "text": [
      "Using TensorFlow backend.\n"
     ]
    }
   ],
   "source": [
    "import matplotlib.pyplot as plt\n",
    "from IPython.display import SVG\n",
    "from keras.models import Sequential\n",
    "from keras.layers import Dense, Activation, Dropout\n",
    "from keras.utils import model_to_dot"
   ]
  },
  {
   "cell_type": "markdown",
   "metadata": {},
   "source": [
    "## Read train, valid, test data set"
   ]
  },
  {
   "cell_type": "code",
   "execution_count": 3,
   "metadata": {},
   "outputs": [],
   "source": [
    "train_data = np.load(\"data/train_data.npy\")\n",
    "train_label = np.load(\"data/train_label.npy\")\n",
    "\n",
    "valid_data = np.load(\"data/valid_data.npy\")\n",
    "valid_label = np.load(\"data/valid_label.npy\")\n",
    "\n",
    "test_data = np.load(\"data/test_data.npy\")\n",
    "test_label = np.load(\"data/test_label.npy\")"
   ]
  },
  {
   "cell_type": "markdown",
   "metadata": {},
   "source": [
    "## Neural Network 1"
   ]
  },
  {
   "cell_type": "code",
   "execution_count": 4,
   "metadata": {},
   "outputs": [],
   "source": [
    "model_1 = Sequential()\n",
    "model_1.add(Dense(4, input_shape=(2304,)))\n",
    "model_1.add(Activation('softmax'))\n",
    "model_1.compile(optimizer='adam',\n",
    "                loss='categorical_crossentropy',\n",
    "                metrics=['accuracy'])"
   ]
  },
  {
   "cell_type": "code",
   "execution_count": 5,
   "metadata": {},
   "outputs": [
    {
     "data": {
      "image/svg+xml": [
       "<svg height=\"255pt\" viewBox=\"0.00 0.00 175.24 191.00\" width=\"234pt\" xmlns=\"http://www.w3.org/2000/svg\" xmlns:xlink=\"http://www.w3.org/1999/xlink\">\n",
       "<g class=\"graph\" id=\"graph0\" transform=\"scale(0.75 0.75) rotate(0) translate(4 187)\">\n",
       "<title>G</title>\n",
       "<polygon fill=\"white\" points=\"-4,4 -4,-187 171.24,-187 171.24,4 -4,4\" stroke=\"transparent\"/>\n",
       "<!-- 5264111656 -->\n",
       "<g class=\"node\" id=\"node1\">\n",
       "<title>5264111656</title>\n",
       "<polygon fill=\"none\" points=\"0,-146.5 0,-182.5 167.24,-182.5 167.24,-146.5 0,-146.5\" stroke=\"black\"/>\n",
       "<text font-family=\"Times,serif\" font-size=\"14.00\" text-anchor=\"middle\" x=\"83.62\" y=\"-160.3\">dense_1_input: InputLayer</text>\n",
       "</g>\n",
       "<!-- 5264110088 -->\n",
       "<g class=\"node\" id=\"node2\">\n",
       "<title>5264110088</title>\n",
       "<polygon fill=\"none\" points=\"31.49,-73.5 31.49,-109.5 135.75,-109.5 135.75,-73.5 31.49,-73.5\" stroke=\"black\"/>\n",
       "<text font-family=\"Times,serif\" font-size=\"14.00\" text-anchor=\"middle\" x=\"83.62\" y=\"-87.3\">dense_1: Dense</text>\n",
       "</g>\n",
       "<!-- 5264111656&#45;&gt;5264110088 -->\n",
       "<g class=\"edge\" id=\"edge1\">\n",
       "<title>5264111656-&gt;5264110088</title>\n",
       "<path d=\"M83.62,-146.31C83.62,-138.29 83.62,-128.55 83.62,-119.57\" fill=\"none\" stroke=\"black\"/>\n",
       "<polygon fill=\"black\" points=\"87.12,-119.53 83.62,-109.53 80.12,-119.53 87.12,-119.53\" stroke=\"black\"/>\n",
       "</g>\n",
       "<!-- 5264111208 -->\n",
       "<g class=\"node\" id=\"node3\">\n",
       "<title>5264111208</title>\n",
       "<polygon fill=\"none\" points=\"8.16,-0.5 8.16,-36.5 159.08,-36.5 159.08,-0.5 8.16,-0.5\" stroke=\"black\"/>\n",
       "<text font-family=\"Times,serif\" font-size=\"14.00\" text-anchor=\"middle\" x=\"83.62\" y=\"-14.3\">activation_1: Activation</text>\n",
       "</g>\n",
       "<!-- 5264110088&#45;&gt;5264111208 -->\n",
       "<g class=\"edge\" id=\"edge2\">\n",
       "<title>5264110088-&gt;5264111208</title>\n",
       "<path d=\"M83.62,-73.31C83.62,-65.29 83.62,-55.55 83.62,-46.57\" fill=\"none\" stroke=\"black\"/>\n",
       "<polygon fill=\"black\" points=\"87.12,-46.53 83.62,-36.53 80.12,-46.53 87.12,-46.53\" stroke=\"black\"/>\n",
       "</g>\n",
       "</g>\n",
       "</svg>"
      ],
      "text/plain": [
       "<IPython.core.display.SVG object>"
      ]
     },
     "execution_count": 5,
     "metadata": {},
     "output_type": "execute_result"
    }
   ],
   "source": [
    "SVG(model_to_dot(model_1).create(prog='dot', format='svg'))"
   ]
  },
  {
   "cell_type": "code",
   "execution_count": 6,
   "metadata": {},
   "outputs": [
    {
     "name": "stdout",
     "output_type": "stream",
     "text": [
      "Train on 100641 samples, validate on 12581 samples\n",
      "Epoch 1/50\n",
      "100641/100641 [==============================] - 2s 23us/step - loss: 1.2779 - accuracy: 0.4092 - val_loss: 1.2125 - val_accuracy: 0.4485\n",
      "Epoch 2/50\n",
      "100641/100641 [==============================] - 1s 8us/step - loss: 1.1899 - accuracy: 0.4487 - val_loss: 1.1721 - val_accuracy: 0.4535\n",
      "Epoch 3/50\n",
      "100641/100641 [==============================] - 1s 10us/step - loss: 1.1635 - accuracy: 0.4538 - val_loss: 1.1561 - val_accuracy: 0.4573\n",
      "Epoch 4/50\n",
      "100641/100641 [==============================] - 1s 11us/step - loss: 1.1511 - accuracy: 0.4569 - val_loss: 1.1483 - val_accuracy: 0.4622\n",
      "Epoch 5/50\n",
      "100641/100641 [==============================] - 1s 11us/step - loss: 1.1436 - accuracy: 0.4607 - val_loss: 1.1432 - val_accuracy: 0.4621\n",
      "Epoch 6/50\n",
      "100641/100641 [==============================] - 1s 11us/step - loss: 1.1387 - accuracy: 0.4624 - val_loss: 1.1398 - val_accuracy: 0.4644\n",
      "Epoch 7/50\n",
      "100641/100641 [==============================] - 1s 11us/step - loss: 1.1351 - accuracy: 0.4652 - val_loss: 1.1375 - val_accuracy: 0.4653\n",
      "Epoch 8/50\n",
      "100641/100641 [==============================] - 1s 11us/step - loss: 1.1323 - accuracy: 0.4662 - val_loss: 1.1359 - val_accuracy: 0.4662\n",
      "Epoch 9/50\n",
      "100641/100641 [==============================] - 1s 11us/step - loss: 1.1301 - accuracy: 0.4662 - val_loss: 1.1347 - val_accuracy: 0.4686\n",
      "Epoch 10/50\n",
      "100641/100641 [==============================] - 1s 11us/step - loss: 1.1283 - accuracy: 0.4664 - val_loss: 1.1336 - val_accuracy: 0.4693\n",
      "Epoch 11/50\n",
      "100641/100641 [==============================] - 1s 11us/step - loss: 1.1267 - accuracy: 0.4665 - val_loss: 1.1330 - val_accuracy: 0.4686\n",
      "Epoch 12/50\n",
      "100641/100641 [==============================] - 1s 11us/step - loss: 1.1253 - accuracy: 0.4688 - val_loss: 1.1319 - val_accuracy: 0.4694\n",
      "Epoch 13/50\n",
      "100641/100641 [==============================] - 1s 12us/step - loss: 1.1241 - accuracy: 0.4689 - val_loss: 1.1313 - val_accuracy: 0.4694\n",
      "Epoch 14/50\n",
      "100641/100641 [==============================] - 1s 11us/step - loss: 1.1230 - accuracy: 0.4694 - val_loss: 1.1308 - val_accuracy: 0.4687\n",
      "Epoch 15/50\n",
      "100641/100641 [==============================] - 1s 11us/step - loss: 1.1221 - accuracy: 0.4696 - val_loss: 1.1308 - val_accuracy: 0.4690\n",
      "Epoch 16/50\n",
      "100641/100641 [==============================] - 1s 13us/step - loss: 1.1211 - accuracy: 0.4703 - val_loss: 1.1306 - val_accuracy: 0.4697\n",
      "Epoch 17/50\n",
      "100641/100641 [==============================] - 1s 11us/step - loss: 1.1203 - accuracy: 0.4695 - val_loss: 1.1299 - val_accuracy: 0.4689\n",
      "Epoch 18/50\n",
      "100641/100641 [==============================] - 1s 11us/step - loss: 1.1195 - accuracy: 0.4717 - val_loss: 1.1297 - val_accuracy: 0.4698\n",
      "Epoch 19/50\n",
      "100641/100641 [==============================] - 1s 12us/step - loss: 1.1189 - accuracy: 0.4703 - val_loss: 1.1292 - val_accuracy: 0.4690\n",
      "Epoch 20/50\n",
      "100641/100641 [==============================] - 1s 12us/step - loss: 1.1180 - accuracy: 0.4726 - val_loss: 1.1295 - val_accuracy: 0.4687\n",
      "Epoch 21/50\n",
      "100641/100641 [==============================] - 1s 11us/step - loss: 1.1175 - accuracy: 0.4743 - val_loss: 1.1291 - val_accuracy: 0.4683\n",
      "Epoch 22/50\n",
      "100641/100641 [==============================] - 1s 11us/step - loss: 1.1169 - accuracy: 0.4724 - val_loss: 1.1294 - val_accuracy: 0.4690\n",
      "Epoch 23/50\n",
      "100641/100641 [==============================] - 1s 11us/step - loss: 1.1163 - accuracy: 0.4722 - val_loss: 1.1288 - val_accuracy: 0.4692\n",
      "Epoch 24/50\n",
      "100641/100641 [==============================] - 1s 12us/step - loss: 1.1158 - accuracy: 0.4725 - val_loss: 1.1286 - val_accuracy: 0.4691\n",
      "Epoch 25/50\n",
      "100641/100641 [==============================] - 1s 11us/step - loss: 1.1153 - accuracy: 0.4730 - val_loss: 1.1288 - val_accuracy: 0.4683\n",
      "Epoch 26/50\n",
      "100641/100641 [==============================] - 1s 8us/step - loss: 1.1149 - accuracy: 0.4732 - val_loss: 1.1284 - val_accuracy: 0.4689\n",
      "Epoch 27/50\n",
      "100641/100641 [==============================] - 1s 8us/step - loss: 1.1143 - accuracy: 0.4717 - val_loss: 1.1285 - val_accuracy: 0.4694\n",
      "Epoch 28/50\n",
      "100641/100641 [==============================] - 1s 9us/step - loss: 1.1139 - accuracy: 0.4739 - val_loss: 1.1284 - val_accuracy: 0.4686\n",
      "Epoch 29/50\n",
      "100641/100641 [==============================] - 1s 8us/step - loss: 1.1135 - accuracy: 0.4738 - val_loss: 1.1283 - val_accuracy: 0.4686\n",
      "Epoch 30/50\n",
      "100641/100641 [==============================] - 1s 9us/step - loss: 1.1133 - accuracy: 0.4750 - val_loss: 1.1281 - val_accuracy: 0.4675\n",
      "Epoch 31/50\n",
      "100641/100641 [==============================] - 1s 8us/step - loss: 1.1128 - accuracy: 0.4749 - val_loss: 1.1282 - val_accuracy: 0.4689\n",
      "Epoch 32/50\n",
      "100641/100641 [==============================] - 1s 7us/step - loss: 1.1124 - accuracy: 0.4734 - val_loss: 1.1288 - val_accuracy: 0.4690\n",
      "Epoch 33/50\n",
      "100641/100641 [==============================] - 1s 8us/step - loss: 1.1120 - accuracy: 0.4736 - val_loss: 1.1279 - val_accuracy: 0.4687\n",
      "Epoch 34/50\n",
      "100641/100641 [==============================] - 1s 7us/step - loss: 1.1117 - accuracy: 0.4761 - val_loss: 1.1282 - val_accuracy: 0.4675\n",
      "Epoch 35/50\n",
      "100641/100641 [==============================] - 1s 8us/step - loss: 1.1113 - accuracy: 0.4715 - val_loss: 1.1281 - val_accuracy: 0.4682\n",
      "Epoch 36/50\n",
      "100641/100641 [==============================] - 1s 11us/step - loss: 1.1111 - accuracy: 0.4775 - val_loss: 1.1281 - val_accuracy: 0.4690\n",
      "Epoch 37/50\n",
      "100641/100641 [==============================] - 1s 10us/step - loss: 1.1107 - accuracy: 0.4743 - val_loss: 1.1280 - val_accuracy: 0.4689\n",
      "Epoch 38/50\n",
      "100641/100641 [==============================] - 1s 8us/step - loss: 1.1104 - accuracy: 0.4734 - val_loss: 1.1281 - val_accuracy: 0.4685\n",
      "Epoch 39/50\n",
      "100641/100641 [==============================] - 1s 9us/step - loss: 1.1101 - accuracy: 0.4739 - val_loss: 1.1283 - val_accuracy: 0.4680\n",
      "Epoch 40/50\n",
      "100641/100641 [==============================] - 1s 8us/step - loss: 1.1098 - accuracy: 0.4733 - val_loss: 1.1283 - val_accuracy: 0.4683\n",
      "Epoch 41/50\n",
      "100641/100641 [==============================] - 1s 7us/step - loss: 1.1096 - accuracy: 0.4747 - val_loss: 1.1286 - val_accuracy: 0.4686\n",
      "Epoch 42/50\n",
      "100641/100641 [==============================] - 1s 7us/step - loss: 1.1092 - accuracy: 0.4740 - val_loss: 1.1282 - val_accuracy: 0.4686\n",
      "Epoch 43/50\n",
      "100641/100641 [==============================] - 1s 8us/step - loss: 1.1091 - accuracy: 0.4751 - val_loss: 1.1285 - val_accuracy: 0.4685\n",
      "Epoch 44/50\n",
      "100641/100641 [==============================] - 1s 7us/step - loss: 1.1087 - accuracy: 0.4739 - val_loss: 1.1282 - val_accuracy: 0.4685\n",
      "Epoch 45/50\n",
      "100641/100641 [==============================] - 1s 8us/step - loss: 1.1086 - accuracy: 0.4753 - val_loss: 1.1283 - val_accuracy: 0.4672\n",
      "Epoch 46/50\n",
      "100641/100641 [==============================] - 1s 8us/step - loss: 1.1083 - accuracy: 0.4747 - val_loss: 1.1288 - val_accuracy: 0.4676\n",
      "Epoch 47/50\n",
      "100641/100641 [==============================] - 1s 10us/step - loss: 1.1080 - accuracy: 0.4751 - val_loss: 1.1285 - val_accuracy: 0.4669\n",
      "Epoch 48/50\n",
      "100641/100641 [==============================] - 1s 8us/step - loss: 1.1078 - accuracy: 0.4730 - val_loss: 1.1286 - val_accuracy: 0.4660\n",
      "Epoch 49/50\n",
      "100641/100641 [==============================] - 1s 11us/step - loss: 1.1075 - accuracy: 0.4774 - val_loss: 1.1286 - val_accuracy: 0.4672\n",
      "Epoch 50/50\n",
      "100641/100641 [==============================] - 1s 10us/step - loss: 1.1073 - accuracy: 0.4757 - val_loss: 1.1286 - val_accuracy: 0.4678\n"
     ]
    }
   ],
   "source": [
    "history_1 = model_1.fit(x = train_data, y = train_label, \n",
    "                        validation_data = (valid_data, valid_label),\n",
    "                        epochs = 50, batch_size = 1000, \n",
    "                        shuffle = True)"
   ]
  },
  {
   "cell_type": "code",
   "execution_count": 7,
   "metadata": {},
   "outputs": [
    {
     "data": {
      "image/png": "[encoded data removed]",
      "text/plain": [
       "<Figure size 432x288 with 1 Axes>"
      ]
     },
     "metadata": {
      "needs_background": "light"
     },
     "output_type": "display_data"
    }
   ],
   "source": [
    "# Plot training & validation accuracy values\n",
    "plt.plot(history_1.history['accuracy'])\n",
    "plt.plot(history_1.history['val_accuracy'])\n",
    "plt.title('Model accuracy')\n",
    "plt.ylabel('Accuracy')\n",
    "plt.xlabel('Epoch')\n",
    "plt.legend(['Train', 'Test'], loc='upper left')\n",
    "plt.show()"
   ]
  },
  {
   "cell_type": "code",
   "execution_count": 8,
   "metadata": {},
   "outputs": [
    {
     "data": {
      "image/png": "[encoded data removed]",
      "text/plain": [
       "<Figure size 432x288 with 1 Axes>"
      ]
     },
     "metadata": {
      "needs_background": "light"
     },
     "output_type": "display_data"
    }
   ],
   "source": [
    "# Plot training & validation loss values\n",
    "plt.plot(history_1.history['loss'])\n",
    "plt.plot(history_1.history['val_loss'])\n",
    "plt.title('Model loss')\n",
    "plt.ylabel('Loss')\n",
    "plt.xlabel('Epoch')\n",
    "plt.legend(['Train', 'Test'], loc='upper left')\n",
    "plt.show()"
   ]
  },
  {
   "cell_type": "markdown",
   "metadata": {},
   "source": [
    "## Neural Network 2"
   ]
  },
  {
   "cell_type": "code",
   "execution_count": 9,
   "metadata": {},
   "outputs": [],
   "source": [
    "model_2 = Sequential()\n",
    "model_2.add(Dense(128, input_shape=(2304,), activation='tanh'))\n",
    "model_2.add(Dense(4))\n",
    "model_2.add(Activation('softmax'))\n",
    "model_2.compile(optimizer='adam',\n",
    "              loss='categorical_crossentropy',\n",
    "              metrics=['accuracy'])"
   ]
  },
  {
   "cell_type": "code",
   "execution_count": 11,
   "metadata": {},
   "outputs": [
    {
     "data": {
      "image/svg+xml": [
       "<svg height=\"352pt\" viewBox=\"0.00 0.00 175.24 264.00\" width=\"234pt\" xmlns=\"http://www.w3.org/2000/svg\" xmlns:xlink=\"http://www.w3.org/1999/xlink\">\n",
       "<g class=\"graph\" id=\"graph0\" transform=\"scale(0.75 0.75) rotate(0) translate(4 260)\">\n",
       "<title>G</title>\n",
       "<polygon fill=\"white\" points=\"-4,4 -4,-260 171.24,-260 171.24,4 -4,4\" stroke=\"transparent\"/>\n",
       "<!-- 4699088376 -->\n",
       "<g class=\"node\" id=\"node1\">\n",
       "<title>4699088376</title>\n",
       "<polygon fill=\"none\" points=\"0,-219.5 0,-255.5 167.24,-255.5 167.24,-219.5 0,-219.5\" stroke=\"black\"/>\n",
       "<text font-family=\"Times,serif\" font-size=\"14.00\" text-anchor=\"middle\" x=\"83.62\" y=\"-233.3\">dense_2_input: InputLayer</text>\n",
       "</g>\n",
       "<!-- 6431324984 -->\n",
       "<g class=\"node\" id=\"node2\">\n",
       "<title>6431324984</title>\n",
       "<polygon fill=\"none\" points=\"31.49,-146.5 31.49,-182.5 135.75,-182.5 135.75,-146.5 31.49,-146.5\" stroke=\"black\"/>\n",
       "<text font-family=\"Times,serif\" font-size=\"14.00\" text-anchor=\"middle\" x=\"83.62\" y=\"-160.3\">dense_2: Dense</text>\n",
       "</g>\n",
       "<!-- 4699088376&#45;&gt;6431324984 -->\n",
       "<g class=\"edge\" id=\"edge1\">\n",
       "<title>4699088376-&gt;6431324984</title>\n",
       "<path d=\"M83.62,-219.31C83.62,-211.29 83.62,-201.55 83.62,-192.57\" fill=\"none\" stroke=\"black\"/>\n",
       "<polygon fill=\"black\" points=\"87.12,-192.53 83.62,-182.53 80.12,-192.53 87.12,-192.53\" stroke=\"black\"/>\n",
       "</g>\n",
       "<!-- 4569866816 -->\n",
       "<g class=\"node\" id=\"node3\">\n",
       "<title>4569866816</title>\n",
       "<polygon fill=\"none\" points=\"31.49,-73.5 31.49,-109.5 135.75,-109.5 135.75,-73.5 31.49,-73.5\" stroke=\"black\"/>\n",
       "<text font-family=\"Times,serif\" font-size=\"14.00\" text-anchor=\"middle\" x=\"83.62\" y=\"-87.3\">dense_3: Dense</text>\n",
       "</g>\n",
       "<!-- 6431324984&#45;&gt;4569866816 -->\n",
       "<g class=\"edge\" id=\"edge2\">\n",
       "<title>6431324984-&gt;4569866816</title>\n",
       "<path d=\"M83.62,-146.31C83.62,-138.29 83.62,-128.55 83.62,-119.57\" fill=\"none\" stroke=\"black\"/>\n",
       "<polygon fill=\"black\" points=\"87.12,-119.53 83.62,-109.53 80.12,-119.53 87.12,-119.53\" stroke=\"black\"/>\n",
       "</g>\n",
       "<!-- 4699086976 -->\n",
       "<g class=\"node\" id=\"node4\">\n",
       "<title>4699086976</title>\n",
       "<polygon fill=\"none\" points=\"8.16,-0.5 8.16,-36.5 159.08,-36.5 159.08,-0.5 8.16,-0.5\" stroke=\"black\"/>\n",
       "<text font-family=\"Times,serif\" font-size=\"14.00\" text-anchor=\"middle\" x=\"83.62\" y=\"-14.3\">activation_2: Activation</text>\n",
       "</g>\n",
       "<!-- 4569866816&#45;&gt;4699086976 -->\n",
       "<g class=\"edge\" id=\"edge3\">\n",
       "<title>4569866816-&gt;4699086976</title>\n",
       "<path d=\"M83.62,-73.31C83.62,-65.29 83.62,-55.55 83.62,-46.57\" fill=\"none\" stroke=\"black\"/>\n",
       "<polygon fill=\"black\" points=\"87.12,-46.53 83.62,-36.53 80.12,-46.53 87.12,-46.53\" stroke=\"black\"/>\n",
       "</g>\n",
       "</g>\n",
       "</svg>"
      ],
      "text/plain": [
       "<IPython.core.display.SVG object>"
      ]
     },
     "execution_count": 11,
     "metadata": {},
     "output_type": "execute_result"
    }
   ],
   "source": [
    "SVG(model_to_dot(model_2).create(prog='dot', format='svg'))"
   ]
  },
  {
   "cell_type": "code",
   "execution_count": 10,
   "metadata": {},
   "outputs": [
    {
     "name": "stdout",
     "output_type": "stream",
     "text": [
      "Train on 100641 samples, validate on 12581 samples\n",
      "Epoch 1/50\n",
      "100641/100641 [==============================] - 2s 21us/step - loss: 1.1706 - accuracy: 0.4450 - val_loss: 1.1356 - val_accuracy: 0.4645\n",
      "Epoch 2/50\n",
      "100641/100641 [==============================] - 2s 19us/step - loss: 1.1288 - accuracy: 0.4648 - val_loss: 1.1318 - val_accuracy: 0.4669\n",
      "Epoch 3/50\n",
      "100641/100641 [==============================] - 2s 19us/step - loss: 1.1208 - accuracy: 0.4687 - val_loss: 1.1319 - val_accuracy: 0.4653\n",
      "Epoch 4/50\n",
      "100641/100641 [==============================] - 2s 21us/step - loss: 1.1161 - accuracy: 0.4710 - val_loss: 1.1303 - val_accuracy: 0.4662\n",
      "Epoch 5/50\n",
      "100641/100641 [==============================] - 2s 19us/step - loss: 1.1138 - accuracy: 0.4730 - val_loss: 1.1318 - val_accuracy: 0.4655\n",
      "Epoch 6/50\n",
      "100641/100641 [==============================] - 2s 21us/step - loss: 1.1122 - accuracy: 0.4728 - val_loss: 1.1336 - val_accuracy: 0.4650\n",
      "Epoch 7/50\n",
      "100641/100641 [==============================] - 2s 19us/step - loss: 1.1096 - accuracy: 0.4742 - val_loss: 1.1372 - val_accuracy: 0.4660\n",
      "Epoch 8/50\n",
      "100641/100641 [==============================] - 2s 19us/step - loss: 1.1074 - accuracy: 0.4743 - val_loss: 1.1354 - val_accuracy: 0.4640\n",
      "Epoch 9/50\n",
      "100641/100641 [==============================] - 2s 21us/step - loss: 1.1063 - accuracy: 0.4784 - val_loss: 1.1382 - val_accuracy: 0.4616\n",
      "Epoch 10/50\n",
      "100641/100641 [==============================] - 2s 22us/step - loss: 1.1061 - accuracy: 0.4761 - val_loss: 1.1358 - val_accuracy: 0.4648\n",
      "Epoch 11/50\n",
      "100641/100641 [==============================] - 2s 23us/step - loss: 1.1051 - accuracy: 0.4765 - val_loss: 1.1379 - val_accuracy: 0.4649\n",
      "Epoch 12/50\n",
      "100641/100641 [==============================] - 2s 20us/step - loss: 1.1040 - accuracy: 0.4801 - val_loss: 1.1380 - val_accuracy: 0.4640\n",
      "Epoch 13/50\n",
      "100641/100641 [==============================] - 2s 23us/step - loss: 1.1037 - accuracy: 0.4789 - val_loss: 1.1408 - val_accuracy: 0.4627\n",
      "Epoch 14/50\n",
      "100641/100641 [==============================] - 2s 19us/step - loss: 1.1038 - accuracy: 0.4768 - val_loss: 1.1426 - val_accuracy: 0.4638\n",
      "Epoch 15/50\n",
      "100641/100641 [==============================] - 2s 20us/step - loss: 1.1031 - accuracy: 0.4786 - val_loss: 1.1376 - val_accuracy: 0.4657\n",
      "Epoch 16/50\n",
      "100641/100641 [==============================] - 2s 20us/step - loss: 1.1019 - accuracy: 0.4782 - val_loss: 1.1405 - val_accuracy: 0.4618\n",
      "Epoch 17/50\n",
      "100641/100641 [==============================] - 2s 21us/step - loss: 1.1025 - accuracy: 0.4784 - val_loss: 1.1410 - val_accuracy: 0.4644\n",
      "Epoch 18/50\n",
      "100641/100641 [==============================] - 2s 23us/step - loss: 1.1022 - accuracy: 0.4793 - val_loss: 1.1397 - val_accuracy: 0.4621\n",
      "Epoch 19/50\n",
      "100641/100641 [==============================] - 2s 21us/step - loss: 1.1012 - accuracy: 0.4795 - val_loss: 1.1427 - val_accuracy: 0.4635\n",
      "Epoch 20/50\n",
      "100641/100641 [==============================] - 3s 25us/step - loss: 1.1012 - accuracy: 0.4802 - val_loss: 1.1412 - val_accuracy: 0.4640\n",
      "Epoch 21/50\n",
      "100641/100641 [==============================] - 2s 20us/step - loss: 1.1004 - accuracy: 0.4804 - val_loss: 1.1435 - val_accuracy: 0.4636\n",
      "Epoch 22/50\n",
      "100641/100641 [==============================] - 3s 25us/step - loss: 1.1006 - accuracy: 0.4798 - val_loss: 1.1448 - val_accuracy: 0.4639\n",
      "Epoch 23/50\n",
      "100641/100641 [==============================] - 2s 22us/step - loss: 1.1007 - accuracy: 0.4795 - val_loss: 1.1419 - val_accuracy: 0.4620\n",
      "Epoch 24/50\n",
      "100641/100641 [==============================] - 2s 22us/step - loss: 1.1008 - accuracy: 0.4810 - val_loss: 1.1417 - val_accuracy: 0.4637\n",
      "Epoch 25/50\n",
      "100641/100641 [==============================] - 2s 22us/step - loss: 1.0999 - accuracy: 0.4795 - val_loss: 1.1435 - val_accuracy: 0.4636\n",
      "Epoch 26/50\n",
      "100641/100641 [==============================] - 2s 21us/step - loss: 1.1003 - accuracy: 0.4802 - val_loss: 1.1424 - val_accuracy: 0.4651\n",
      "Epoch 27/50\n",
      "100641/100641 [==============================] - 2s 22us/step - loss: 1.0993 - accuracy: 0.4810 - val_loss: 1.1429 - val_accuracy: 0.4647\n",
      "Epoch 28/50\n",
      "100641/100641 [==============================] - 2s 24us/step - loss: 1.0998 - accuracy: 0.4815 - val_loss: 1.1467 - val_accuracy: 0.4621\n",
      "Epoch 29/50\n",
      "100641/100641 [==============================] - 2s 20us/step - loss: 1.0996 - accuracy: 0.4810 - val_loss: 1.1439 - val_accuracy: 0.4655\n",
      "Epoch 30/50\n",
      "100641/100641 [==============================] - 2s 21us/step - loss: 1.0990 - accuracy: 0.4802 - val_loss: 1.1468 - val_accuracy: 0.4624\n",
      "Epoch 31/50\n",
      "100641/100641 [==============================] - 2s 22us/step - loss: 1.0994 - accuracy: 0.4804 - val_loss: 1.1526 - val_accuracy: 0.4613\n",
      "Epoch 32/50\n",
      "100641/100641 [==============================] - 2s 20us/step - loss: 1.1001 - accuracy: 0.4820 - val_loss: 1.1448 - val_accuracy: 0.4635\n",
      "Epoch 33/50\n",
      "100641/100641 [==============================] - 2s 22us/step - loss: 1.0993 - accuracy: 0.4813 - val_loss: 1.1436 - val_accuracy: 0.4665\n",
      "Epoch 34/50\n",
      "100641/100641 [==============================] - 2s 20us/step - loss: 1.0989 - accuracy: 0.4812 - val_loss: 1.1449 - val_accuracy: 0.4617\n",
      "Epoch 35/50\n",
      "100641/100641 [==============================] - 2s 21us/step - loss: 1.0982 - accuracy: 0.4812 - val_loss: 1.1447 - val_accuracy: 0.4628\n",
      "Epoch 36/50\n",
      "100641/100641 [==============================] - 2s 22us/step - loss: 1.0990 - accuracy: 0.4804 - val_loss: 1.1439 - val_accuracy: 0.4636\n",
      "Epoch 37/50\n",
      "100641/100641 [==============================] - 2s 22us/step - loss: 1.0986 - accuracy: 0.4797 - val_loss: 1.1444 - val_accuracy: 0.4642\n",
      "Epoch 38/50\n",
      "100641/100641 [==============================] - 2s 22us/step - loss: 1.0988 - accuracy: 0.4802 - val_loss: 1.1470 - val_accuracy: 0.4614\n",
      "Epoch 39/50\n",
      "100641/100641 [==============================] - 2s 22us/step - loss: 1.0985 - accuracy: 0.4809 - val_loss: 1.1454 - val_accuracy: 0.4657\n",
      "Epoch 40/50\n",
      "100641/100641 [==============================] - 2s 22us/step - loss: 1.0985 - accuracy: 0.4818 - val_loss: 1.1451 - val_accuracy: 0.4620\n",
      "Epoch 41/50\n",
      "100641/100641 [==============================] - 2s 21us/step - loss: 1.0983 - accuracy: 0.4817 - val_loss: 1.1449 - val_accuracy: 0.4628\n",
      "Epoch 42/50\n",
      "100641/100641 [==============================] - 2s 20us/step - loss: 1.0983 - accuracy: 0.4824 - val_loss: 1.1455 - val_accuracy: 0.4603\n",
      "Epoch 43/50\n",
      "100641/100641 [==============================] - 2s 21us/step - loss: 1.0977 - accuracy: 0.4832 - val_loss: 1.1450 - val_accuracy: 0.4619\n",
      "Epoch 44/50\n",
      "100641/100641 [==============================] - 2s 21us/step - loss: 1.0982 - accuracy: 0.4822 - val_loss: 1.1473 - val_accuracy: 0.4624\n",
      "Epoch 45/50\n",
      "100641/100641 [==============================] - 2s 21us/step - loss: 1.0980 - accuracy: 0.4831 - val_loss: 1.1453 - val_accuracy: 0.4615\n",
      "Epoch 46/50\n",
      "100641/100641 [==============================] - 2s 22us/step - loss: 1.0980 - accuracy: 0.4803 - val_loss: 1.1440 - val_accuracy: 0.4632\n",
      "Epoch 47/50\n",
      "100641/100641 [==============================] - 2s 21us/step - loss: 1.0974 - accuracy: 0.4836 - val_loss: 1.1465 - val_accuracy: 0.4632\n",
      "Epoch 48/50\n",
      "100641/100641 [==============================] - 2s 21us/step - loss: 1.0979 - accuracy: 0.4822 - val_loss: 1.1459 - val_accuracy: 0.4629\n",
      "Epoch 49/50\n",
      "100641/100641 [==============================] - 2s 21us/step - loss: 1.0975 - accuracy: 0.4807 - val_loss: 1.1451 - val_accuracy: 0.4640\n",
      "Epoch 50/50\n",
      "100641/100641 [==============================] - 2s 20us/step - loss: 1.0970 - accuracy: 0.4834 - val_loss: 1.1449 - val_accuracy: 0.4634\n"
     ]
    }
   ],
   "source": [
    "history_2 = model_2.fit(x = train_data, y = train_label, \n",
    "                        validation_data = (valid_data, valid_label),\n",
    "                        epochs = 50, batch_size = 1000, \n",
    "                        shuffle = True)"
   ]
  },
  {
   "cell_type": "code",
   "execution_count": 12,
   "metadata": {},
   "outputs": [
    {
     "data": {
      "image/png": "[encoded data removed]",
      "text/plain": [
       "<Figure size 432x288 with 1 Axes>"
      ]
     },
     "metadata": {
      "needs_background": "light"
     },
     "output_type": "display_data"
    }
   ],
   "source": [
    "# Plot training & validation accuracy values\n",
    "plt.plot(history_2.history['accuracy'])\n",
    "plt.plot(history_2.history['val_accuracy'])\n",
    "plt.title('Model accuracy')\n",
    "plt.ylabel('Accuracy')\n",
    "plt.xlabel('Epoch')\n",
    "plt.legend(['Train', 'Test'], loc='upper left')\n",
    "plt.show()"
   ]
  },
  {
   "cell_type": "code",
   "execution_count": 13,
   "metadata": {},
   "outputs": [
    {
     "data": {
      "image/png": "[encoded data removed]",
      "text/plain": [
       "<Figure size 432x288 with 1 Axes>"
      ]
     },
     "metadata": {
      "needs_background": "light"
     },
     "output_type": "display_data"
    }
   ],
   "source": [
    "# Plot training & validation loss values\n",
    "plt.plot(history_2.history['loss'])\n",
    "plt.plot(history_2.history['val_loss'])\n",
    "plt.title('Model loss')\n",
    "plt.ylabel('Loss')\n",
    "plt.xlabel('Epoch')\n",
    "plt.legend(['Train', 'Test'], loc='upper left')\n",
    "plt.show()"
   ]
  },
  {
   "cell_type": "markdown",
   "metadata": {},
   "source": [
    "## Neural Network 3"
   ]
  },
  {
   "cell_type": "code",
   "execution_count": 14,
   "metadata": {},
   "outputs": [],
   "source": [
    "model_3 = Sequential()\n",
    "model_3.add(Dense(128, input_shape=(2304,), activation='tanh'))\n",
    "model_3.add(Dropout(0.5))\n",
    "model_3.add(Dense(4))\n",
    "model_3.add(Activation('softmax'))\n",
    "model_3.compile(optimizer='adam',\n",
    "              loss='categorical_crossentropy',\n",
    "              metrics=['accuracy'])"
   ]
  },
  {
   "cell_type": "code",
   "execution_count": 15,
   "metadata": {},
   "outputs": [
    {
     "data": {
      "image/svg+xml": [
       "<svg height=\"449pt\" viewBox=\"0.00 0.00 175.24 337.00\" width=\"234pt\" xmlns=\"http://www.w3.org/2000/svg\" xmlns:xlink=\"http://www.w3.org/1999/xlink\">\n",
       "<g class=\"graph\" id=\"graph0\" transform=\"scale(0.75 0.75) rotate(0) translate(4 333)\">\n",
       "<title>G</title>\n",
       "<polygon fill=\"white\" points=\"-4,4 -4,-333 171.24,-333 171.24,4 -4,4\" stroke=\"transparent\"/>\n",
       "<!-- 4697220320 -->\n",
       "<g class=\"node\" id=\"node1\">\n",
       "<title>4697220320</title>\n",
       "<polygon fill=\"none\" points=\"0,-292.5 0,-328.5 167.24,-328.5 167.24,-292.5 0,-292.5\" stroke=\"black\"/>\n",
       "<text font-family=\"Times,serif\" font-size=\"14.00\" text-anchor=\"middle\" x=\"83.62\" y=\"-306.3\">dense_4_input: InputLayer</text>\n",
       "</g>\n",
       "<!-- 6443540208 -->\n",
       "<g class=\"node\" id=\"node2\">\n",
       "<title>6443540208</title>\n",
       "<polygon fill=\"none\" points=\"31.49,-219.5 31.49,-255.5 135.75,-255.5 135.75,-219.5 31.49,-219.5\" stroke=\"black\"/>\n",
       "<text font-family=\"Times,serif\" font-size=\"14.00\" text-anchor=\"middle\" x=\"83.62\" y=\"-233.3\">dense_4: Dense</text>\n",
       "</g>\n",
       "<!-- 4697220320&#45;&gt;6443540208 -->\n",
       "<g class=\"edge\" id=\"edge1\">\n",
       "<title>4697220320-&gt;6443540208</title>\n",
       "<path d=\"M83.62,-292.31C83.62,-284.29 83.62,-274.55 83.62,-265.57\" fill=\"none\" stroke=\"black\"/>\n",
       "<polygon fill=\"black\" points=\"87.12,-265.53 83.62,-255.53 80.12,-265.53 87.12,-265.53\" stroke=\"black\"/>\n",
       "</g>\n",
       "<!-- 6447672400 -->\n",
       "<g class=\"node\" id=\"node3\">\n",
       "<title>6447672400</title>\n",
       "<polygon fill=\"none\" points=\"19.82,-146.5 19.82,-182.5 147.42,-182.5 147.42,-146.5 19.82,-146.5\" stroke=\"black\"/>\n",
       "<text font-family=\"Times,serif\" font-size=\"14.00\" text-anchor=\"middle\" x=\"83.62\" y=\"-160.3\">dropout_1: Dropout</text>\n",
       "</g>\n",
       "<!-- 6443540208&#45;&gt;6447672400 -->\n",
       "<g class=\"edge\" id=\"edge2\">\n",
       "<title>6443540208-&gt;6447672400</title>\n",
       "<path d=\"M83.62,-219.31C83.62,-211.29 83.62,-201.55 83.62,-192.57\" fill=\"none\" stroke=\"black\"/>\n",
       "<polygon fill=\"black\" points=\"87.12,-192.53 83.62,-182.53 80.12,-192.53 87.12,-192.53\" stroke=\"black\"/>\n",
       "</g>\n",
       "<!-- 4697222336 -->\n",
       "<g class=\"node\" id=\"node4\">\n",
       "<title>4697222336</title>\n",
       "<polygon fill=\"none\" points=\"31.49,-73.5 31.49,-109.5 135.75,-109.5 135.75,-73.5 31.49,-73.5\" stroke=\"black\"/>\n",
       "<text font-family=\"Times,serif\" font-size=\"14.00\" text-anchor=\"middle\" x=\"83.62\" y=\"-87.3\">dense_5: Dense</text>\n",
       "</g>\n",
       "<!-- 6447672400&#45;&gt;4697222336 -->\n",
       "<g class=\"edge\" id=\"edge3\">\n",
       "<title>6447672400-&gt;4697222336</title>\n",
       "<path d=\"M83.62,-146.31C83.62,-138.29 83.62,-128.55 83.62,-119.57\" fill=\"none\" stroke=\"black\"/>\n",
       "<polygon fill=\"black\" points=\"87.12,-119.53 83.62,-109.53 80.12,-119.53 87.12,-119.53\" stroke=\"black\"/>\n",
       "</g>\n",
       "<!-- 6443591384 -->\n",
       "<g class=\"node\" id=\"node5\">\n",
       "<title>6443591384</title>\n",
       "<polygon fill=\"none\" points=\"8.16,-0.5 8.16,-36.5 159.08,-36.5 159.08,-0.5 8.16,-0.5\" stroke=\"black\"/>\n",
       "<text font-family=\"Times,serif\" font-size=\"14.00\" text-anchor=\"middle\" x=\"83.62\" y=\"-14.3\">activation_3: Activation</text>\n",
       "</g>\n",
       "<!-- 4697222336&#45;&gt;6443591384 -->\n",
       "<g class=\"edge\" id=\"edge4\">\n",
       "<title>4697222336-&gt;6443591384</title>\n",
       "<path d=\"M83.62,-73.31C83.62,-65.29 83.62,-55.55 83.62,-46.57\" fill=\"none\" stroke=\"black\"/>\n",
       "<polygon fill=\"black\" points=\"87.12,-46.53 83.62,-36.53 80.12,-46.53 87.12,-46.53\" stroke=\"black\"/>\n",
       "</g>\n",
       "</g>\n",
       "</svg>"
      ],
      "text/plain": [
       "<IPython.core.display.SVG object>"
      ]
     },
     "execution_count": 15,
     "metadata": {},
     "output_type": "execute_result"
    }
   ],
   "source": [
    "SVG(model_to_dot(model_3).create(prog='dot', format='svg'))"
   ]
  },
  {
   "cell_type": "code",
   "execution_count": 16,
   "metadata": {},
   "outputs": [
    {
     "name": "stdout",
     "output_type": "stream",
     "text": [
      "Train on 100641 samples, validate on 12581 samples\n",
      "Epoch 1/50\n",
      "100641/100641 [==============================] - 2s 23us/step - loss: 1.1767 - accuracy: 0.4479 - val_loss: 1.1362 - val_accuracy: 0.4649\n",
      "Epoch 2/50\n",
      "100641/100641 [==============================] - 2s 21us/step - loss: 1.1345 - accuracy: 0.4668 - val_loss: 1.1305 - val_accuracy: 0.4694\n",
      "Epoch 3/50\n",
      "100641/100641 [==============================] - 2s 20us/step - loss: 1.1284 - accuracy: 0.4675 - val_loss: 1.1302 - val_accuracy: 0.4651\n",
      "Epoch 4/50\n",
      "100641/100641 [==============================] - 2s 23us/step - loss: 1.1236 - accuracy: 0.4699 - val_loss: 1.1331 - val_accuracy: 0.4650\n",
      "Epoch 5/50\n",
      "100641/100641 [==============================] - 2s 23us/step - loss: 1.1201 - accuracy: 0.4717 - val_loss: 1.1288 - val_accuracy: 0.4681\n",
      "Epoch 6/50\n",
      "100641/100641 [==============================] - 3s 25us/step - loss: 1.1176 - accuracy: 0.4725 - val_loss: 1.1314 - val_accuracy: 0.4671\n",
      "Epoch 7/50\n",
      "100641/100641 [==============================] - 2s 23us/step - loss: 1.1160 - accuracy: 0.4738 - val_loss: 1.1343 - val_accuracy: 0.4655\n",
      "Epoch 8/50\n",
      "100641/100641 [==============================] - 2s 21us/step - loss: 1.1144 - accuracy: 0.4739 - val_loss: 1.1317 - val_accuracy: 0.4642\n",
      "Epoch 9/50\n",
      "100641/100641 [==============================] - 2s 23us/step - loss: 1.1129 - accuracy: 0.4740 - val_loss: 1.1316 - val_accuracy: 0.4662\n",
      "Epoch 10/50\n",
      "100641/100641 [==============================] - 2s 24us/step - loss: 1.1141 - accuracy: 0.4747 - val_loss: 1.1354 - val_accuracy: 0.4642\n",
      "Epoch 11/50\n",
      "100641/100641 [==============================] - 2s 23us/step - loss: 1.1116 - accuracy: 0.4762 - val_loss: 1.1326 - val_accuracy: 0.4677\n",
      "Epoch 12/50\n",
      "100641/100641 [==============================] - 3s 27us/step - loss: 1.1105 - accuracy: 0.4751 - val_loss: 1.1333 - val_accuracy: 0.4659\n",
      "Epoch 13/50\n",
      "100641/100641 [==============================] - 2s 22us/step - loss: 1.1106 - accuracy: 0.4790 - val_loss: 1.1350 - val_accuracy: 0.4663\n",
      "Epoch 14/50\n",
      "100641/100641 [==============================] - 2s 23us/step - loss: 1.1097 - accuracy: 0.4755 - val_loss: 1.1358 - val_accuracy: 0.4636\n",
      "Epoch 15/50\n",
      "100641/100641 [==============================] - 2s 23us/step - loss: 1.1093 - accuracy: 0.4772 - val_loss: 1.1350 - val_accuracy: 0.4642\n",
      "Epoch 16/50\n",
      "100641/100641 [==============================] - 2s 23us/step - loss: 1.1082 - accuracy: 0.4785 - val_loss: 1.1353 - val_accuracy: 0.4628\n",
      "Epoch 17/50\n",
      "100641/100641 [==============================] - 2s 21us/step - loss: 1.1074 - accuracy: 0.4774 - val_loss: 1.1392 - val_accuracy: 0.4636\n",
      "Epoch 18/50\n",
      "100641/100641 [==============================] - 2s 21us/step - loss: 1.1072 - accuracy: 0.4782 - val_loss: 1.1381 - val_accuracy: 0.4625\n",
      "Epoch 19/50\n",
      "100641/100641 [==============================] - 2s 22us/step - loss: 1.1064 - accuracy: 0.4782 - val_loss: 1.1381 - val_accuracy: 0.4636\n",
      "Epoch 20/50\n",
      "100641/100641 [==============================] - 2s 20us/step - loss: 1.1071 - accuracy: 0.4777 - val_loss: 1.1379 - val_accuracy: 0.4638\n",
      "Epoch 21/50\n",
      "100641/100641 [==============================] - 2s 21us/step - loss: 1.1066 - accuracy: 0.4781 - val_loss: 1.1395 - val_accuracy: 0.4631\n",
      "Epoch 22/50\n",
      "100641/100641 [==============================] - 2s 21us/step - loss: 1.1066 - accuracy: 0.4791 - val_loss: 1.1373 - val_accuracy: 0.4660\n",
      "Epoch 23/50\n",
      "100641/100641 [==============================] - 2s 22us/step - loss: 1.1059 - accuracy: 0.4791 - val_loss: 1.1389 - val_accuracy: 0.4663\n",
      "Epoch 24/50\n",
      "100641/100641 [==============================] - 2s 24us/step - loss: 1.1060 - accuracy: 0.4807 - val_loss: 1.1374 - val_accuracy: 0.4644\n",
      "Epoch 25/50\n",
      "100641/100641 [==============================] - 2s 23us/step - loss: 1.1052 - accuracy: 0.4798 - val_loss: 1.1389 - val_accuracy: 0.4636\n",
      "Epoch 26/50\n",
      "100641/100641 [==============================] - 3s 31us/step - loss: 1.1055 - accuracy: 0.4800 - val_loss: 1.1387 - val_accuracy: 0.4662\n",
      "Epoch 27/50\n",
      "100641/100641 [==============================] - 3s 26us/step - loss: 1.1051 - accuracy: 0.4796 - val_loss: 1.1387 - val_accuracy: 0.4631\n",
      "Epoch 28/50\n",
      "100641/100641 [==============================] - 3s 25us/step - loss: 1.1053 - accuracy: 0.4802 - val_loss: 1.1399 - val_accuracy: 0.4643\n",
      "Epoch 29/50\n",
      "100641/100641 [==============================] - 2s 23us/step - loss: 1.1047 - accuracy: 0.4799 - val_loss: 1.1417 - val_accuracy: 0.4615\n",
      "Epoch 30/50\n",
      "100641/100641 [==============================] - 2s 25us/step - loss: 1.1045 - accuracy: 0.4803 - val_loss: 1.1395 - val_accuracy: 0.4620\n",
      "Epoch 31/50\n",
      "100641/100641 [==============================] - 3s 25us/step - loss: 1.1044 - accuracy: 0.4798 - val_loss: 1.1394 - val_accuracy: 0.4648\n",
      "Epoch 32/50\n",
      "100641/100641 [==============================] - 2s 24us/step - loss: 1.1048 - accuracy: 0.4796 - val_loss: 1.1411 - val_accuracy: 0.4614\n",
      "Epoch 33/50\n",
      "100641/100641 [==============================] - 3s 26us/step - loss: 1.1032 - accuracy: 0.4798 - val_loss: 1.1399 - val_accuracy: 0.4644\n",
      "Epoch 34/50\n",
      "100641/100641 [==============================] - 2s 21us/step - loss: 1.1037 - accuracy: 0.4816 - val_loss: 1.1407 - val_accuracy: 0.4649\n",
      "Epoch 35/50\n",
      "100641/100641 [==============================] - 2s 21us/step - loss: 1.1042 - accuracy: 0.4795 - val_loss: 1.1405 - val_accuracy: 0.4631\n",
      "Epoch 36/50\n",
      "100641/100641 [==============================] - 3s 25us/step - loss: 1.1035 - accuracy: 0.4797 - val_loss: 1.1400 - val_accuracy: 0.4645\n",
      "Epoch 37/50\n",
      "100641/100641 [==============================] - 2s 21us/step - loss: 1.1039 - accuracy: 0.4784 - val_loss: 1.1404 - val_accuracy: 0.4633\n",
      "Epoch 38/50\n",
      "100641/100641 [==============================] - 2s 23us/step - loss: 1.1039 - accuracy: 0.4804 - val_loss: 1.1425 - val_accuracy: 0.4646\n",
      "Epoch 39/50\n",
      "100641/100641 [==============================] - 2s 23us/step - loss: 1.1041 - accuracy: 0.4792 - val_loss: 1.1401 - val_accuracy: 0.4649\n",
      "Epoch 40/50\n",
      "100641/100641 [==============================] - 3s 27us/step - loss: 1.1031 - accuracy: 0.4805 - val_loss: 1.1420 - val_accuracy: 0.4661\n",
      "Epoch 41/50\n",
      "100641/100641 [==============================] - 2s 25us/step - loss: 1.1042 - accuracy: 0.4811 - val_loss: 1.1402 - val_accuracy: 0.4629\n",
      "Epoch 42/50\n",
      "100641/100641 [==============================] - 3s 25us/step - loss: 1.1032 - accuracy: 0.4790 - val_loss: 1.1405 - val_accuracy: 0.4637\n",
      "Epoch 43/50\n",
      "100641/100641 [==============================] - 2s 21us/step - loss: 1.1026 - accuracy: 0.4818 - val_loss: 1.1449 - val_accuracy: 0.4627\n",
      "Epoch 44/50\n",
      "100641/100641 [==============================] - 2s 23us/step - loss: 1.1031 - accuracy: 0.4791 - val_loss: 1.1419 - val_accuracy: 0.4639\n",
      "Epoch 45/50\n",
      "100641/100641 [==============================] - 2s 22us/step - loss: 1.1028 - accuracy: 0.4797 - val_loss: 1.1411 - val_accuracy: 0.4648\n",
      "Epoch 46/50\n",
      "100641/100641 [==============================] - 2s 21us/step - loss: 1.1032 - accuracy: 0.4802 - val_loss: 1.1416 - val_accuracy: 0.4643\n",
      "Epoch 47/50\n",
      "100641/100641 [==============================] - 2s 21us/step - loss: 1.1029 - accuracy: 0.4797 - val_loss: 1.1421 - val_accuracy: 0.4635\n",
      "Epoch 48/50\n",
      "100641/100641 [==============================] - 2s 21us/step - loss: 1.1024 - accuracy: 0.4809 - val_loss: 1.1433 - val_accuracy: 0.4627\n",
      "Epoch 49/50\n",
      "100641/100641 [==============================] - 2s 22us/step - loss: 1.1023 - accuracy: 0.4802 - val_loss: 1.1424 - val_accuracy: 0.4620\n",
      "Epoch 50/50\n",
      "100641/100641 [==============================] - 2s 22us/step - loss: 1.1020 - accuracy: 0.4802 - val_loss: 1.1420 - val_accuracy: 0.4639\n"
     ]
    }
   ],
   "source": [
    "history_3 = model_3.fit(x = train_data, y = train_label, \n",
    "                        validation_data = (valid_data, valid_label),\n",
    "                        epochs = 50, batch_size = 1000, \n",
    "                        shuffle = True)"
   ]
  },
  {
   "cell_type": "code",
   "execution_count": 18,
   "metadata": {},
   "outputs": [
    {
     "data": {
      "image/png": "[encoded data removed]",
      "text/plain": [
       "<Figure size 432x288 with 1 Axes>"
      ]
     },
     "metadata": {
      "needs_background": "light"
     },
     "output_type": "display_data"
    }
   ],
   "source": [
    "# Plot training & validation accuracy values\n",
    "plt.plot(history_3.history['accuracy'])\n",
    "plt.plot(history_3.history['val_accuracy'])\n",
    "plt.title('Model accuracy')\n",
    "plt.ylabel('Accuracy')\n",
    "plt.xlabel('Epoch')\n",
    "plt.legend(['Train', 'Test'], loc='upper left')\n",
    "plt.show()"
   ]
  },
  {
   "cell_type": "code",
   "execution_count": 17,
   "metadata": {},
   "outputs": [
    {
     "data": {
      "image/png": "[encoded data removed]",
      "text/plain": [
       "<Figure size 432x288 with 1 Axes>"
      ]
     },
     "metadata": {
      "needs_background": "light"
     },
     "output_type": "display_data"
    }
   ],
   "source": [
    "# Plot training & validation loss values\n",
    "plt.plot(history_3.history['loss'])\n",
    "plt.plot(history_3.history['val_loss'])\n",
    "plt.title('Model loss')\n",
    "plt.ylabel('Loss')\n",
    "plt.xlabel('Epoch')\n",
    "plt.legend(['Train', 'Test'], loc='upper left')\n",
    "plt.show()"
   ]
  },
  {
   "cell_type": "code",
   "execution_count": null,
   "metadata": {},
   "outputs": [],
   "source": []
  }
 ],
 "metadata": {
  "kernelspec": {
   "display_name": "Python (ML)",
   "language": "python",
   "name": "ml"
  },
  "language_info": {
   "codemirror_mode": {
    "name": "ipython",
    "version": 3
   },
   "file_extension": ".py",
   "mimetype": "text/x-python",
   "name": "python",
   "nbconvert_exporter": "python",
   "pygments_lexer": "ipython3",
   "version": "3.6.9"
  }
 },
 "nbformat": 4,
 "nbformat_minor": 2
}
