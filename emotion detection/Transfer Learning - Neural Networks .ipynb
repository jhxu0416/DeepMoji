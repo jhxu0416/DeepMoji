{
 "cells": [
  {
   "cell_type": "code",
   "execution_count": 1,
   "metadata": {},
   "outputs": [],
   "source": [
    "import numpy as np\n",
    "np.random.seed(888)"
   ]
  },
  {
   "cell_type": "code",
   "execution_count": 24,
   "metadata": {},
   "outputs": [],
   "source": [
    "import matplotlib.pyplot as plt\n",
    "from IPython.display import SVG\n",
    "from keras.models import Sequential\n",
    "from keras.layers import Dense, Activation, Dropout\n",
    "from keras.utils import model_to_dot\n",
    "from keras.callbacks.callbacks import EarlyStopping"
   ]
  },
  {
   "cell_type": "markdown",
   "metadata": {},
   "source": [
    "## Read train, valid, test data set"
   ]
  },
  {
   "cell_type": "code",
   "execution_count": 3,
   "metadata": {},
   "outputs": [],
   "source": [
    "train_data = np.load(\"data/train_data.npy\")\n",
    "train_label = np.load(\"data/train_label.npy\")\n",
    "\n",
    "valid_data = np.load(\"data/valid_data.npy\")\n",
    "valid_label = np.load(\"data/valid_label.npy\")\n",
    "\n",
    "test_data = np.load(\"data/test_data.npy\")\n",
    "test_label = np.load(\"data/test_label.npy\")"
   ]
  },
  {
   "cell_type": "code",
   "execution_count": 25,
   "metadata": {},
   "outputs": [],
   "source": [
    "monitor = EarlyStopping(monitor='val_loss', min_delta=1e-3, patience=5, verbose=1, mode='auto')\n"
   ]
  },
  {
   "cell_type": "markdown",
   "metadata": {},
   "source": [
    "## Neural Network 1"
   ]
  },
  {
   "cell_type": "code",
   "execution_count": 26,
   "metadata": {},
   "outputs": [],
   "source": [
    "model_1 = Sequential()\n",
    "model_1.add(Dense(4, input_shape=(2304,)))\n",
    "model_1.add(Activation('softmax'))\n",
    "model_1.compile(optimizer='adam',\n",
    "                loss='categorical_crossentropy',\n",
    "                metrics=['accuracy'])"
   ]
  },
  {
   "cell_type": "code",
   "execution_count": 27,
   "metadata": {},
   "outputs": [
    {
     "data": {
      "image/svg+xml": [
       "<svg height=\"255pt\" viewBox=\"0.00 0.00 175.24 191.00\" width=\"234pt\" xmlns=\"http://www.w3.org/2000/svg\" xmlns:xlink=\"http://www.w3.org/1999/xlink\">\n",
       "<g class=\"graph\" id=\"graph0\" transform=\"scale(0.75 0.75) rotate(0) translate(4 187)\">\n",
       "<title>G</title>\n",
       "<polygon fill=\"white\" points=\"-4,4 -4,-187 171.24,-187 171.24,4 -4,4\" stroke=\"transparent\"/>\n",
       "<!-- 6438342552 -->\n",
       "<g class=\"node\" id=\"node1\">\n",
       "<title>6438342552</title>\n",
       "<polygon fill=\"none\" points=\"0,-146.5 0,-182.5 167.24,-182.5 167.24,-146.5 0,-146.5\" stroke=\"black\"/>\n",
       "<text font-family=\"Times,serif\" font-size=\"14.00\" text-anchor=\"middle\" x=\"83.62\" y=\"-160.3\">dense_6_input: InputLayer</text>\n",
       "</g>\n",
       "<!-- 6438338688 -->\n",
       "<g class=\"node\" id=\"node2\">\n",
       "<title>6438338688</title>\n",
       "<polygon fill=\"none\" points=\"31.49,-73.5 31.49,-109.5 135.75,-109.5 135.75,-73.5 31.49,-73.5\" stroke=\"black\"/>\n",
       "<text font-family=\"Times,serif\" font-size=\"14.00\" text-anchor=\"middle\" x=\"83.62\" y=\"-87.3\">dense_6: Dense</text>\n",
       "</g>\n",
       "<!-- 6438342552&#45;&gt;6438338688 -->\n",
       "<g class=\"edge\" id=\"edge1\">\n",
       "<title>6438342552-&gt;6438338688</title>\n",
       "<path d=\"M83.62,-146.31C83.62,-138.29 83.62,-128.55 83.62,-119.57\" fill=\"none\" stroke=\"black\"/>\n",
       "<polygon fill=\"black\" points=\"87.12,-119.53 83.62,-109.53 80.12,-119.53 87.12,-119.53\" stroke=\"black\"/>\n",
       "</g>\n",
       "<!-- 6438339136 -->\n",
       "<g class=\"node\" id=\"node3\">\n",
       "<title>6438339136</title>\n",
       "<polygon fill=\"none\" points=\"8.16,-0.5 8.16,-36.5 159.08,-36.5 159.08,-0.5 8.16,-0.5\" stroke=\"black\"/>\n",
       "<text font-family=\"Times,serif\" font-size=\"14.00\" text-anchor=\"middle\" x=\"83.62\" y=\"-14.3\">activation_4: Activation</text>\n",
       "</g>\n",
       "<!-- 6438338688&#45;&gt;6438339136 -->\n",
       "<g class=\"edge\" id=\"edge2\">\n",
       "<title>6438338688-&gt;6438339136</title>\n",
       "<path d=\"M83.62,-73.31C83.62,-65.29 83.62,-55.55 83.62,-46.57\" fill=\"none\" stroke=\"black\"/>\n",
       "<polygon fill=\"black\" points=\"87.12,-46.53 83.62,-36.53 80.12,-46.53 87.12,-46.53\" stroke=\"black\"/>\n",
       "</g>\n",
       "</g>\n",
       "</svg>"
      ],
      "text/plain": [
       "<IPython.core.display.SVG object>"
      ]
     },
     "execution_count": 27,
     "metadata": {},
     "output_type": "execute_result"
    }
   ],
   "source": [
    "SVG(model_to_dot(model_1).create(prog='dot', format='svg'))"
   ]
  },
  {
   "cell_type": "code",
   "execution_count": 28,
   "metadata": {},
   "outputs": [
    {
     "name": "stdout",
     "output_type": "stream",
     "text": [
      "Train on 100641 samples, validate on 12581 samples\n",
      "Epoch 1/50\n",
      "100641/100641 [==============================] - 2s 22us/step - loss: 1.2773 - accuracy: 0.4078 - val_loss: 1.2124 - val_accuracy: 0.4455\n",
      "Epoch 2/50\n",
      "100641/100641 [==============================] - 1s 8us/step - loss: 1.1897 - accuracy: 0.4479 - val_loss: 1.1719 - val_accuracy: 0.4532\n",
      "Epoch 3/50\n",
      "100641/100641 [==============================] - 1s 8us/step - loss: 1.1632 - accuracy: 0.4530 - val_loss: 1.1562 - val_accuracy: 0.4568\n",
      "Epoch 4/50\n",
      "100641/100641 [==============================] - 1s 8us/step - loss: 1.1508 - accuracy: 0.4582 - val_loss: 1.1479 - val_accuracy: 0.4605\n",
      "Epoch 5/50\n",
      "100641/100641 [==============================] - 1s 8us/step - loss: 1.1433 - accuracy: 0.4606 - val_loss: 1.1438 - val_accuracy: 0.4629\n",
      "Epoch 6/50\n",
      "100641/100641 [==============================] - 1s 10us/step - loss: 1.1385 - accuracy: 0.4628 - val_loss: 1.1400 - val_accuracy: 0.4636\n",
      "Epoch 7/50\n",
      "100641/100641 [==============================] - 1s 9us/step - loss: 1.1348 - accuracy: 0.4638 - val_loss: 1.1375 - val_accuracy: 0.4655\n",
      "Epoch 8/50\n",
      "100641/100641 [==============================] - 1s 10us/step - loss: 1.1322 - accuracy: 0.4657 - val_loss: 1.1358 - val_accuracy: 0.4672\n",
      "Epoch 9/50\n",
      "100641/100641 [==============================] - 1s 9us/step - loss: 1.1299 - accuracy: 0.4670 - val_loss: 1.1345 - val_accuracy: 0.4677\n",
      "Epoch 10/50\n",
      "100641/100641 [==============================] - 1s 8us/step - loss: 1.1281 - accuracy: 0.4661 - val_loss: 1.1337 - val_accuracy: 0.4682\n",
      "Epoch 11/50\n",
      "100641/100641 [==============================] - 1s 8us/step - loss: 1.1266 - accuracy: 0.4676 - val_loss: 1.1327 - val_accuracy: 0.4691\n",
      "Epoch 12/50\n",
      "100641/100641 [==============================] - 1s 8us/step - loss: 1.1252 - accuracy: 0.4672 - val_loss: 1.1323 - val_accuracy: 0.4682\n",
      "Epoch 13/50\n",
      "100641/100641 [==============================] - 1s 8us/step - loss: 1.1240 - accuracy: 0.4678 - val_loss: 1.1318 - val_accuracy: 0.4688\n",
      "Epoch 14/50\n",
      "100641/100641 [==============================] - 1s 9us/step - loss: 1.1229 - accuracy: 0.4706 - val_loss: 1.1310 - val_accuracy: 0.4696\n",
      "Epoch 15/50\n",
      "100641/100641 [==============================] - 1s 9us/step - loss: 1.1220 - accuracy: 0.4691 - val_loss: 1.1309 - val_accuracy: 0.4698\n",
      "Epoch 16/50\n",
      "100641/100641 [==============================] - 1s 8us/step - loss: 1.1209 - accuracy: 0.4694 - val_loss: 1.1304 - val_accuracy: 0.4702\n",
      "Epoch 17/50\n",
      "100641/100641 [==============================] - 1s 8us/step - loss: 1.1202 - accuracy: 0.4705 - val_loss: 1.1302 - val_accuracy: 0.4695\n",
      "Epoch 18/50\n",
      "100641/100641 [==============================] - 1s 8us/step - loss: 1.1194 - accuracy: 0.4698 - val_loss: 1.1298 - val_accuracy: 0.4693\n",
      "Epoch 19/50\n",
      "100641/100641 [==============================] - 1s 8us/step - loss: 1.1187 - accuracy: 0.4711 - val_loss: 1.1295 - val_accuracy: 0.4705\n",
      "Epoch 20/50\n",
      "100641/100641 [==============================] - 1s 8us/step - loss: 1.1181 - accuracy: 0.4716 - val_loss: 1.1295 - val_accuracy: 0.4697\n",
      "Epoch 21/50\n",
      "100641/100641 [==============================] - 1s 8us/step - loss: 1.1174 - accuracy: 0.4719 - val_loss: 1.1292 - val_accuracy: 0.4689\n",
      "Epoch 22/50\n",
      "100641/100641 [==============================] - 1s 9us/step - loss: 1.1169 - accuracy: 0.4711 - val_loss: 1.1289 - val_accuracy: 0.4678\n",
      "Epoch 23/50\n",
      "100641/100641 [==============================] - 1s 10us/step - loss: 1.1163 - accuracy: 0.4726 - val_loss: 1.1288 - val_accuracy: 0.4690\n",
      "Epoch 00023: early stopping\n"
     ]
    }
   ],
   "source": [
    "history_1 = model_1.fit(x = train_data, y = train_label, \n",
    "                        validation_data = (valid_data, valid_label),\n",
    "                        callbacks = [monitor],\n",
    "                        epochs = 50, batch_size = 1000, \n",
    "                        shuffle = True)"
   ]
  },
  {
   "cell_type": "code",
   "execution_count": 31,
   "metadata": {},
   "outputs": [
    {
     "data": {
      "image/png": "[encoded data removed]",
      "text/plain": [
       "<Figure size 432x288 with 1 Axes>"
      ]
     },
     "metadata": {
      "needs_background": "light"
     },
     "output_type": "display_data"
    }
   ],
   "source": [
    "# Plot training & validation accuracy values\n",
    "plt.plot(history_1.history['accuracy'])\n",
    "plt.plot(history_1.history['val_accuracy'])\n",
    "plt.title('Model accuracy')\n",
    "plt.ylabel('Accuracy')\n",
    "plt.xlabel('Epoch')\n",
    "plt.legend(['Train', 'Test'], loc='upper left')\n",
    "plt.show()"
   ]
  },
  {
   "cell_type": "code",
   "execution_count": 32,
   "metadata": {},
   "outputs": [
    {
     "data": {
      "image/png": "[encoded data removed]",
      "text/plain": [
       "<Figure size 432x288 with 1 Axes>"
      ]
     },
     "metadata": {
      "needs_background": "light"
     },
     "output_type": "display_data"
    }
   ],
   "source": [
    "# Plot training & validation loss values\n",
    "plt.plot(history_1.history['loss'])\n",
    "plt.plot(history_1.history['val_loss'])\n",
    "plt.title('Model loss')\n",
    "plt.ylabel('Loss')\n",
    "plt.xlabel('Epoch')\n",
    "plt.legend(['Train', 'Test'], loc='upper left')\n",
    "plt.show()"
   ]
  },
  {
   "cell_type": "markdown",
   "metadata": {},
   "source": [
    "## Neural Network 2"
   ]
  },
  {
   "cell_type": "code",
   "execution_count": 33,
   "metadata": {},
   "outputs": [],
   "source": [
    "model_2 = Sequential()\n",
    "model_2.add(Dense(128, input_shape=(2304,), activation='tanh'))\n",
    "model_2.add(Dense(4))\n",
    "model_2.add(Activation('softmax'))\n",
    "model_2.compile(optimizer='adam',\n",
    "              loss='categorical_crossentropy',\n",
    "              metrics=['accuracy'])"
   ]
  },
  {
   "cell_type": "code",
   "execution_count": 34,
   "metadata": {},
   "outputs": [
    {
     "data": {
      "image/svg+xml": [
       "<svg height=\"352pt\" viewBox=\"0.00 0.00 175.24 264.00\" width=\"234pt\" xmlns=\"http://www.w3.org/2000/svg\" xmlns:xlink=\"http://www.w3.org/1999/xlink\">\n",
       "<g class=\"graph\" id=\"graph0\" transform=\"scale(0.75 0.75) rotate(0) translate(4 260)\">\n",
       "<title>G</title>\n",
       "<polygon fill=\"white\" points=\"-4,4 -4,-260 171.24,-260 171.24,4 -4,4\" stroke=\"transparent\"/>\n",
       "<!-- 6436679240 -->\n",
       "<g class=\"node\" id=\"node1\">\n",
       "<title>6436679240</title>\n",
       "<polygon fill=\"none\" points=\"0,-219.5 0,-255.5 167.24,-255.5 167.24,-219.5 0,-219.5\" stroke=\"black\"/>\n",
       "<text font-family=\"Times,serif\" font-size=\"14.00\" text-anchor=\"middle\" x=\"83.62\" y=\"-233.3\">dense_7_input: InputLayer</text>\n",
       "</g>\n",
       "<!-- 6495535056 -->\n",
       "<g class=\"node\" id=\"node2\">\n",
       "<title>6495535056</title>\n",
       "<polygon fill=\"none\" points=\"31.49,-146.5 31.49,-182.5 135.75,-182.5 135.75,-146.5 31.49,-146.5\" stroke=\"black\"/>\n",
       "<text font-family=\"Times,serif\" font-size=\"14.00\" text-anchor=\"middle\" x=\"83.62\" y=\"-160.3\">dense_7: Dense</text>\n",
       "</g>\n",
       "<!-- 6436679240&#45;&gt;6495535056 -->\n",
       "<g class=\"edge\" id=\"edge1\">\n",
       "<title>6436679240-&gt;6495535056</title>\n",
       "<path d=\"M83.62,-219.31C83.62,-211.29 83.62,-201.55 83.62,-192.57\" fill=\"none\" stroke=\"black\"/>\n",
       "<polygon fill=\"black\" points=\"87.12,-192.53 83.62,-182.53 80.12,-192.53 87.12,-192.53\" stroke=\"black\"/>\n",
       "</g>\n",
       "<!-- 6495533544 -->\n",
       "<g class=\"node\" id=\"node3\">\n",
       "<title>6495533544</title>\n",
       "<polygon fill=\"none\" points=\"31.49,-73.5 31.49,-109.5 135.75,-109.5 135.75,-73.5 31.49,-73.5\" stroke=\"black\"/>\n",
       "<text font-family=\"Times,serif\" font-size=\"14.00\" text-anchor=\"middle\" x=\"83.62\" y=\"-87.3\">dense_8: Dense</text>\n",
       "</g>\n",
       "<!-- 6495535056&#45;&gt;6495533544 -->\n",
       "<g class=\"edge\" id=\"edge2\">\n",
       "<title>6495535056-&gt;6495533544</title>\n",
       "<path d=\"M83.62,-146.31C83.62,-138.29 83.62,-128.55 83.62,-119.57\" fill=\"none\" stroke=\"black\"/>\n",
       "<polygon fill=\"black\" points=\"87.12,-119.53 83.62,-109.53 80.12,-119.53 87.12,-119.53\" stroke=\"black\"/>\n",
       "</g>\n",
       "<!-- 6435571752 -->\n",
       "<g class=\"node\" id=\"node4\">\n",
       "<title>6435571752</title>\n",
       "<polygon fill=\"none\" points=\"8.16,-0.5 8.16,-36.5 159.08,-36.5 159.08,-0.5 8.16,-0.5\" stroke=\"black\"/>\n",
       "<text font-family=\"Times,serif\" font-size=\"14.00\" text-anchor=\"middle\" x=\"83.62\" y=\"-14.3\">activation_5: Activation</text>\n",
       "</g>\n",
       "<!-- 6495533544&#45;&gt;6435571752 -->\n",
       "<g class=\"edge\" id=\"edge3\">\n",
       "<title>6495533544-&gt;6435571752</title>\n",
       "<path d=\"M83.62,-73.31C83.62,-65.29 83.62,-55.55 83.62,-46.57\" fill=\"none\" stroke=\"black\"/>\n",
       "<polygon fill=\"black\" points=\"87.12,-46.53 83.62,-36.53 80.12,-46.53 87.12,-46.53\" stroke=\"black\"/>\n",
       "</g>\n",
       "</g>\n",
       "</svg>"
      ],
      "text/plain": [
       "<IPython.core.display.SVG object>"
      ]
     },
     "execution_count": 34,
     "metadata": {},
     "output_type": "execute_result"
    }
   ],
   "source": [
    "SVG(model_to_dot(model_2).create(prog='dot', format='svg'))"
   ]
  },
  {
   "cell_type": "code",
   "execution_count": 35,
   "metadata": {},
   "outputs": [
    {
     "name": "stdout",
     "output_type": "stream",
     "text": [
      "Train on 100641 samples, validate on 12581 samples\n",
      "Epoch 1/50\n",
      "100641/100641 [==============================] - 2s 23us/step - loss: 1.1716 - accuracy: 0.4451 - val_loss: 1.1401 - val_accuracy: 0.4663\n",
      "Epoch 2/50\n",
      "100641/100641 [==============================] - 2s 24us/step - loss: 1.1285 - accuracy: 0.4644 - val_loss: 1.1316 - val_accuracy: 0.4661\n",
      "Epoch 3/50\n",
      "100641/100641 [==============================] - 2s 21us/step - loss: 1.1221 - accuracy: 0.4672 - val_loss: 1.1300 - val_accuracy: 0.4657\n",
      "Epoch 4/50\n",
      "100641/100641 [==============================] - 3s 26us/step - loss: 1.1165 - accuracy: 0.4698 - val_loss: 1.1326 - val_accuracy: 0.4673\n",
      "Epoch 5/50\n",
      "100641/100641 [==============================] - 2s 22us/step - loss: 1.1145 - accuracy: 0.4701 - val_loss: 1.1317 - val_accuracy: 0.4648\n",
      "Epoch 6/50\n",
      "100641/100641 [==============================] - 2s 20us/step - loss: 1.1115 - accuracy: 0.4730 - val_loss: 1.1344 - val_accuracy: 0.4644\n",
      "Epoch 7/50\n",
      "100641/100641 [==============================] - 2s 20us/step - loss: 1.1096 - accuracy: 0.4737 - val_loss: 1.1337 - val_accuracy: 0.4637\n",
      "Epoch 8/50\n",
      "100641/100641 [==============================] - 2s 20us/step - loss: 1.1082 - accuracy: 0.4754 - val_loss: 1.1344 - val_accuracy: 0.4638\n",
      "Epoch 00008: early stopping\n"
     ]
    }
   ],
   "source": [
    "history_2 = model_2.fit(x = train_data, y = train_label, \n",
    "                        validation_data = (valid_data, valid_label),\n",
    "                        callbacks = [monitor],\n",
    "                        epochs = 50, batch_size = 1000, \n",
    "                        shuffle = True)"
   ]
  },
  {
   "cell_type": "code",
   "execution_count": 36,
   "metadata": {},
   "outputs": [
    {
     "data": {
      "image/png": "[encoded data removed]",
      "text/plain": [
       "<Figure size 432x288 with 1 Axes>"
      ]
     },
     "metadata": {
      "needs_background": "light"
     },
     "output_type": "display_data"
    }
   ],
   "source": [
    "# Plot training & validation accuracy values\n",
    "plt.plot(history_2.history['accuracy'])\n",
    "plt.plot(history_2.history['val_accuracy'])\n",
    "plt.title('Model accuracy')\n",
    "plt.ylabel('Accuracy')\n",
    "plt.xlabel('Epoch')\n",
    "plt.legend(['Train', 'Test'], loc='upper left')\n",
    "plt.show()"
   ]
  },
  {
   "cell_type": "code",
   "execution_count": 37,
   "metadata": {},
   "outputs": [
    {
     "data": {
      "image/png": "[encoded data removed]",
      "text/plain": [
       "<Figure size 432x288 with 1 Axes>"
      ]
     },
     "metadata": {
      "needs_background": "light"
     },
     "output_type": "display_data"
    }
   ],
   "source": [
    "# Plot training & validation loss values\n",
    "plt.plot(history_2.history['loss'])\n",
    "plt.plot(history_2.history['val_loss'])\n",
    "plt.title('Model loss')\n",
    "plt.ylabel('Loss')\n",
    "plt.xlabel('Epoch')\n",
    "plt.legend(['Train', 'Test'], loc='upper left')\n",
    "plt.show()"
   ]
  },
  {
   "cell_type": "markdown",
   "metadata": {},
   "source": [
    "## Neural Network 3"
   ]
  },
  {
   "cell_type": "code",
   "execution_count": 38,
   "metadata": {},
   "outputs": [],
   "source": [
    "model_3 = Sequential()\n",
    "model_3.add(Dense(128, input_shape=(2304,), activation='tanh'))\n",
    "model_3.add(Dropout(0.5))\n",
    "model_3.add(Dense(4))\n",
    "model_3.add(Activation('softmax'))\n",
    "model_3.compile(optimizer='adam',\n",
    "              loss='categorical_crossentropy',\n",
    "              metrics=['accuracy'])"
   ]
  },
  {
   "cell_type": "code",
   "execution_count": 39,
   "metadata": {},
   "outputs": [
    {
     "data": {
      "image/svg+xml": [
       "<svg height=\"449pt\" viewBox=\"0.00 0.00 175.24 337.00\" width=\"234pt\" xmlns=\"http://www.w3.org/2000/svg\" xmlns:xlink=\"http://www.w3.org/1999/xlink\">\n",
       "<g class=\"graph\" id=\"graph0\" transform=\"scale(0.75 0.75) rotate(0) translate(4 333)\">\n",
       "<title>G</title>\n",
       "<polygon fill=\"white\" points=\"-4,4 -4,-333 171.24,-333 171.24,4 -4,4\" stroke=\"transparent\"/>\n",
       "<!-- 6454054024 -->\n",
       "<g class=\"node\" id=\"node1\">\n",
       "<title>6454054024</title>\n",
       "<polygon fill=\"none\" points=\"0,-292.5 0,-328.5 167.24,-328.5 167.24,-292.5 0,-292.5\" stroke=\"black\"/>\n",
       "<text font-family=\"Times,serif\" font-size=\"14.00\" text-anchor=\"middle\" x=\"83.62\" y=\"-306.3\">dense_9_input: InputLayer</text>\n",
       "</g>\n",
       "<!-- 6454621184 -->\n",
       "<g class=\"node\" id=\"node2\">\n",
       "<title>6454621184</title>\n",
       "<polygon fill=\"none\" points=\"31.49,-219.5 31.49,-255.5 135.75,-255.5 135.75,-219.5 31.49,-219.5\" stroke=\"black\"/>\n",
       "<text font-family=\"Times,serif\" font-size=\"14.00\" text-anchor=\"middle\" x=\"83.62\" y=\"-233.3\">dense_9: Dense</text>\n",
       "</g>\n",
       "<!-- 6454054024&#45;&gt;6454621184 -->\n",
       "<g class=\"edge\" id=\"edge1\">\n",
       "<title>6454054024-&gt;6454621184</title>\n",
       "<path d=\"M83.62,-292.31C83.62,-284.29 83.62,-274.55 83.62,-265.57\" fill=\"none\" stroke=\"black\"/>\n",
       "<polygon fill=\"black\" points=\"87.12,-265.53 83.62,-255.53 80.12,-265.53 87.12,-265.53\" stroke=\"black\"/>\n",
       "</g>\n",
       "<!-- 6454623760 -->\n",
       "<g class=\"node\" id=\"node3\">\n",
       "<title>6454623760</title>\n",
       "<polygon fill=\"none\" points=\"19.82,-146.5 19.82,-182.5 147.42,-182.5 147.42,-146.5 19.82,-146.5\" stroke=\"black\"/>\n",
       "<text font-family=\"Times,serif\" font-size=\"14.00\" text-anchor=\"middle\" x=\"83.62\" y=\"-160.3\">dropout_2: Dropout</text>\n",
       "</g>\n",
       "<!-- 6454621184&#45;&gt;6454623760 -->\n",
       "<g class=\"edge\" id=\"edge2\">\n",
       "<title>6454621184-&gt;6454623760</title>\n",
       "<path d=\"M83.62,-219.31C83.62,-211.29 83.62,-201.55 83.62,-192.57\" fill=\"none\" stroke=\"black\"/>\n",
       "<polygon fill=\"black\" points=\"87.12,-192.53 83.62,-182.53 80.12,-192.53 87.12,-192.53\" stroke=\"black\"/>\n",
       "</g>\n",
       "<!-- 6490847328 -->\n",
       "<g class=\"node\" id=\"node4\">\n",
       "<title>6490847328</title>\n",
       "<polygon fill=\"none\" points=\"27.99,-73.5 27.99,-109.5 139.25,-109.5 139.25,-73.5 27.99,-73.5\" stroke=\"black\"/>\n",
       "<text font-family=\"Times,serif\" font-size=\"14.00\" text-anchor=\"middle\" x=\"83.62\" y=\"-87.3\">dense_10: Dense</text>\n",
       "</g>\n",
       "<!-- 6454623760&#45;&gt;6490847328 -->\n",
       "<g class=\"edge\" id=\"edge3\">\n",
       "<title>6454623760-&gt;6490847328</title>\n",
       "<path d=\"M83.62,-146.31C83.62,-138.29 83.62,-128.55 83.62,-119.57\" fill=\"none\" stroke=\"black\"/>\n",
       "<polygon fill=\"black\" points=\"87.12,-119.53 83.62,-109.53 80.12,-119.53 87.12,-119.53\" stroke=\"black\"/>\n",
       "</g>\n",
       "<!-- 6451570168 -->\n",
       "<g class=\"node\" id=\"node5\">\n",
       "<title>6451570168</title>\n",
       "<polygon fill=\"none\" points=\"8.16,-0.5 8.16,-36.5 159.08,-36.5 159.08,-0.5 8.16,-0.5\" stroke=\"black\"/>\n",
       "<text font-family=\"Times,serif\" font-size=\"14.00\" text-anchor=\"middle\" x=\"83.62\" y=\"-14.3\">activation_6: Activation</text>\n",
       "</g>\n",
       "<!-- 6490847328&#45;&gt;6451570168 -->\n",
       "<g class=\"edge\" id=\"edge4\">\n",
       "<title>6490847328-&gt;6451570168</title>\n",
       "<path d=\"M83.62,-73.31C83.62,-65.29 83.62,-55.55 83.62,-46.57\" fill=\"none\" stroke=\"black\"/>\n",
       "<polygon fill=\"black\" points=\"87.12,-46.53 83.62,-36.53 80.12,-46.53 87.12,-46.53\" stroke=\"black\"/>\n",
       "</g>\n",
       "</g>\n",
       "</svg>"
      ],
      "text/plain": [
       "<IPython.core.display.SVG object>"
      ]
     },
     "execution_count": 39,
     "metadata": {},
     "output_type": "execute_result"
    }
   ],
   "source": [
    "SVG(model_to_dot(model_3).create(prog='dot', format='svg'))"
   ]
  },
  {
   "cell_type": "code",
   "execution_count": 40,
   "metadata": {},
   "outputs": [
    {
     "name": "stdout",
     "output_type": "stream",
     "text": [
      "Train on 100641 samples, validate on 12581 samples\n",
      "Epoch 1/50\n",
      "100641/100641 [==============================] - 3s 26us/step - loss: 1.1793 - accuracy: 0.4413 - val_loss: 1.1366 - val_accuracy: 0.4662\n",
      "Epoch 2/50\n",
      "100641/100641 [==============================] - 2s 21us/step - loss: 1.1344 - accuracy: 0.4665 - val_loss: 1.1302 - val_accuracy: 0.4675\n",
      "Epoch 3/50\n",
      "100641/100641 [==============================] - 2s 21us/step - loss: 1.1275 - accuracy: 0.4699 - val_loss: 1.1305 - val_accuracy: 0.4667\n",
      "Epoch 4/50\n",
      "100641/100641 [==============================] - 2s 23us/step - loss: 1.1228 - accuracy: 0.4707 - val_loss: 1.1301 - val_accuracy: 0.4659\n",
      "Epoch 5/50\n",
      "100641/100641 [==============================] - 2s 21us/step - loss: 1.1202 - accuracy: 0.4732 - val_loss: 1.1308 - val_accuracy: 0.4664\n",
      "Epoch 6/50\n",
      "100641/100641 [==============================] - 2s 21us/step - loss: 1.1177 - accuracy: 0.4726 - val_loss: 1.1306 - val_accuracy: 0.4655\n",
      "Epoch 7/50\n",
      "100641/100641 [==============================] - 2s 21us/step - loss: 1.1166 - accuracy: 0.4731 - val_loss: 1.1314 - val_accuracy: 0.4659\n",
      "Epoch 00007: early stopping\n"
     ]
    }
   ],
   "source": [
    "history_3 = model_3.fit(x = train_data, y = train_label, \n",
    "                        validation_data = (valid_data, valid_label),\n",
    "                        callbacks = [monitor],\n",
    "                        epochs = 50, batch_size = 1000, \n",
    "                        shuffle = True)"
   ]
  },
  {
   "cell_type": "code",
   "execution_count": 41,
   "metadata": {},
   "outputs": [
    {
     "data": {
      "image/png": "[encoded data removed]",
      "text/plain": [
       "<Figure size 432x288 with 1 Axes>"
      ]
     },
     "metadata": {
      "needs_background": "light"
     },
     "output_type": "display_data"
    }
   ],
   "source": [
    "# Plot training & validation accuracy values\n",
    "plt.plot(history_3.history['accuracy'])\n",
    "plt.plot(history_3.history['val_accuracy'])\n",
    "plt.title('Model accuracy')\n",
    "plt.ylabel('Accuracy')\n",
    "plt.xlabel('Epoch')\n",
    "plt.legend(['Train', 'Test'], loc='upper left')\n",
    "plt.show()"
   ]
  },
  {
   "cell_type": "code",
   "execution_count": 42,
   "metadata": {},
   "outputs": [
    {
     "data": {
      "image/png": "[encoded data removed]",
      "text/plain": [
       "<Figure size 432x288 with 1 Axes>"
      ]
     },
     "metadata": {
      "needs_background": "light"
     },
     "output_type": "display_data"
    }
   ],
   "source": [
    "# Plot training & validation loss values\n",
    "plt.plot(history_3.history['loss'])\n",
    "plt.plot(history_3.history['val_loss'])\n",
    "plt.title('Model loss')\n",
    "plt.ylabel('Loss')\n",
    "plt.xlabel('Epoch')\n",
    "plt.legend(['Train', 'Test'], loc='upper left')\n",
    "plt.show()"
   ]
  },
  {
   "cell_type": "markdown",
   "metadata": {},
   "source": [
    "## Model selection\n",
    "\n",
    "Choose model 1 as the final model becasuse it has highest validation acc"
   ]
  },
  {
   "cell_type": "markdown",
   "metadata": {},
   "source": [
    "## Error Analysis"
   ]
  },
  {
   "cell_type": "code",
   "execution_count": null,
   "metadata": {},
   "outputs": [],
   "source": []
  }
 ],
 "metadata": {
  "kernelspec": {
   "display_name": "Python (ML)",
   "language": "python",
   "name": "ml"
  },
  "language_info": {
   "codemirror_mode": {
    "name": "ipython",
    "version": 3
   },
   "file_extension": ".py",
   "mimetype": "text/x-python",
   "name": "python",
   "nbconvert_exporter": "python",
   "pygments_lexer": "ipython3",
   "version": "3.6.9"
  }
 },
 "nbformat": 4,
 "nbformat_minor": 2
}
