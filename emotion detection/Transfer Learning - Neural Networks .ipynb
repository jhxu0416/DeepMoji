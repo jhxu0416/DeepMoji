{
 "cells": [
  {
   "cell_type": "code",
   "execution_count": 1,
   "metadata": {},
   "outputs": [],
   "source": [
    "import numpy as np\n",
    "np.random.seed(888)"
   ]
  },
  {
   "cell_type": "code",
   "execution_count": 2,
   "metadata": {},
   "outputs": [
    {
     "name": "stderr",
     "output_type": "stream",
     "text": [
      "Using TensorFlow backend.\n"
     ]
    }
   ],
   "source": [
    "import matplotlib.pyplot as plt\n",
    "from IPython.display import SVG\n",
    "from keras.models import Sequential\n",
    "from keras.layers import Dense, Activation, Dropout\n",
    "from keras.utils import model_to_dot\n",
    "from keras.callbacks.callbacks import EarlyStopping"
   ]
  },
  {
   "cell_type": "markdown",
   "metadata": {},
   "source": [
    "## Read train, valid, test data set"
   ]
  },
  {
   "cell_type": "code",
   "execution_count": 3,
   "metadata": {},
   "outputs": [],
   "source": [
    "train_data = np.load(\"data/train_data.npy\")\n",
    "train_label = np.load(\"data/train_label.npy\")\n",
    "\n",
    "valid_data = np.load(\"data/valid_data.npy\")\n",
    "valid_label = np.load(\"data/valid_label.npy\")\n",
    "\n",
    "test_data = np.load(\"data/test_data.npy\")\n",
    "test_label = np.load(\"data/test_label.npy\")"
   ]
  },
  {
   "cell_type": "code",
   "execution_count": 4,
   "metadata": {},
   "outputs": [],
   "source": [
    "monitor = EarlyStopping(monitor='val_loss', min_delta=1e-3, patience=5, verbose=1, mode='auto')"
   ]
  },
  {
   "cell_type": "markdown",
   "metadata": {},
   "source": [
    "## Neural Network 1"
   ]
  },
  {
   "cell_type": "code",
   "execution_count": 5,
   "metadata": {},
   "outputs": [],
   "source": [
    "model_1 = Sequential()\n",
    "model_1.add(Dense(4, input_shape=(2304,)))\n",
    "model_1.add(Activation('softmax'))\n",
    "model_1.compile(optimizer='adam',\n",
    "                loss='categorical_crossentropy',\n",
    "                metrics=['accuracy'])"
   ]
  },
  {
   "cell_type": "code",
   "execution_count": 6,
   "metadata": {},
   "outputs": [
    {
     "data": {
      "image/svg+xml": [
       "<svg height=\"255pt\" viewBox=\"0.00 0.00 175.24 191.00\" width=\"234pt\" xmlns=\"http://www.w3.org/2000/svg\" xmlns:xlink=\"http://www.w3.org/1999/xlink\">\n",
       "<g class=\"graph\" id=\"graph0\" transform=\"scale(0.75 0.75) rotate(0) translate(4 187)\">\n",
       "<title>G</title>\n",
       "<polygon fill=\"white\" points=\"-4,4 -4,-187 171.24,-187 171.24,4 -4,4\" stroke=\"transparent\"/>\n",
       "<!-- 5193002680 -->\n",
       "<g class=\"node\" id=\"node1\">\n",
       "<title>5193002680</title>\n",
       "<polygon fill=\"none\" points=\"0,-146.5 0,-182.5 167.24,-182.5 167.24,-146.5 0,-146.5\" stroke=\"black\"/>\n",
       "<text font-family=\"Times,serif\" font-size=\"14.00\" text-anchor=\"middle\" x=\"83.62\" y=\"-160.3\">dense_1_input: InputLayer</text>\n",
       "</g>\n",
       "<!-- 5193000944 -->\n",
       "<g class=\"node\" id=\"node2\">\n",
       "<title>5193000944</title>\n",
       "<polygon fill=\"none\" points=\"31.49,-73.5 31.49,-109.5 135.75,-109.5 135.75,-73.5 31.49,-73.5\" stroke=\"black\"/>\n",
       "<text font-family=\"Times,serif\" font-size=\"14.00\" text-anchor=\"middle\" x=\"83.62\" y=\"-87.3\">dense_1: Dense</text>\n",
       "</g>\n",
       "<!-- 5193002680&#45;&gt;5193000944 -->\n",
       "<g class=\"edge\" id=\"edge1\">\n",
       "<title>5193002680-&gt;5193000944</title>\n",
       "<path d=\"M83.62,-146.31C83.62,-138.29 83.62,-128.55 83.62,-119.57\" fill=\"none\" stroke=\"black\"/>\n",
       "<polygon fill=\"black\" points=\"87.12,-119.53 83.62,-109.53 80.12,-119.53 87.12,-119.53\" stroke=\"black\"/>\n",
       "</g>\n",
       "<!-- 4558215656 -->\n",
       "<g class=\"node\" id=\"node3\">\n",
       "<title>4558215656</title>\n",
       "<polygon fill=\"none\" points=\"8.16,-0.5 8.16,-36.5 159.08,-36.5 159.08,-0.5 8.16,-0.5\" stroke=\"black\"/>\n",
       "<text font-family=\"Times,serif\" font-size=\"14.00\" text-anchor=\"middle\" x=\"83.62\" y=\"-14.3\">activation_1: Activation</text>\n",
       "</g>\n",
       "<!-- 5193000944&#45;&gt;4558215656 -->\n",
       "<g class=\"edge\" id=\"edge2\">\n",
       "<title>5193000944-&gt;4558215656</title>\n",
       "<path d=\"M83.62,-73.31C83.62,-65.29 83.62,-55.55 83.62,-46.57\" fill=\"none\" stroke=\"black\"/>\n",
       "<polygon fill=\"black\" points=\"87.12,-46.53 83.62,-36.53 80.12,-46.53 87.12,-46.53\" stroke=\"black\"/>\n",
       "</g>\n",
       "</g>\n",
       "</svg>"
      ],
      "text/plain": [
       "<IPython.core.display.SVG object>"
      ]
     },
     "execution_count": 6,
     "metadata": {},
     "output_type": "execute_result"
    }
   ],
   "source": [
    "SVG(model_to_dot(model_1).create(prog='dot', format='svg'))"
   ]
  },
  {
   "cell_type": "code",
   "execution_count": 7,
   "metadata": {},
   "outputs": [
    {
     "name": "stdout",
     "output_type": "stream",
     "text": [
      "Train on 105697 samples, validate on 13213 samples\n",
      "Epoch 1/50\n",
      "105697/105697 [==============================] - 2s 14us/step - loss: 1.0453 - accuracy: 0.5541 - val_loss: 0.9755 - val_accuracy: 0.5753\n",
      "Epoch 2/50\n",
      "105697/105697 [==============================] - 2s 15us/step - loss: 0.9706 - accuracy: 0.5783 - val_loss: 0.9612 - val_accuracy: 0.5823\n",
      "Epoch 3/50\n",
      "105697/105697 [==============================] - 1s 13us/step - loss: 0.9602 - accuracy: 0.5839 - val_loss: 0.9561 - val_accuracy: 0.5859\n",
      "Epoch 4/50\n",
      "105697/105697 [==============================] - 2s 15us/step - loss: 0.9550 - accuracy: 0.5863 - val_loss: 0.9539 - val_accuracy: 0.5877\n",
      "Epoch 5/50\n",
      "105697/105697 [==============================] - 2s 15us/step - loss: 0.9514 - accuracy: 0.5889 - val_loss: 0.9528 - val_accuracy: 0.5883\n",
      "Epoch 6/50\n",
      "105697/105697 [==============================] - 2s 15us/step - loss: 0.9487 - accuracy: 0.5902 - val_loss: 0.9524 - val_accuracy: 0.5890\n",
      "Epoch 7/50\n",
      "105697/105697 [==============================] - 2s 18us/step - loss: 0.9465 - accuracy: 0.5912 - val_loss: 0.9509 - val_accuracy: 0.5887\n",
      "Epoch 8/50\n",
      "105697/105697 [==============================] - 2s 18us/step - loss: 0.9445 - accuracy: 0.5929 - val_loss: 0.9506 - val_accuracy: 0.5881\n",
      "Epoch 9/50\n",
      "105697/105697 [==============================] - 2s 15us/step - loss: 0.9431 - accuracy: 0.5922 - val_loss: 0.9512 - val_accuracy: 0.5862\n",
      "Epoch 10/50\n",
      "105697/105697 [==============================] - 1s 14us/step - loss: 0.9416 - accuracy: 0.5934 - val_loss: 0.9504 - val_accuracy: 0.5883\n",
      "Epoch 11/50\n",
      "105697/105697 [==============================] - 1s 14us/step - loss: 0.9405 - accuracy: 0.5938 - val_loss: 0.9500 - val_accuracy: 0.5878\n",
      "Epoch 12/50\n",
      "105697/105697 [==============================] - 2s 15us/step - loss: 0.9391 - accuracy: 0.5952 - val_loss: 0.9505 - val_accuracy: 0.5871\n",
      "Epoch 00012: early stopping\n"
     ]
    }
   ],
   "source": [
    "history_1 = model_1.fit(x = train_data, y = train_label, \n",
    "                        validation_data = (valid_data, valid_label),\n",
    "                        callbacks = [monitor],\n",
    "                        epochs = 50, batch_size = 128, \n",
    "                        shuffle = True)"
   ]
  },
  {
   "cell_type": "code",
   "execution_count": 8,
   "metadata": {},
   "outputs": [
    {
     "data": {
      "image/png": "[encoded data removed]",
      "text/plain": [
       "<Figure size 432x288 with 1 Axes>"
      ]
     },
     "metadata": {
      "needs_background": "light"
     },
     "output_type": "display_data"
    }
   ],
   "source": [
    "# Plot training & validation accuracy values\n",
    "plt.plot(history_1.history['accuracy'])\n",
    "plt.plot(history_1.history['val_accuracy'])\n",
    "plt.title('Model accuracy')\n",
    "plt.ylabel('Accuracy')\n",
    "plt.xlabel('Epoch')\n",
    "plt.legend(['Train', 'Test'], loc='upper left')\n",
    "plt.show()"
   ]
  },
  {
   "cell_type": "code",
   "execution_count": 9,
   "metadata": {},
   "outputs": [
    {
     "data": {
      "image/png": "[encoded data removed]",
      "text/plain": [
       "<Figure size 432x288 with 1 Axes>"
      ]
     },
     "metadata": {
      "needs_background": "light"
     },
     "output_type": "display_data"
    }
   ],
   "source": [
    "# Plot training & validation loss values\n",
    "plt.plot(history_1.history['loss'])\n",
    "plt.plot(history_1.history['val_loss'])\n",
    "plt.title('Model loss')\n",
    "plt.ylabel('Loss')\n",
    "plt.xlabel('Epoch')\n",
    "plt.legend(['Train', 'Test'], loc='upper left')\n",
    "plt.show()"
   ]
  },
  {
   "cell_type": "markdown",
   "metadata": {},
   "source": [
    "## Neural Network 2"
   ]
  },
  {
   "cell_type": "code",
   "execution_count": 10,
   "metadata": {},
   "outputs": [],
   "source": [
    "model_2 = Sequential()\n",
    "model_2.add(Dense(128, input_shape=(2304,), activation='tanh'))\n",
    "model_2.add(Dense(4))\n",
    "model_2.add(Activation('softmax'))\n",
    "model_2.compile(optimizer='adam',\n",
    "              loss='categorical_crossentropy',\n",
    "              metrics=['accuracy'])"
   ]
  },
  {
   "cell_type": "code",
   "execution_count": 11,
   "metadata": {},
   "outputs": [
    {
     "data": {
      "image/svg+xml": [
       "<svg height=\"352pt\" viewBox=\"0.00 0.00 175.24 264.00\" width=\"234pt\" xmlns=\"http://www.w3.org/2000/svg\" xmlns:xlink=\"http://www.w3.org/1999/xlink\">\n",
       "<g class=\"graph\" id=\"graph0\" transform=\"scale(0.75 0.75) rotate(0) translate(4 260)\">\n",
       "<title>G</title>\n",
       "<polygon fill=\"white\" points=\"-4,4 -4,-260 171.24,-260 171.24,4 -4,4\" stroke=\"transparent\"/>\n",
       "<!-- 4627319944 -->\n",
       "<g class=\"node\" id=\"node1\">\n",
       "<title>4627319944</title>\n",
       "<polygon fill=\"none\" points=\"0,-219.5 0,-255.5 167.24,-255.5 167.24,-219.5 0,-219.5\" stroke=\"black\"/>\n",
       "<text font-family=\"Times,serif\" font-size=\"14.00\" text-anchor=\"middle\" x=\"83.62\" y=\"-233.3\">dense_2_input: InputLayer</text>\n",
       "</g>\n",
       "<!-- 6416172648 -->\n",
       "<g class=\"node\" id=\"node2\">\n",
       "<title>6416172648</title>\n",
       "<polygon fill=\"none\" points=\"31.49,-146.5 31.49,-182.5 135.75,-182.5 135.75,-146.5 31.49,-146.5\" stroke=\"black\"/>\n",
       "<text font-family=\"Times,serif\" font-size=\"14.00\" text-anchor=\"middle\" x=\"83.62\" y=\"-160.3\">dense_2: Dense</text>\n",
       "</g>\n",
       "<!-- 4627319944&#45;&gt;6416172648 -->\n",
       "<g class=\"edge\" id=\"edge1\">\n",
       "<title>4627319944-&gt;6416172648</title>\n",
       "<path d=\"M83.62,-219.31C83.62,-211.29 83.62,-201.55 83.62,-192.57\" fill=\"none\" stroke=\"black\"/>\n",
       "<polygon fill=\"black\" points=\"87.12,-192.53 83.62,-182.53 80.12,-192.53 87.12,-192.53\" stroke=\"black\"/>\n",
       "</g>\n",
       "<!-- 4625904640 -->\n",
       "<g class=\"node\" id=\"node3\">\n",
       "<title>4625904640</title>\n",
       "<polygon fill=\"none\" points=\"31.49,-73.5 31.49,-109.5 135.75,-109.5 135.75,-73.5 31.49,-73.5\" stroke=\"black\"/>\n",
       "<text font-family=\"Times,serif\" font-size=\"14.00\" text-anchor=\"middle\" x=\"83.62\" y=\"-87.3\">dense_3: Dense</text>\n",
       "</g>\n",
       "<!-- 6416172648&#45;&gt;4625904640 -->\n",
       "<g class=\"edge\" id=\"edge2\">\n",
       "<title>6416172648-&gt;4625904640</title>\n",
       "<path d=\"M83.62,-146.31C83.62,-138.29 83.62,-128.55 83.62,-119.57\" fill=\"none\" stroke=\"black\"/>\n",
       "<polygon fill=\"black\" points=\"87.12,-119.53 83.62,-109.53 80.12,-119.53 87.12,-119.53\" stroke=\"black\"/>\n",
       "</g>\n",
       "<!-- 4627130576 -->\n",
       "<g class=\"node\" id=\"node4\">\n",
       "<title>4627130576</title>\n",
       "<polygon fill=\"none\" points=\"8.16,-0.5 8.16,-36.5 159.08,-36.5 159.08,-0.5 8.16,-0.5\" stroke=\"black\"/>\n",
       "<text font-family=\"Times,serif\" font-size=\"14.00\" text-anchor=\"middle\" x=\"83.62\" y=\"-14.3\">activation_2: Activation</text>\n",
       "</g>\n",
       "<!-- 4625904640&#45;&gt;4627130576 -->\n",
       "<g class=\"edge\" id=\"edge3\">\n",
       "<title>4625904640-&gt;4627130576</title>\n",
       "<path d=\"M83.62,-73.31C83.62,-65.29 83.62,-55.55 83.62,-46.57\" fill=\"none\" stroke=\"black\"/>\n",
       "<polygon fill=\"black\" points=\"87.12,-46.53 83.62,-36.53 80.12,-46.53 87.12,-46.53\" stroke=\"black\"/>\n",
       "</g>\n",
       "</g>\n",
       "</svg>"
      ],
      "text/plain": [
       "<IPython.core.display.SVG object>"
      ]
     },
     "execution_count": 11,
     "metadata": {},
     "output_type": "execute_result"
    }
   ],
   "source": [
    "SVG(model_to_dot(model_2).create(prog='dot', format='svg'))"
   ]
  },
  {
   "cell_type": "code",
   "execution_count": 12,
   "metadata": {},
   "outputs": [
    {
     "name": "stdout",
     "output_type": "stream",
     "text": [
      "Train on 105697 samples, validate on 13213 samples\n",
      "Epoch 1/50\n",
      "105697/105697 [==============================] - 4s 35us/step - loss: 0.9817 - accuracy: 0.5717 - val_loss: 0.9703 - val_accuracy: 0.5777\n",
      "Epoch 2/50\n",
      "105697/105697 [==============================] - 4s 33us/step - loss: 0.9555 - accuracy: 0.5858 - val_loss: 0.9545 - val_accuracy: 0.5844\n",
      "Epoch 3/50\n",
      "105697/105697 [==============================] - 3s 33us/step - loss: 0.9486 - accuracy: 0.5898 - val_loss: 0.9551 - val_accuracy: 0.5841\n",
      "Epoch 4/50\n",
      "105697/105697 [==============================] - 4s 34us/step - loss: 0.9449 - accuracy: 0.5926 - val_loss: 0.9571 - val_accuracy: 0.5829\n",
      "Epoch 5/50\n",
      "105697/105697 [==============================] - 4s 33us/step - loss: 0.9429 - accuracy: 0.5931 - val_loss: 0.9541 - val_accuracy: 0.5859\n",
      "Epoch 6/50\n",
      "105697/105697 [==============================] - 3s 33us/step - loss: 0.9405 - accuracy: 0.5939 - val_loss: 0.9591 - val_accuracy: 0.5825\n",
      "Epoch 7/50\n",
      "105697/105697 [==============================] - 3s 32us/step - loss: 0.9383 - accuracy: 0.5946 - val_loss: 0.9570 - val_accuracy: 0.5841\n",
      "Epoch 00007: early stopping\n"
     ]
    }
   ],
   "source": [
    "history_2 = model_2.fit(x = train_data, y = train_label, \n",
    "                        validation_data = (valid_data, valid_label),\n",
    "                        callbacks = [monitor],\n",
    "                        epochs = 50, batch_size = 128, \n",
    "                        shuffle = True)"
   ]
  },
  {
   "cell_type": "code",
   "execution_count": 13,
   "metadata": {},
   "outputs": [
    {
     "data": {
      "image/png": "[encoded data removed]",
      "text/plain": [
       "<Figure size 432x288 with 1 Axes>"
      ]
     },
     "metadata": {
      "needs_background": "light"
     },
     "output_type": "display_data"
    }
   ],
   "source": [
    "# Plot training & validation accuracy values\n",
    "plt.plot(history_2.history['accuracy'])\n",
    "plt.plot(history_2.history['val_accuracy'])\n",
    "plt.title('Model accuracy')\n",
    "plt.ylabel('Accuracy')\n",
    "plt.xlabel('Epoch')\n",
    "plt.legend(['Train', 'Test'], loc='upper left')\n",
    "plt.show()"
   ]
  },
  {
   "cell_type": "code",
   "execution_count": 14,
   "metadata": {},
   "outputs": [
    {
     "data": {
      "image/png": "[encoded data removed]",
      "text/plain": [
       "<Figure size 432x288 with 1 Axes>"
      ]
     },
     "metadata": {
      "needs_background": "light"
     },
     "output_type": "display_data"
    }
   ],
   "source": [
    "# Plot training & validation loss values\n",
    "plt.plot(history_2.history['loss'])\n",
    "plt.plot(history_2.history['val_loss'])\n",
    "plt.title('Model loss')\n",
    "plt.ylabel('Loss')\n",
    "plt.xlabel('Epoch')\n",
    "plt.legend(['Train', 'Test'], loc='upper left')\n",
    "plt.show()"
   ]
  },
  {
   "cell_type": "markdown",
   "metadata": {},
   "source": [
    "## Neural Network 3"
   ]
  },
  {
   "cell_type": "code",
   "execution_count": 15,
   "metadata": {},
   "outputs": [],
   "source": [
    "model_3 = Sequential()\n",
    "model_3.add(Dense(128, input_shape=(2304,), activation='tanh'))\n",
    "model_3.add(Dropout(0.5))\n",
    "model_3.add(Dense(4))\n",
    "model_3.add(Activation('softmax'))\n",
    "model_3.compile(optimizer='adam',\n",
    "              loss='categorical_crossentropy',\n",
    "              metrics=['accuracy'])"
   ]
  },
  {
   "cell_type": "code",
   "execution_count": 16,
   "metadata": {},
   "outputs": [
    {
     "data": {
      "image/svg+xml": [
       "<svg height=\"449pt\" viewBox=\"0.00 0.00 175.24 337.00\" width=\"234pt\" xmlns=\"http://www.w3.org/2000/svg\" xmlns:xlink=\"http://www.w3.org/1999/xlink\">\n",
       "<g class=\"graph\" id=\"graph0\" transform=\"scale(0.75 0.75) rotate(0) translate(4 333)\">\n",
       "<title>G</title>\n",
       "<polygon fill=\"white\" points=\"-4,4 -4,-333 171.24,-333 171.24,4 -4,4\" stroke=\"transparent\"/>\n",
       "<!-- 4627655872 -->\n",
       "<g class=\"node\" id=\"node1\">\n",
       "<title>4627655872</title>\n",
       "<polygon fill=\"none\" points=\"0,-292.5 0,-328.5 167.24,-328.5 167.24,-292.5 0,-292.5\" stroke=\"black\"/>\n",
       "<text font-family=\"Times,serif\" font-size=\"14.00\" text-anchor=\"middle\" x=\"83.62\" y=\"-306.3\">dense_4_input: InputLayer</text>\n",
       "</g>\n",
       "<!-- 4627597184 -->\n",
       "<g class=\"node\" id=\"node2\">\n",
       "<title>4627597184</title>\n",
       "<polygon fill=\"none\" points=\"31.49,-219.5 31.49,-255.5 135.75,-255.5 135.75,-219.5 31.49,-219.5\" stroke=\"black\"/>\n",
       "<text font-family=\"Times,serif\" font-size=\"14.00\" text-anchor=\"middle\" x=\"83.62\" y=\"-233.3\">dense_4: Dense</text>\n",
       "</g>\n",
       "<!-- 4627655872&#45;&gt;4627597184 -->\n",
       "<g class=\"edge\" id=\"edge1\">\n",
       "<title>4627655872-&gt;4627597184</title>\n",
       "<path d=\"M83.62,-292.31C83.62,-284.29 83.62,-274.55 83.62,-265.57\" fill=\"none\" stroke=\"black\"/>\n",
       "<polygon fill=\"black\" points=\"87.12,-265.53 83.62,-255.53 80.12,-265.53 87.12,-265.53\" stroke=\"black\"/>\n",
       "</g>\n",
       "<!-- 4627598136 -->\n",
       "<g class=\"node\" id=\"node3\">\n",
       "<title>4627598136</title>\n",
       "<polygon fill=\"none\" points=\"19.82,-146.5 19.82,-182.5 147.42,-182.5 147.42,-146.5 19.82,-146.5\" stroke=\"black\"/>\n",
       "<text font-family=\"Times,serif\" font-size=\"14.00\" text-anchor=\"middle\" x=\"83.62\" y=\"-160.3\">dropout_1: Dropout</text>\n",
       "</g>\n",
       "<!-- 4627597184&#45;&gt;4627598136 -->\n",
       "<g class=\"edge\" id=\"edge2\">\n",
       "<title>4627597184-&gt;4627598136</title>\n",
       "<path d=\"M83.62,-219.31C83.62,-211.29 83.62,-201.55 83.62,-192.57\" fill=\"none\" stroke=\"black\"/>\n",
       "<polygon fill=\"black\" points=\"87.12,-192.53 83.62,-182.53 80.12,-192.53 87.12,-192.53\" stroke=\"black\"/>\n",
       "</g>\n",
       "<!-- 4627655480 -->\n",
       "<g class=\"node\" id=\"node4\">\n",
       "<title>4627655480</title>\n",
       "<polygon fill=\"none\" points=\"31.49,-73.5 31.49,-109.5 135.75,-109.5 135.75,-73.5 31.49,-73.5\" stroke=\"black\"/>\n",
       "<text font-family=\"Times,serif\" font-size=\"14.00\" text-anchor=\"middle\" x=\"83.62\" y=\"-87.3\">dense_5: Dense</text>\n",
       "</g>\n",
       "<!-- 4627598136&#45;&gt;4627655480 -->\n",
       "<g class=\"edge\" id=\"edge3\">\n",
       "<title>4627598136-&gt;4627655480</title>\n",
       "<path d=\"M83.62,-146.31C83.62,-138.29 83.62,-128.55 83.62,-119.57\" fill=\"none\" stroke=\"black\"/>\n",
       "<polygon fill=\"black\" points=\"87.12,-119.53 83.62,-109.53 80.12,-119.53 87.12,-119.53\" stroke=\"black\"/>\n",
       "</g>\n",
       "<!-- 4627655312 -->\n",
       "<g class=\"node\" id=\"node5\">\n",
       "<title>4627655312</title>\n",
       "<polygon fill=\"none\" points=\"8.16,-0.5 8.16,-36.5 159.08,-36.5 159.08,-0.5 8.16,-0.5\" stroke=\"black\"/>\n",
       "<text font-family=\"Times,serif\" font-size=\"14.00\" text-anchor=\"middle\" x=\"83.62\" y=\"-14.3\">activation_3: Activation</text>\n",
       "</g>\n",
       "<!-- 4627655480&#45;&gt;4627655312 -->\n",
       "<g class=\"edge\" id=\"edge4\">\n",
       "<title>4627655480-&gt;4627655312</title>\n",
       "<path d=\"M83.62,-73.31C83.62,-65.29 83.62,-55.55 83.62,-46.57\" fill=\"none\" stroke=\"black\"/>\n",
       "<polygon fill=\"black\" points=\"87.12,-46.53 83.62,-36.53 80.12,-46.53 87.12,-46.53\" stroke=\"black\"/>\n",
       "</g>\n",
       "</g>\n",
       "</svg>"
      ],
      "text/plain": [
       "<IPython.core.display.SVG object>"
      ]
     },
     "execution_count": 16,
     "metadata": {},
     "output_type": "execute_result"
    }
   ],
   "source": [
    "SVG(model_to_dot(model_3).create(prog='dot', format='svg'))"
   ]
  },
  {
   "cell_type": "code",
   "execution_count": 17,
   "metadata": {},
   "outputs": [
    {
     "name": "stdout",
     "output_type": "stream",
     "text": [
      "Train on 105697 samples, validate on 13213 samples\n",
      "Epoch 1/50\n",
      "105697/105697 [==============================] - 4s 37us/step - loss: 0.9931 - accuracy: 0.5676 - val_loss: 0.9615 - val_accuracy: 0.5819\n",
      "Epoch 2/50\n",
      "105697/105697 [==============================] - 3s 32us/step - loss: 0.9667 - accuracy: 0.5804 - val_loss: 0.9542 - val_accuracy: 0.5839\n",
      "Epoch 3/50\n",
      "105697/105697 [==============================] - 4s 33us/step - loss: 0.9602 - accuracy: 0.5850 - val_loss: 0.9542 - val_accuracy: 0.5858\n",
      "Epoch 4/50\n",
      "105697/105697 [==============================] - 4s 33us/step - loss: 0.9567 - accuracy: 0.5865 - val_loss: 0.9533 - val_accuracy: 0.5876\n",
      "Epoch 5/50\n",
      "105697/105697 [==============================] - 4s 34us/step - loss: 0.9543 - accuracy: 0.5886 - val_loss: 0.9572 - val_accuracy: 0.5838\n",
      "Epoch 6/50\n",
      "105697/105697 [==============================] - 3s 33us/step - loss: 0.9515 - accuracy: 0.5895 - val_loss: 0.9591 - val_accuracy: 0.5801\n",
      "Epoch 7/50\n",
      "105697/105697 [==============================] - 3s 33us/step - loss: 0.9492 - accuracy: 0.5908 - val_loss: 0.9550 - val_accuracy: 0.5835\n",
      "Epoch 00007: early stopping\n"
     ]
    }
   ],
   "source": [
    "history_3 = model_3.fit(x = train_data, y = train_label, \n",
    "                        validation_data = (valid_data, valid_label),\n",
    "                        callbacks = [monitor],\n",
    "                        epochs = 50, batch_size = 128, \n",
    "                        shuffle = True)"
   ]
  },
  {
   "cell_type": "code",
   "execution_count": 18,
   "metadata": {},
   "outputs": [
    {
     "data": {
      "image/png": "[encoded data removed]",
      "text/plain": [
       "<Figure size 432x288 with 1 Axes>"
      ]
     },
     "metadata": {
      "needs_background": "light"
     },
     "output_type": "display_data"
    }
   ],
   "source": [
    "# Plot training & validation accuracy values\n",
    "plt.plot(history_3.history['accuracy'])\n",
    "plt.plot(history_3.history['val_accuracy'])\n",
    "plt.title('Model accuracy')\n",
    "plt.ylabel('Accuracy')\n",
    "plt.xlabel('Epoch')\n",
    "plt.legend(['Train', 'Test'], loc='upper left')\n",
    "plt.show()"
   ]
  },
  {
   "cell_type": "code",
   "execution_count": 19,
   "metadata": {},
   "outputs": [
    {
     "data": {
      "image/png": "[encoded data removed]",
      "text/plain": [
       "<Figure size 432x288 with 1 Axes>"
      ]
     },
     "metadata": {
      "needs_background": "light"
     },
     "output_type": "display_data"
    }
   ],
   "source": [
    "# Plot training & validation loss values\n",
    "plt.plot(history_3.history['loss'])\n",
    "plt.plot(history_3.history['val_loss'])\n",
    "plt.title('Model loss')\n",
    "plt.ylabel('Loss')\n",
    "plt.xlabel('Epoch')\n",
    "plt.legend(['Train', 'Test'], loc='upper left')\n",
    "plt.show()"
   ]
  },
  {
   "cell_type": "markdown",
   "metadata": {},
   "source": [
    "## Model selection\n",
    "\n",
    "Choose model 1 as the final model becasuse it has highest validation accuracy (58.71%)"
   ]
  },
  {
   "cell_type": "markdown",
   "metadata": {},
   "source": [
    "## Error Analysis"
   ]
  },
  {
   "cell_type": "code",
   "execution_count": 20,
   "metadata": {},
   "outputs": [
    {
     "data": {
      "text/html": [
       "\n",
       "    <div class=\"bk-root\">\n",
       "        <a href=\"https://bokeh.pydata.org\" target=\"_blank\" class=\"bk-logo bk-logo-small bk-logo-notebook\"></a>\n",
       "        <span id=\"1001\">Loading BokehJS ...</span>\n",
       "    </div>"
      ]
     },
     "metadata": {},
     "output_type": "display_data"
    },
    {
     "data": {
      "application/javascript": [
       "\n",
       "(function(root) {\n",
       "  function now() {\n",
       "    return new Date();\n",
       "  }\n",
       "\n",
       "  var force = true;\n",
       "\n",
       "  if (typeof root._bokeh_onload_callbacks === \"undefined\" || force === true) {\n",
       "    root._bokeh_onload_callbacks = [];\n",
       "    root._bokeh_is_loading = undefined;\n",
       "  }\n",
       "\n",
       "  var JS_MIME_TYPE = 'application/javascript';\n",
       "  var HTML_MIME_TYPE = 'text/html';\n",
       "  var EXEC_MIME_TYPE = 'application/vnd.bokehjs_exec.v0+json';\n",
       "  var CLASS_NAME = 'output_bokeh rendered_html';\n",
       "\n",
       "  /**\n",
       "   * Render data to the DOM node\n",
       "   */\n",
       "  function render(props, node) {\n",
       "    var script = document.createElement(\"script\");\n",
       "    node.appendChild(script);\n",
       "  }\n",
       "\n",
       "  /**\n",
       "   * Handle when an output is cleared or removed\n",
       "   */\n",
       "  function handleClearOutput(event, handle) {\n",
       "    var cell = handle.cell;\n",
       "\n",
       "    var id = cell.output_area._bokeh_element_id;\n",
       "    var server_id = cell.output_area._bokeh_server_id;\n",
       "    // Clean up Bokeh references\n",
       "    if (id != null && id in Bokeh.index) {\n",
       "      Bokeh.index[id].model.document.clear();\n",
       "      delete Bokeh.index[id];\n",
       "    }\n",
       "\n",
       "    if (server_id !== undefined) {\n",
       "      // Clean up Bokeh references\n",
       "      var cmd = \"from bokeh.io.state import curstate; print(curstate().uuid_to_server['\" + server_id + \"'].get_sessions()[0].document.roots[0]._id)\";\n",
       "      cell.notebook.kernel.execute(cmd, {\n",
       "        iopub: {\n",
       "          output: function(msg) {\n",
       "            var id = msg.content.text.trim();\n",
       "            if (id in Bokeh.index) {\n",
       "              Bokeh.index[id].model.document.clear();\n",
       "              delete Bokeh.index[id];\n",
       "            }\n",
       "          }\n",
       "        }\n",
       "      });\n",
       "      // Destroy server and session\n",
       "      var cmd = \"import bokeh.io.notebook as ion; ion.destroy_server('\" + server_id + \"')\";\n",
       "      cell.notebook.kernel.execute(cmd);\n",
       "    }\n",
       "  }\n",
       "\n",
       "  /**\n",
       "   * Handle when a new output is added\n",
       "   */\n",
       "  function handleAddOutput(event, handle) {\n",
       "    var output_area = handle.output_area;\n",
       "    var output = handle.output;\n",
       "\n",
       "    // limit handleAddOutput to display_data with EXEC_MIME_TYPE content only\n",
       "    if ((output.output_type != \"display_data\") || (!output.data.hasOwnProperty(EXEC_MIME_TYPE))) {\n",
       "      return\n",
       "    }\n",
       "\n",
       "    var toinsert = output_area.element.find(\".\" + CLASS_NAME.split(' ')[0]);\n",
       "\n",
       "    if (output.metadata[EXEC_MIME_TYPE][\"id\"] !== undefined) {\n",
       "      toinsert[toinsert.length - 1].firstChild.textContent = output.data[JS_MIME_TYPE];\n",
       "      // store reference to embed id on output_area\n",
       "      output_area._bokeh_element_id = output.metadata[EXEC_MIME_TYPE][\"id\"];\n",
       "    }\n",
       "    if (output.metadata[EXEC_MIME_TYPE][\"server_id\"] !== undefined) {\n",
       "      var bk_div = document.createElement(\"div\");\n",
       "      bk_div.innerHTML = output.data[HTML_MIME_TYPE];\n",
       "      var script_attrs = bk_div.children[0].attributes;\n",
       "      for (var i = 0; i < script_attrs.length; i++) {\n",
       "        toinsert[toinsert.length - 1].firstChild.setAttribute(script_attrs[i].name, script_attrs[i].value);\n",
       "      }\n",
       "      // store reference to server id on output_area\n",
       "      output_area._bokeh_server_id = output.metadata[EXEC_MIME_TYPE][\"server_id\"];\n",
       "    }\n",
       "  }\n",
       "\n",
       "  function register_renderer(events, OutputArea) {\n",
       "\n",
       "    function append_mime(data, metadata, element) {\n",
       "      // create a DOM node to render to\n",
       "      var toinsert = this.create_output_subarea(\n",
       "        metadata,\n",
       "        CLASS_NAME,\n",
       "        EXEC_MIME_TYPE\n",
       "      );\n",
       "      this.keyboard_manager.register_events(toinsert);\n",
       "      // Render to node\n",
       "      var props = {data: data, metadata: metadata[EXEC_MIME_TYPE]};\n",
       "      render(props, toinsert[toinsert.length - 1]);\n",
       "      element.append(toinsert);\n",
       "      return toinsert\n",
       "    }\n",
       "\n",
       "    /* Handle when an output is cleared or removed */\n",
       "    events.on('clear_output.CodeCell', handleClearOutput);\n",
       "    events.on('delete.Cell', handleClearOutput);\n",
       "\n",
       "    /* Handle when a new output is added */\n",
       "    events.on('output_added.OutputArea', handleAddOutput);\n",
       "\n",
       "    /**\n",
       "     * Register the mime type and append_mime function with output_area\n",
       "     */\n",
       "    OutputArea.prototype.register_mime_type(EXEC_MIME_TYPE, append_mime, {\n",
       "      /* Is output safe? */\n",
       "      safe: true,\n",
       "      /* Index of renderer in `output_area.display_order` */\n",
       "      index: 0\n",
       "    });\n",
       "  }\n",
       "\n",
       "  // register the mime type if in Jupyter Notebook environment and previously unregistered\n",
       "  if (root.Jupyter !== undefined) {\n",
       "    var events = require('base/js/events');\n",
       "    var OutputArea = require('notebook/js/outputarea').OutputArea;\n",
       "\n",
       "    if (OutputArea.prototype.mime_types().indexOf(EXEC_MIME_TYPE) == -1) {\n",
       "      register_renderer(events, OutputArea);\n",
       "    }\n",
       "  }\n",
       "\n",
       "  \n",
       "  if (typeof (root._bokeh_timeout) === \"undefined\" || force === true) {\n",
       "    root._bokeh_timeout = Date.now() + 5000;\n",
       "    root._bokeh_failed_load = false;\n",
       "  }\n",
       "\n",
       "  var NB_LOAD_WARNING = {'data': {'text/html':\n",
       "     \"<div style='background-color: #fdd'>\\n\"+\n",
       "     \"<p>\\n\"+\n",
       "     \"BokehJS does not appear to have successfully loaded. If loading BokehJS from CDN, this \\n\"+\n",
       "     \"may be due to a slow or bad network connection. Possible fixes:\\n\"+\n",
       "     \"</p>\\n\"+\n",
       "     \"<ul>\\n\"+\n",
       "     \"<li>re-rerun `output_notebook()` to attempt to load from CDN again, or</li>\\n\"+\n",
       "     \"<li>use INLINE resources instead, as so:</li>\\n\"+\n",
       "     \"</ul>\\n\"+\n",
       "     \"<code>\\n\"+\n",
       "     \"from bokeh.resources import INLINE\\n\"+\n",
       "     \"output_notebook(resources=INLINE)\\n\"+\n",
       "     \"</code>\\n\"+\n",
       "     \"</div>\"}};\n",
       "\n",
       "  function display_loaded() {\n",
       "    var el = document.getElementById(\"1001\");\n",
       "    if (el != null) {\n",
       "      el.textContent = \"BokehJS is loading...\";\n",
       "    }\n",
       "    if (root.Bokeh !== undefined) {\n",
       "      if (el != null) {\n",
       "        el.textContent = \"BokehJS \" + root.Bokeh.version + \" successfully loaded.\";\n",
       "      }\n",
       "    } else if (Date.now() < root._bokeh_timeout) {\n",
       "      setTimeout(display_loaded, 100)\n",
       "    }\n",
       "  }\n",
       "\n",
       "\n",
       "  function run_callbacks() {\n",
       "    try {\n",
       "      root._bokeh_onload_callbacks.forEach(function(callback) {\n",
       "        if (callback != null)\n",
       "          callback();\n",
       "      });\n",
       "    } finally {\n",
       "      delete root._bokeh_onload_callbacks\n",
       "    }\n",
       "    console.debug(\"Bokeh: all callbacks have finished\");\n",
       "  }\n",
       "\n",
       "  function load_libs(css_urls, js_urls, callback) {\n",
       "    if (css_urls == null) css_urls = [];\n",
       "    if (js_urls == null) js_urls = [];\n",
       "\n",
       "    root._bokeh_onload_callbacks.push(callback);\n",
       "    if (root._bokeh_is_loading > 0) {\n",
       "      console.debug(\"Bokeh: BokehJS is being loaded, scheduling callback at\", now());\n",
       "      return null;\n",
       "    }\n",
       "    if (js_urls == null || js_urls.length === 0) {\n",
       "      run_callbacks();\n",
       "      return null;\n",
       "    }\n",
       "    console.debug(\"Bokeh: BokehJS not loaded, scheduling load and callback at\", now());\n",
       "    root._bokeh_is_loading = css_urls.length + js_urls.length;\n",
       "\n",
       "    function on_load() {\n",
       "      root._bokeh_is_loading--;\n",
       "      if (root._bokeh_is_loading === 0) {\n",
       "        console.debug(\"Bokeh: all BokehJS libraries/stylesheets loaded\");\n",
       "        run_callbacks()\n",
       "      }\n",
       "    }\n",
       "\n",
       "    function on_error() {\n",
       "      console.error(\"failed to load \" + url);\n",
       "    }\n",
       "\n",
       "    for (var i = 0; i < css_urls.length; i++) {\n",
       "      var url = css_urls[i];\n",
       "      const element = document.createElement(\"link\");\n",
       "      element.onload = on_load;\n",
       "      element.onerror = on_error;\n",
       "      element.rel = \"stylesheet\";\n",
       "      element.type = \"text/css\";\n",
       "      element.href = url;\n",
       "      console.debug(\"Bokeh: injecting link tag for BokehJS stylesheet: \", url);\n",
       "      document.body.appendChild(element);\n",
       "    }\n",
       "\n",
       "    for (var i = 0; i < js_urls.length; i++) {\n",
       "      var url = js_urls[i];\n",
       "      var element = document.createElement('script');\n",
       "      element.onload = on_load;\n",
       "      element.onerror = on_error;\n",
       "      element.async = false;\n",
       "      element.src = url;\n",
       "      console.debug(\"Bokeh: injecting script tag for BokehJS library: \", url);\n",
       "      document.head.appendChild(element);\n",
       "    }\n",
       "  };var element = document.getElementById(\"1001\");\n",
       "  if (element == null) {\n",
       "    console.error(\"Bokeh: ERROR: autoload.js configured with elementid '1001' but no matching script tag was found. \")\n",
       "    return false;\n",
       "  }\n",
       "\n",
       "  function inject_raw_css(css) {\n",
       "    const element = document.createElement(\"style\");\n",
       "    element.appendChild(document.createTextNode(css));\n",
       "    document.body.appendChild(element);\n",
       "  }\n",
       "\n",
       "  var js_urls = [\"https://cdn.pydata.org/bokeh/release/bokeh-1.3.4.min.js\", \"https://cdn.pydata.org/bokeh/release/bokeh-widgets-1.3.4.min.js\", \"https://cdn.pydata.org/bokeh/release/bokeh-tables-1.3.4.min.js\", \"https://cdn.pydata.org/bokeh/release/bokeh-gl-1.3.4.min.js\"];\n",
       "  var css_urls = [];\n",
       "\n",
       "  var inline_js = [\n",
       "    function(Bokeh) {\n",
       "      Bokeh.set_log_level(\"info\");\n",
       "    },\n",
       "    \n",
       "    function(Bokeh) {\n",
       "      \n",
       "    },\n",
       "    function(Bokeh) {} // ensure no trailing comma for IE\n",
       "  ];\n",
       "\n",
       "  function run_inline_js() {\n",
       "    \n",
       "    if ((root.Bokeh !== undefined) || (force === true)) {\n",
       "      for (var i = 0; i < inline_js.length; i++) {\n",
       "        inline_js[i].call(root, root.Bokeh);\n",
       "      }if (force === true) {\n",
       "        display_loaded();\n",
       "      }} else if (Date.now() < root._bokeh_timeout) {\n",
       "      setTimeout(run_inline_js, 100);\n",
       "    } else if (!root._bokeh_failed_load) {\n",
       "      console.log(\"Bokeh: BokehJS failed to load within specified timeout.\");\n",
       "      root._bokeh_failed_load = true;\n",
       "    } else if (force !== true) {\n",
       "      var cell = $(document.getElementById(\"1001\")).parents('.cell').data().cell;\n",
       "      cell.output_area.append_execute_result(NB_LOAD_WARNING)\n",
       "    }\n",
       "\n",
       "  }\n",
       "\n",
       "  if (root._bokeh_is_loading === 0) {\n",
       "    console.debug(\"Bokeh: BokehJS loaded, going straight to plotting\");\n",
       "    run_inline_js();\n",
       "  } else {\n",
       "    load_libs(css_urls, js_urls, function() {\n",
       "      console.debug(\"Bokeh: BokehJS plotting callback run at\", now());\n",
       "      run_inline_js();\n",
       "    });\n",
       "  }\n",
       "}(window));"
      ],
      "application/vnd.bokehjs_load.v0+json": "\n(function(root) {\n  function now() {\n    return new Date();\n  }\n\n  var force = true;\n\n  if (typeof root._bokeh_onload_callbacks === \"undefined\" || force === true) {\n    root._bokeh_onload_callbacks = [];\n    root._bokeh_is_loading = undefined;\n  }\n\n  \n\n  \n  if (typeof (root._bokeh_timeout) === \"undefined\" || force === true) {\n    root._bokeh_timeout = Date.now() + 5000;\n    root._bokeh_failed_load = false;\n  }\n\n  var NB_LOAD_WARNING = {'data': {'text/html':\n     \"<div style='background-color: #fdd'>\\n\"+\n     \"<p>\\n\"+\n     \"BokehJS does not appear to have successfully loaded. If loading BokehJS from CDN, this \\n\"+\n     \"may be due to a slow or bad network connection. Possible fixes:\\n\"+\n     \"</p>\\n\"+\n     \"<ul>\\n\"+\n     \"<li>re-rerun `output_notebook()` to attempt to load from CDN again, or</li>\\n\"+\n     \"<li>use INLINE resources instead, as so:</li>\\n\"+\n     \"</ul>\\n\"+\n     \"<code>\\n\"+\n     \"from bokeh.resources import INLINE\\n\"+\n     \"output_notebook(resources=INLINE)\\n\"+\n     \"</code>\\n\"+\n     \"</div>\"}};\n\n  function display_loaded() {\n    var el = document.getElementById(\"1001\");\n    if (el != null) {\n      el.textContent = \"BokehJS is loading...\";\n    }\n    if (root.Bokeh !== undefined) {\n      if (el != null) {\n        el.textContent = \"BokehJS \" + root.Bokeh.version + \" successfully loaded.\";\n      }\n    } else if (Date.now() < root._bokeh_timeout) {\n      setTimeout(display_loaded, 100)\n    }\n  }\n\n\n  function run_callbacks() {\n    try {\n      root._bokeh_onload_callbacks.forEach(function(callback) {\n        if (callback != null)\n          callback();\n      });\n    } finally {\n      delete root._bokeh_onload_callbacks\n    }\n    console.debug(\"Bokeh: all callbacks have finished\");\n  }\n\n  function load_libs(css_urls, js_urls, callback) {\n    if (css_urls == null) css_urls = [];\n    if (js_urls == null) js_urls = [];\n\n    root._bokeh_onload_callbacks.push(callback);\n    if (root._bokeh_is_loading > 0) {\n      console.debug(\"Bokeh: BokehJS is being loaded, scheduling callback at\", now());\n      return null;\n    }\n    if (js_urls == null || js_urls.length === 0) {\n      run_callbacks();\n      return null;\n    }\n    console.debug(\"Bokeh: BokehJS not loaded, scheduling load and callback at\", now());\n    root._bokeh_is_loading = css_urls.length + js_urls.length;\n\n    function on_load() {\n      root._bokeh_is_loading--;\n      if (root._bokeh_is_loading === 0) {\n        console.debug(\"Bokeh: all BokehJS libraries/stylesheets loaded\");\n        run_callbacks()\n      }\n    }\n\n    function on_error() {\n      console.error(\"failed to load \" + url);\n    }\n\n    for (var i = 0; i < css_urls.length; i++) {\n      var url = css_urls[i];\n      const element = document.createElement(\"link\");\n      element.onload = on_load;\n      element.onerror = on_error;\n      element.rel = \"stylesheet\";\n      element.type = \"text/css\";\n      element.href = url;\n      console.debug(\"Bokeh: injecting link tag for BokehJS stylesheet: \", url);\n      document.body.appendChild(element);\n    }\n\n    for (var i = 0; i < js_urls.length; i++) {\n      var url = js_urls[i];\n      var element = document.createElement('script');\n      element.onload = on_load;\n      element.onerror = on_error;\n      element.async = false;\n      element.src = url;\n      console.debug(\"Bokeh: injecting script tag for BokehJS library: \", url);\n      document.head.appendChild(element);\n    }\n  };var element = document.getElementById(\"1001\");\n  if (element == null) {\n    console.error(\"Bokeh: ERROR: autoload.js configured with elementid '1001' but no matching script tag was found. \")\n    return false;\n  }\n\n  function inject_raw_css(css) {\n    const element = document.createElement(\"style\");\n    element.appendChild(document.createTextNode(css));\n    document.body.appendChild(element);\n  }\n\n  var js_urls = [\"https://cdn.pydata.org/bokeh/release/bokeh-1.3.4.min.js\", \"https://cdn.pydata.org/bokeh/release/bokeh-widgets-1.3.4.min.js\", \"https://cdn.pydata.org/bokeh/release/bokeh-tables-1.3.4.min.js\", \"https://cdn.pydata.org/bokeh/release/bokeh-gl-1.3.4.min.js\"];\n  var css_urls = [];\n\n  var inline_js = [\n    function(Bokeh) {\n      Bokeh.set_log_level(\"info\");\n    },\n    \n    function(Bokeh) {\n      \n    },\n    function(Bokeh) {} // ensure no trailing comma for IE\n  ];\n\n  function run_inline_js() {\n    \n    if ((root.Bokeh !== undefined) || (force === true)) {\n      for (var i = 0; i < inline_js.length; i++) {\n        inline_js[i].call(root, root.Bokeh);\n      }if (force === true) {\n        display_loaded();\n      }} else if (Date.now() < root._bokeh_timeout) {\n      setTimeout(run_inline_js, 100);\n    } else if (!root._bokeh_failed_load) {\n      console.log(\"Bokeh: BokehJS failed to load within specified timeout.\");\n      root._bokeh_failed_load = true;\n    } else if (force !== true) {\n      var cell = $(document.getElementById(\"1001\")).parents('.cell').data().cell;\n      cell.output_area.append_execute_result(NB_LOAD_WARNING)\n    }\n\n  }\n\n  if (root._bokeh_is_loading === 0) {\n    console.debug(\"Bokeh: BokehJS loaded, going straight to plotting\");\n    run_inline_js();\n  } else {\n    load_libs(css_urls, js_urls, function() {\n      console.debug(\"Bokeh: BokehJS plotting callback run at\", now());\n      run_inline_js();\n    });\n  }\n}(window));"
     },
     "metadata": {},
     "output_type": "display_data"
    }
   ],
   "source": [
    "from sklearn.metrics import confusion_matrix\n",
    "from bokeh.io import show, output_notebook\n",
    "from bokeh.layouts import row\n",
    "from bokeh.plotting import figure\n",
    "output_notebook()"
   ]
  },
  {
   "cell_type": "code",
   "execution_count": 21,
   "metadata": {},
   "outputs": [],
   "source": [
    "labels = [\"😂\", \"😊\", \"😒\", \"😭\"] \n",
    "pred = model_1.predict(valid_data)\n",
    "y_true = np.argmax(valid_label, axis = 1)\n",
    "y_pred = np.argmax(pred, axis = 1)\n",
    "confusion_matrix_result = confusion_matrix(y_true, y_pred)"
   ]
  },
  {
   "cell_type": "code",
   "execution_count": 22,
   "metadata": {},
   "outputs": [],
   "source": [
    "def plot_confusion_matrix(labels, confusion_matrix_result):\n",
    "    print(\"Confusion matrix:\")\n",
    "    print(confusion_matrix_result)\n",
    "    num_max = np.max(confusion_matrix_result)\n",
    "    #num_min = np.min(confusion_matrix_result)\n",
    "    num_min = 0\n",
    "    xname = []\n",
    "    yname = []\n",
    "    color = []\n",
    "    alpha = []\n",
    "    count = []\n",
    "\n",
    "    for i, label_1 in enumerate(labels):\n",
    "        for j, label_2 in enumerate(labels):\n",
    "            xname.append(label_1)\n",
    "            yname.append(label_2)\n",
    "            color.append('#008000')\n",
    "            alpha.append((confusion_matrix_result[j, i] - num_min) / (num_max - num_min))\n",
    "            count.append(confusion_matrix_result[j, i])\n",
    "\n",
    "    data = dict(\n",
    "        xname = xname,\n",
    "        yname = yname,\n",
    "        colors = color,\n",
    "        alphas = alpha,\n",
    "        count = count,\n",
    "    )\n",
    "\n",
    "    p = figure(title = \"Confusion Matrix\",\n",
    "               x_axis_location = \"below\", tools = \"hover, save\",\n",
    "               x_range = labels, \n",
    "               y_range=list(reversed(labels)),\n",
    "               tooltips = [('True Label', '@yname'), \n",
    "                           ('Predicted Label', '@xname'),\n",
    "                           ('Count', '@count')])\n",
    "\n",
    "    p.plot_width = 400\n",
    "    p.plot_height = 400\n",
    "    p.grid.grid_line_color = None\n",
    "    p.axis.axis_line_color = None\n",
    "    p.axis.major_tick_line_color = None\n",
    "    p.axis.major_label_text_font_size = \"15pt\"\n",
    "    p.axis.major_label_standoff = 0\n",
    "    p.xaxis.axis_label = 'Predicted Label'\n",
    "    p.yaxis.axis_label = 'True Label'\n",
    "    \n",
    "    p.rect('xname', 'yname', 0.9, 0.9, source = data,\n",
    "           color =  'colors', alpha = 'alphas', line_color = None,\n",
    "           hover_line_color = 'black', hover_color = 'colors', \n",
    "           hover_alpha = 'alphas')\n",
    "\n",
    "    show(p, notebook_handle= True) # show the plot"
   ]
  },
  {
   "cell_type": "code",
   "execution_count": 23,
   "metadata": {},
   "outputs": [
    {
     "name": "stdout",
     "output_type": "stream",
     "text": [
      "Confusion matrix:\n",
      "[[1652  482  452  569]\n",
      " [ 511 2513  156  301]\n",
      " [ 602  196 1505  546]\n",
      " [ 702  418  521 2087]]\n"
     ]
    },
    {
     "data": {
      "text/html": [
       "\n",
       "\n",
       "\n",
       "\n",
       "\n",
       "\n",
       "  <div class=\"bk-root\" id=\"ea11300b-2ff9-4f46-9591-510ce1090144\" data-root-id=\"1002\"></div>\n"
      ]
     },
     "metadata": {},
     "output_type": "display_data"
    },
    {
     "data": {
      "application/javascript": [
       "(function(root) {\n",
       "  function embed_document(root) {\n",
       "    \n",
       "  var docs_json = {\"b0ba4a63-a421-4ac2-bef1-552d95aa4a31\":{\"roots\":{\"references\":[{\"attributes\":{\"below\":[{\"id\":\"1013\",\"type\":\"CategoricalAxis\"}],\"center\":[{\"id\":\"1016\",\"type\":\"Grid\"},{\"id\":\"1020\",\"type\":\"Grid\"}],\"left\":[{\"id\":\"1017\",\"type\":\"CategoricalAxis\"}],\"plot_height\":400,\"plot_width\":400,\"renderers\":[{\"id\":\"1031\",\"type\":\"GlyphRenderer\"}],\"title\":{\"id\":\"1003\",\"type\":\"Title\"},\"toolbar\":{\"id\":\"1023\",\"type\":\"Toolbar\"},\"x_range\":{\"id\":\"1005\",\"type\":\"FactorRange\"},\"x_scale\":{\"id\":\"1009\",\"type\":\"CategoricalScale\"},\"y_range\":{\"id\":\"1007\",\"type\":\"FactorRange\"},\"y_scale\":{\"id\":\"1011\",\"type\":\"CategoricalScale\"}},\"id\":\"1002\",\"subtype\":\"Figure\",\"type\":\"Plot\"},{\"attributes\":{\"fill_alpha\":{\"value\":0.1},\"fill_color\":{\"value\":\"#1f77b4\"},\"height\":{\"units\":\"data\",\"value\":0.9},\"line_alpha\":{\"value\":0.1},\"line_color\":{\"value\":\"#1f77b4\"},\"width\":{\"units\":\"data\",\"value\":0.9},\"x\":{\"field\":\"xname\"},\"y\":{\"field\":\"yname\"}},\"id\":\"1029\",\"type\":\"Rect\"},{\"attributes\":{\"callback\":null,\"factors\":[\"\\ud83d\\ude2d\",\"\\ud83d\\ude12\",\"\\ud83d\\ude0a\",\"\\ud83d\\ude02\"]},\"id\":\"1007\",\"type\":\"FactorRange\"},{\"attributes\":{},\"id\":\"1011\",\"type\":\"CategoricalScale\"},{\"attributes\":{\"axis_label\":\"Predicted Label\",\"axis_line_color\":{\"value\":null},\"formatter\":{\"id\":\"1035\",\"type\":\"CategoricalTickFormatter\"},\"major_label_standoff\":0,\"major_label_text_font_size\":{\"value\":\"15pt\"},\"major_tick_line_color\":{\"value\":null},\"ticker\":{\"id\":\"1014\",\"type\":\"CategoricalTicker\"}},\"id\":\"1013\",\"type\":\"CategoricalAxis\"},{\"attributes\":{\"fill_alpha\":{\"field\":\"alphas\"},\"fill_color\":{\"field\":\"colors\"},\"height\":{\"units\":\"data\",\"value\":0.9},\"line_alpha\":{\"field\":\"alphas\"},\"width\":{\"units\":\"data\",\"value\":0.9},\"x\":{\"field\":\"xname\"},\"y\":{\"field\":\"yname\"}},\"id\":\"1030\",\"type\":\"Rect\"},{\"attributes\":{},\"id\":\"1022\",\"type\":\"SaveTool\"},{\"attributes\":{\"text\":\"Confusion Matrix\"},\"id\":\"1003\",\"type\":\"Title\"},{\"attributes\":{\"callback\":null,\"tooltips\":[[\"True Label\",\"@yname\"],[\"Predicted Label\",\"@xname\"],[\"Count\",\"@count\"]]},\"id\":\"1021\",\"type\":\"HoverTool\"},{\"attributes\":{},\"id\":\"1018\",\"type\":\"CategoricalTicker\"},{\"attributes\":{},\"id\":\"1039\",\"type\":\"Selection\"},{\"attributes\":{\"data_source\":{\"id\":\"1026\",\"type\":\"ColumnDataSource\"},\"glyph\":{\"id\":\"1028\",\"type\":\"Rect\"},\"hover_glyph\":{\"id\":\"1030\",\"type\":\"Rect\"},\"muted_glyph\":null,\"nonselection_glyph\":{\"id\":\"1029\",\"type\":\"Rect\"},\"selection_glyph\":null,\"view\":{\"id\":\"1032\",\"type\":\"CDSView\"}},\"id\":\"1031\",\"type\":\"GlyphRenderer\"},{\"attributes\":{},\"id\":\"1035\",\"type\":\"CategoricalTickFormatter\"},{\"attributes\":{\"fill_alpha\":{\"field\":\"alphas\"},\"fill_color\":{\"field\":\"colors\"},\"height\":{\"units\":\"data\",\"value\":0.9},\"line_alpha\":{\"field\":\"alphas\"},\"line_color\":{\"value\":null},\"width\":{\"units\":\"data\",\"value\":0.9},\"x\":{\"field\":\"xname\"},\"y\":{\"field\":\"yname\"}},\"id\":\"1028\",\"type\":\"Rect\"},{\"attributes\":{\"active_drag\":\"auto\",\"active_inspect\":\"auto\",\"active_multi\":null,\"active_scroll\":\"auto\",\"active_tap\":\"auto\",\"tools\":[{\"id\":\"1021\",\"type\":\"HoverTool\"},{\"id\":\"1022\",\"type\":\"SaveTool\"}]},\"id\":\"1023\",\"type\":\"Toolbar\"},{\"attributes\":{},\"id\":\"1037\",\"type\":\"CategoricalTickFormatter\"},{\"attributes\":{},\"id\":\"1038\",\"type\":\"UnionRenderers\"},{\"attributes\":{\"callback\":null,\"data\":{\"alphas\":[0.6573816155988857,0.20334261838440112,0.2395543175487465,0.2793473935535217,0.1918026263430163,1.0,0.07799442896935933,0.1663350576999602,0.17986470354158376,0.06207719856744926,0.5988857938718662,0.20732192598487864,0.22642260246717072,0.11977715877437325,0.21727019498607242,0.8304814962196578],\"colors\":[\"#008000\",\"#008000\",\"#008000\",\"#008000\",\"#008000\",\"#008000\",\"#008000\",\"#008000\",\"#008000\",\"#008000\",\"#008000\",\"#008000\",\"#008000\",\"#008000\",\"#008000\",\"#008000\"],\"count\":[1652,511,602,702,482,2513,196,418,452,156,1505,521,569,301,546,2087],\"xname\":[\"\\ud83d\\ude02\",\"\\ud83d\\ude02\",\"\\ud83d\\ude02\",\"\\ud83d\\ude02\",\"\\ud83d\\ude0a\",\"\\ud83d\\ude0a\",\"\\ud83d\\ude0a\",\"\\ud83d\\ude0a\",\"\\ud83d\\ude12\",\"\\ud83d\\ude12\",\"\\ud83d\\ude12\",\"\\ud83d\\ude12\",\"\\ud83d\\ude2d\",\"\\ud83d\\ude2d\",\"\\ud83d\\ude2d\",\"\\ud83d\\ude2d\"],\"yname\":[\"\\ud83d\\ude02\",\"\\ud83d\\ude0a\",\"\\ud83d\\ude12\",\"\\ud83d\\ude2d\",\"\\ud83d\\ude02\",\"\\ud83d\\ude0a\",\"\\ud83d\\ude12\",\"\\ud83d\\ude2d\",\"\\ud83d\\ude02\",\"\\ud83d\\ude0a\",\"\\ud83d\\ude12\",\"\\ud83d\\ude2d\",\"\\ud83d\\ude02\",\"\\ud83d\\ude0a\",\"\\ud83d\\ude12\",\"\\ud83d\\ude2d\"]},\"selected\":{\"id\":\"1039\",\"type\":\"Selection\"},\"selection_policy\":{\"id\":\"1038\",\"type\":\"UnionRenderers\"}},\"id\":\"1026\",\"type\":\"ColumnDataSource\"},{\"attributes\":{\"dimension\":1,\"grid_line_color\":null,\"ticker\":{\"id\":\"1018\",\"type\":\"CategoricalTicker\"}},\"id\":\"1020\",\"type\":\"Grid\"},{\"attributes\":{\"axis_label\":\"True Label\",\"axis_line_color\":{\"value\":null},\"formatter\":{\"id\":\"1037\",\"type\":\"CategoricalTickFormatter\"},\"major_label_standoff\":0,\"major_label_text_font_size\":{\"value\":\"15pt\"},\"major_tick_line_color\":{\"value\":null},\"ticker\":{\"id\":\"1018\",\"type\":\"CategoricalTicker\"}},\"id\":\"1017\",\"type\":\"CategoricalAxis\"},{\"attributes\":{\"source\":{\"id\":\"1026\",\"type\":\"ColumnDataSource\"}},\"id\":\"1032\",\"type\":\"CDSView\"},{\"attributes\":{},\"id\":\"1009\",\"type\":\"CategoricalScale\"},{\"attributes\":{\"grid_line_color\":null,\"ticker\":{\"id\":\"1014\",\"type\":\"CategoricalTicker\"}},\"id\":\"1016\",\"type\":\"Grid\"},{\"attributes\":{\"callback\":null,\"factors\":[\"\\ud83d\\ude02\",\"\\ud83d\\ude0a\",\"\\ud83d\\ude12\",\"\\ud83d\\ude2d\"]},\"id\":\"1005\",\"type\":\"FactorRange\"},{\"attributes\":{},\"id\":\"1014\",\"type\":\"CategoricalTicker\"}],\"root_ids\":[\"1002\"]},\"title\":\"Bokeh Application\",\"version\":\"1.3.4\"}};\n",
       "  var render_items = [{\"docid\":\"b0ba4a63-a421-4ac2-bef1-552d95aa4a31\",\"notebook_comms_target\":\"1040\",\"roots\":{\"1002\":\"ea11300b-2ff9-4f46-9591-510ce1090144\"}}];\n",
       "  root.Bokeh.embed.embed_items_notebook(docs_json, render_items);\n",
       "\n",
       "  }\n",
       "  if (root.Bokeh !== undefined) {\n",
       "    embed_document(root);\n",
       "  } else {\n",
       "    var attempts = 0;\n",
       "    var timer = setInterval(function(root) {\n",
       "      if (root.Bokeh !== undefined) {\n",
       "        embed_document(root);\n",
       "        clearInterval(timer);\n",
       "      }\n",
       "      attempts++;\n",
       "      if (attempts > 100) {\n",
       "        console.log(\"Bokeh: ERROR: Unable to run BokehJS code because BokehJS library is missing\");\n",
       "        clearInterval(timer);\n",
       "      }\n",
       "    }, 10, root)\n",
       "  }\n",
       "})(window);"
      ],
      "application/vnd.bokehjs_exec.v0+json": ""
     },
     "metadata": {
      "application/vnd.bokehjs_exec.v0+json": {
       "id": "1002"
      }
     },
     "output_type": "display_data"
    }
   ],
   "source": [
    "plot_confusion_matrix(labels, confusion_matrix_result)"
   ]
  },
  {
   "cell_type": "markdown",
   "metadata": {},
   "source": [
    "## Show mislabelled examples"
   ]
  },
  {
   "cell_type": "code",
   "execution_count": 48,
   "metadata": {},
   "outputs": [],
   "source": [
    "import pandas as pd"
   ]
  },
  {
   "cell_type": "code",
   "execution_count": 47,
   "metadata": {},
   "outputs": [
    {
     "name": "stdout",
     "output_type": "stream",
     "text": [
      "5456 out of 13213 tweets are mispredicted in validation set\n"
     ]
    }
   ],
   "source": [
    "valid_index = np.load(\"data/valid_index.npy\")\n",
    "predict_index = np.concatenate((valid_index, y_pred.reshape(y_pred.shape[0], 1)), axis = 1)\n",
    "miss_predict_index = predict_index[y_true != y_pred]\n",
    "print(\"{} out of {} tweets are mispredicted in validation set\".format(miss_predict_index.shape[0], \n",
    "                                                                      predict_index.shape[0]))"
   ]
  },
  {
   "cell_type": "code",
   "execution_count": 49,
   "metadata": {},
   "outputs": [],
   "source": [
    "df_0 = pd.read_csv(\"data/clean/positive.csv\", encoding= \"utf-8\")\n",
    "df_1 = pd.read_csv(\"data/clean/slightly_positive.csv\", encoding= \"utf-8\")\n",
    "df_2 = pd.read_csv(\"data/clean/slightly_negative.csv\", encoding= \"utf-8\")\n",
    "df_3 = pd.read_csv(\"data/clean/negative.csv\", encoding= \"utf-8\")"
   ]
  },
  {
   "cell_type": "code",
   "execution_count": 66,
   "metadata": {},
   "outputs": [],
   "source": [
    "def show_example(index_list, labels):\n",
    "    idx = index_list[0]\n",
    "    label_true = index_list[1]\n",
    "    label_mispredict = index_list[2]\n",
    "    if label_true == 0:\n",
    "        text = df_0.text[idx]\n",
    "    elif label_true == 1:\n",
    "        text = df_1.text[idx]\n",
    "    elif label_true == 2:\n",
    "        text = df_2.text[idx]\n",
    "    elif label_true == 3:\n",
    "        text = df_3.text[idx]\n",
    "    print(\"Predict: {}\\tTrue: {}\\nText: {}\".format(labels[label_mispredict], labels[label_true], text))\n",
    "    print(\"---------------------------------------------------------\")"
   ]
  },
  {
   "cell_type": "code",
   "execution_count": 67,
   "metadata": {},
   "outputs": [
    {
     "name": "stdout",
     "output_type": "stream",
     "text": [
      "Predict: 😭\tTrue: 😒\n",
      "Text: i downloaded her album, and got bored ndingekafiki naku track 5 😒\n",
      "---------------------------------------------------------\n",
      "Predict: 😂\tTrue: 😭\n",
      "Text: @arubaology yes yall do djdjdjdjdj the us aau teams stay playing canadian ones 😭\n",
      "---------------------------------------------------------\n",
      "Predict: 😒\tTrue: 😂\n",
      "Text: Nonsense.....  kwankara is a tribal ethnic group\n",
      "does it put ants in your pants? 😂 https://t.co/wGXLeS1fAL\n",
      "---------------------------------------------------------\n",
      "Predict: 😂\tTrue: 😊\n",
      "Text: rochelleniehues was doing a Guessing Game And I Won 😊 https://t.co/cchGJm9DFj\n",
      "---------------------------------------------------------\n",
      "Predict: 😭\tTrue: 😒\n",
      "Text: my ppls have it hot asf in here ..let me turn my air on 😒\n",
      "---------------------------------------------------------\n",
      "Predict: 😭\tTrue: 😂\n",
      "Text: Idc if us bitches be roastin each other I️ just appreciate that they let each other finish 😂 https://t.co/LsvkZHm7V8\n",
      "---------------------------------------------------------\n",
      "Predict: 😭\tTrue: 😂\n",
      "Text: on god I️ was high asf tryna take care of yo ass 😂 https://t.co/CHwUKQdqZk\n",
      "---------------------------------------------------------\n",
      "Predict: 😭\tTrue: 😒\n",
      "Text: i really don’t wanna work tomorrow 😒\n",
      "---------------------------------------------------------\n",
      "Predict: 😂\tTrue: 😭\n",
      "Text: It really be the niggas. 😭 https://t.co/YIWcELUOE8\n",
      "---------------------------------------------------------\n",
      "Predict: 😂\tTrue: 😊\n",
      "Text: This guy 😊 he's witty, super smart, tells great dad jokes, is so cool that this is one of the… https://t.co/HoaF4l0bI0\n",
      "---------------------------------------------------------\n",
      "Predict: 😭\tTrue: 😂\n",
      "Text: @foolishfoolie Lmao please stop this 😂\n",
      "---------------------------------------------------------\n",
      "Predict: 😒\tTrue: 😂\n",
      "Text: @TheRealBozza @TheRunHome 3-1 is a loss. Even if you give an a away goal as 2, it's still a defeat 😂\n",
      "---------------------------------------------------------\n",
      "Predict: 😭\tTrue: 😂\n",
      "Text: @MannyMua733 I mean, it's fucked up, but I still want it 😂\n",
      "---------------------------------------------------------\n",
      "Predict: 😒\tTrue: 😭\n",
      "Text: @biebsshawty99 @SelenaFanClub it's always USA and London, ew. 😭\n",
      "---------------------------------------------------------\n",
      "Predict: 😭\tTrue: 😒\n",
      "Text: @breakkingground I️ wish I️ was. I️ have class 😒\n",
      "---------------------------------------------------------\n",
      "Predict: 😊\tTrue: 😭\n",
      "Text: @DIYSOS Every time! 😭 So inspirational. Well Done!!\n",
      "---------------------------------------------------------\n",
      "Predict: 😂\tTrue: 😒\n",
      "Text: #Repost lyndlkean\n",
      "・・・\n",
      "Are you talking to me? 😒 https://t.co/fvogzxmzf7\n",
      "---------------------------------------------------------\n",
      "Predict: 😊\tTrue: 😂\n",
      "Text: @realjasonsmash 😂 thanks my boy!\n",
      "---------------------------------------------------------\n",
      "Predict: 😭\tTrue: 😂\n",
      "Text: Y’all I️ had to pee so bad I️ almost peed on myself ! 😂\n",
      "---------------------------------------------------------\n",
      "Predict: 😂\tTrue: 😒\n",
      "Text: @philipoconnor Remember the time brendan said he thought preteen girls going to concert looked like sex workers. 😒 Sound.\n",
      "---------------------------------------------------------\n",
      "Predict: 😂\tTrue: 😒\n",
      "Text: @blushyouth What the hahahaha stop being a stingy girl ji 😒 how about New York's Plastic bag? Hahaha\n",
      "---------------------------------------------------------\n",
      "Predict: 😂\tTrue: 😒\n",
      "Text: @IndieWire He flashed his cock? 🙈 Oh my, lock him up and throw away the key! 😒 #Lame\n",
      "---------------------------------------------------------\n",
      "Predict: 😊\tTrue: 😒\n",
      "Text: Who’s still up? 😒\n",
      "---------------------------------------------------------\n",
      "Predict: 😒\tTrue: 😂\n",
      "Text: Trying to be laid up smoking a blunt with somebody son 😂\n",
      "---------------------------------------------------------\n",
      "Predict: 😊\tTrue: 😭\n",
      "Text: I had completely forgotten this drawing even existed but on the bright side it's going to be pretty easy to redraw it hahaha... 😭\n",
      "---------------------------------------------------------\n",
      "Predict: 😒\tTrue: 😭\n",
      "Text: Literally lost ALL my contacts 😭 like wtf 😩\n",
      "---------------------------------------------------------\n",
      "Predict: 😊\tTrue: 😂\n",
      "Text: @CLOgilvie @natornatalie 😂 love this!\n",
      "---------------------------------------------------------\n",
      "Predict: 😒\tTrue: 😭\n",
      "Text: If she is not wet it's your fault, if you can't get hard it's still your fault again 😭 https://t.co/nm5WeyD8iy\n",
      "---------------------------------------------------------\n",
      "Predict: 😂\tTrue: 😭\n",
      "Text: @sugaplumcris coming from you man 😭\n",
      "---------------------------------------------------------\n",
      "Predict: 😂\tTrue: 😭\n",
      "Text: @Masterofnone___ Girls say anything nowadays 😭\n",
      "---------------------------------------------------------\n"
     ]
    }
   ],
   "source": [
    "for i in np.random.choice(len(miss_predict_index), 30, replace=False):\n",
    "    show_example(miss_predict_index[i], labels)"
   ]
  }
 ],
 "metadata": {
  "kernelspec": {
   "display_name": "Python (ML)",
   "language": "python",
   "name": "ml"
  },
  "language_info": {
   "codemirror_mode": {
    "name": "ipython",
    "version": 3
   },
   "file_extension": ".py",
   "mimetype": "text/x-python",
   "name": "python",
   "nbconvert_exporter": "python",
   "pygments_lexer": "ipython3",
   "version": "3.6.9"
  }
 },
 "nbformat": 4,
 "nbformat_minor": 2
}
