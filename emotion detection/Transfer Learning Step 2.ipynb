{
 "cells": [
  {
   "cell_type": "markdown",
   "metadata": {},
   "source": [
    "## Train, Validation and Test Sets Split"
   ]
  },
  {
   "cell_type": "code",
   "execution_count": 1,
   "metadata": {},
   "outputs": [],
   "source": [
    "import numpy as np\n",
    "from sklearn.model_selection import train_test_split"
   ]
  },
  {
   "cell_type": "code",
   "execution_count": 2,
   "metadata": {},
   "outputs": [],
   "source": [
    "train_size = 0.8\n",
    "valid_size = 0.1\n",
    "test_size = 0.1\n",
    "random_state = 888\n",
    "total_labels = 4"
   ]
  },
  {
   "cell_type": "code",
   "execution_count": 3,
   "metadata": {},
   "outputs": [],
   "source": [
    "def train_valid_test_split(input_matrix, label, train_size, valid_size, test_size, \n",
    "                           random_state, total_labels):\n",
    "    n = input_matrix.shape[0]\n",
    "    X_train_idx, X_test_idx = train_test_split(list(range(n)), \n",
    "                                               test_size = valid_size + test_size, \n",
    "                                               random_state = random_state)\n",
    "    X_valid_idx, X_test_idx = train_test_split(X_test_idx, \n",
    "                                               test_size = test_size /(valid_size + test_size), \n",
    "                                               random_state = random_state)\n",
    "    # training set\n",
    "    X_train = input_matrix[X_train_idx]\n",
    "    Y_train = np.eye(total_labels, dtype=int)[np.repeat(label, len(X_train_idx))]\n",
    "    \n",
    "    # validation set\n",
    "    X_valid = input_matrix[X_valid_idx]\n",
    "    Y_valid = np.eye(total_labels, dtype=int)[np.repeat(label, len(X_valid_idx))]\n",
    "    \n",
    "    # test set\n",
    "    X_test = input_matrix[X_test_idx]\n",
    "    Y_test = np.eye(total_labels, dtype=int)[np.repeat(label, len(X_test_idx))]\n",
    "\n",
    "    return {\"X_train\": X_train, \n",
    "            \"Y_train\": Y_train, \n",
    "            \"X_valid\": X_valid, \n",
    "            \"Y_valid\": Y_valid, \n",
    "            \"X_test\": X_test, \n",
    "            \"Y_test\": Y_test,\n",
    "            \"train_idx\": X_train_idx,\n",
    "            \"valid_idx\": X_valid_idx,\n",
    "            \"test_idx\": X_test_idx}\n",
    "\n",
    "    "
   ]
  },
  {
   "cell_type": "code",
   "execution_count": 4,
   "metadata": {},
   "outputs": [],
   "source": [
    "splitted_data_0 = train_valid_test_split(np.load(\"data/X_positive.npy\"), \n",
    "                                         0, train_size, valid_size, test_size, \n",
    "                                         random_state, total_labels)\n",
    "splitted_data_1 = train_valid_test_split(np.load(\"data/X_slightly_positive.npy\"), \n",
    "                                         1, train_size, valid_size, test_size, \n",
    "                                         random_state, total_labels)\n",
    "splitted_data_2 = train_valid_test_split(np.load(\"data/X_slightly_negative.npy\"), \n",
    "                                         2, train_size, valid_size, test_size, \n",
    "                                         random_state, total_labels)\n",
    "splitted_data_3 = train_valid_test_split(np.load(\"data/X_negative.npy\"), \n",
    "                                         3, train_size, valid_size, test_size, \n",
    "                                         random_state, total_labels)"
   ]
  },
  {
   "cell_type": "markdown",
   "metadata": {},
   "source": [
    "## Save train data set"
   ]
  },
  {
   "cell_type": "code",
   "execution_count": 5,
   "metadata": {},
   "outputs": [],
   "source": [
    "train_data = np.concatenate((splitted_data_0.get(\"X_train\"),\n",
    "                             splitted_data_1.get(\"X_train\"),\n",
    "                             splitted_data_2.get(\"X_train\"),\n",
    "                             splitted_data_3.get(\"X_train\")), axis=0)\n",
    "train_label = np.concatenate((splitted_data_0.get(\"Y_train\"),\n",
    "                              splitted_data_1.get(\"Y_train\"),\n",
    "                              splitted_data_2.get(\"Y_train\"),\n",
    "                              splitted_data_3.get(\"Y_train\")), axis=0)\n",
    "train_index = np.concatenate((np.array(list(map(lambda x: [x,0], splitted_data_0.get(\"train_idx\")))),\n",
    "                              np.array(list(map(lambda x: [x,1], splitted_data_1.get(\"train_idx\")))),\n",
    "                              np.array(list(map(lambda x: [x,2], splitted_data_2.get(\"train_idx\")))),\n",
    "                              np.array(list(map(lambda x: [x,3], splitted_data_3.get(\"train_idx\"))))), axis=0)\n",
    "np.save(\"data/train_data.npy\", train_data)\n",
    "np.save(\"data/train_label.npy\", train_label)\n",
    "np.save(\"data/train_index.npy\", train_index)"
   ]
  },
  {
   "cell_type": "markdown",
   "metadata": {},
   "source": [
    "## Save valid data set"
   ]
  },
  {
   "cell_type": "code",
   "execution_count": 6,
   "metadata": {},
   "outputs": [],
   "source": [
    "valid_data = np.concatenate((splitted_data_0.get(\"X_valid\"),\n",
    "                             splitted_data_1.get(\"X_valid\"),\n",
    "                             splitted_data_2.get(\"X_valid\"),\n",
    "                             splitted_data_3.get(\"X_valid\")), axis=0)\n",
    "valid_label = np.concatenate((splitted_data_0.get(\"Y_valid\"),\n",
    "                              splitted_data_1.get(\"Y_valid\"),\n",
    "                              splitted_data_2.get(\"Y_valid\"),\n",
    "                              splitted_data_3.get(\"Y_valid\")), axis=0)\n",
    "valid_index = np.concatenate((np.array(list(map(lambda x: [x,0], splitted_data_0.get(\"valid_idx\")))),\n",
    "                              np.array(list(map(lambda x: [x,1], splitted_data_1.get(\"valid_idx\")))),\n",
    "                              np.array(list(map(lambda x: [x,2], splitted_data_2.get(\"valid_idx\")))),\n",
    "                              np.array(list(map(lambda x: [x,3], splitted_data_3.get(\"valid_idx\"))))), axis=0)\n",
    "np.save(\"data/valid_data.npy\", valid_data)\n",
    "np.save(\"data/valid_label.npy\", valid_label)\n",
    "np.save(\"data/valid_index.npy\", valid_index)"
   ]
  },
  {
   "cell_type": "markdown",
   "metadata": {},
   "source": [
    "## Save test data set"
   ]
  },
  {
   "cell_type": "code",
   "execution_count": 7,
   "metadata": {},
   "outputs": [],
   "source": [
    "test_data = np.concatenate((splitted_data_0.get(\"X_test\"),\n",
    "                             splitted_data_1.get(\"X_test\"),\n",
    "                             splitted_data_2.get(\"X_test\"),\n",
    "                             splitted_data_3.get(\"X_test\")), axis=0)\n",
    "test_label = np.concatenate((splitted_data_0.get(\"Y_test\"),\n",
    "                              splitted_data_1.get(\"Y_test\"),\n",
    "                              splitted_data_2.get(\"Y_test\"),\n",
    "                              splitted_data_3.get(\"Y_test\")), axis=0)\n",
    "test_index = np.concatenate((np.array(list(map(lambda x: [x,0], splitted_data_0.get(\"train_idx\")))),\n",
    "                             np.array(list(map(lambda x: [x,1], splitted_data_1.get(\"train_idx\")))),\n",
    "                             np.array(list(map(lambda x: [x,2], splitted_data_2.get(\"train_idx\")))),\n",
    "                             np.array(list(map(lambda x: [x,3], splitted_data_3.get(\"train_idx\"))))), axis=0)\n",
    "np.save(\"data/test_data.npy\", test_data)\n",
    "np.save(\"data/test_label.npy\", test_label)\n",
    "np.save(\"data/test_index.npy\", test_index)"
   ]
  }
 ],
 "metadata": {
  "kernelspec": {
   "display_name": "Python [conda env:ML]",
   "language": "python",
   "name": "conda-env-ML-py"
  },
  "language_info": {
   "codemirror_mode": {
    "name": "ipython",
    "version": 3
   },
   "file_extension": ".py",
   "mimetype": "text/x-python",
   "name": "python",
   "nbconvert_exporter": "python",
   "pygments_lexer": "ipython3",
   "version": "3.6.9"
  }
 },
 "nbformat": 4,
 "nbformat_minor": 2
}
